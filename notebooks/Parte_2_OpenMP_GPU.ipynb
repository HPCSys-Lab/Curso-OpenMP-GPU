{
  "nbformat": 4,
  "nbformat_minor": 0,
  "metadata": {
    "colab": {
      "provenance": []
    },
    "kernelspec": {
      "name": "python3",
      "display_name": "Python 3"
    },
    "language_info": {
      "name": "python"
    },
    "accelerator": "GPU"
  },
  "cells": [
    {
      "cell_type": "markdown",
      "source": [
        "# Programe sua GPU com OpenMP\n",
        "\n",
        "Autores:\n",
        "_Hermes Senger_ e\n",
        "_Jaime Freire de Souza_\n",
        "\n",
        "## Configuração do ambiente\n",
        "\n",
        "Precisaremos de um compilador capaz de gerar código executável para GPUs.\n"
      ],
      "metadata": {
        "id": "kBbK2dQW3QYd"
      }
    },
    {
      "cell_type": "code",
      "execution_count": 15,
      "metadata": {
        "colab": {
          "base_uri": "https://localhost:8080/"
        },
        "id": "q3og1sYm1n51",
        "outputId": "77b731e2-5d8f-40ae-80b3-d1392753c7a5"
      },
      "outputs": [
        {
          "output_type": "stream",
          "name": "stdout",
          "text": [
            "'/usr/local/cuda' -> '/usr/local/cuda-11/'\n",
            "Requirement already satisfied: matplotlib in /usr/local/lib/python3.10/dist-packages (3.7.1)\n",
            "Requirement already satisfied: numpy in /usr/local/lib/python3.10/dist-packages (1.22.4)\n",
            "Requirement already satisfied: contourpy>=1.0.1 in /usr/local/lib/python3.10/dist-packages (from matplotlib) (1.1.0)\n",
            "Requirement already satisfied: cycler>=0.10 in /usr/local/lib/python3.10/dist-packages (from matplotlib) (0.11.0)\n",
            "Requirement already satisfied: fonttools>=4.22.0 in /usr/local/lib/python3.10/dist-packages (from matplotlib) (4.40.0)\n",
            "Requirement already satisfied: kiwisolver>=1.0.1 in /usr/local/lib/python3.10/dist-packages (from matplotlib) (1.4.4)\n",
            "Requirement already satisfied: packaging>=20.0 in /usr/local/lib/python3.10/dist-packages (from matplotlib) (23.1)\n",
            "Requirement already satisfied: pillow>=6.2.0 in /usr/local/lib/python3.10/dist-packages (from matplotlib) (8.4.0)\n",
            "Requirement already satisfied: pyparsing>=2.3.1 in /usr/local/lib/python3.10/dist-packages (from matplotlib) (3.1.0)\n",
            "Requirement already satisfied: python-dateutil>=2.7 in /usr/local/lib/python3.10/dist-packages (from matplotlib) (2.8.2)\n",
            "Requirement already satisfied: six>=1.5 in /usr/local/lib/python3.10/dist-packages (from python-dateutil>=2.7->matplotlib) (1.16.0)\n",
            "--2023-07-16 18:23:05--  https://openmp-course.s3.amazonaws.com/llvm.tar.gz\n",
            "Resolving openmp-course.s3.amazonaws.com (openmp-course.s3.amazonaws.com)... 3.5.16.172, 16.182.40.81, 54.231.194.233, ...\n",
            "Connecting to openmp-course.s3.amazonaws.com (openmp-course.s3.amazonaws.com)|3.5.16.172|:443... connected.\n",
            "HTTP request sent, awaiting response... 200 OK\n",
            "Length: 810538565 (773M) [application/x-gzip]\n",
            "Saving to: ‘llvm.tar.gz.1’\n",
            "\n",
            "llvm.tar.gz.1       100%[===================>] 772.99M  58.3MB/s    in 13s     \n",
            "\n",
            "2023-07-16 18:23:18 (59.0 MB/s) - ‘llvm.tar.gz.1’ saved [810538565/810538565]\n",
            "\n",
            "  ------------  Terminou a instalação! Pode continuar  ------------------\n"
          ]
        },
        {
          "output_type": "execute_result",
          "data": {
            "text/plain": []
          },
          "metadata": {},
          "execution_count": 15
        }
      ],
      "source": [
        "%%shell\n",
        "\n",
        "ln -sfnv /usr/local/cuda-11/ /usr/local/cuda\n",
        "\n",
        "pip install matplotlib numpy\n",
        "\n",
        "wget https://openmp-course.s3.amazonaws.com/llvm.tar.gz\n",
        "\n",
        "tar -xzvf llvm.tar.gz >/dev/null 2>&1\n",
        "\n",
        "echo \"  ------------  Terminou a instalação! Pode continuar  ------------------\""
      ]
    },
    {
      "cell_type": "code",
      "source": [
        "import os\n",
        "\n",
        "os.environ['LLVM_PATH'] = '/content/llvm'\n",
        "os.environ['PATH'] = os.environ['LLVM_PATH'] + '/bin:' + os.environ['PATH']\n",
        "os.environ['LD_LIBRARY_PATH'] = os.environ['LLVM_PATH'] + '/lib:' + os.environ['LD_LIBRARY_PATH']\n",
        "os.environ['TSAN_OPTIONS'] = 'ignore_noninstrumented_modules=1'"
      ],
      "metadata": {
        "id": "lhrUpNNi7ken"
      },
      "execution_count": 2,
      "outputs": []
    },
    {
      "cell_type": "markdown",
      "source": [
        "\n",
        "Vamos testar nosso ambiente de programação."
      ],
      "metadata": {
        "id": "bkhWQSVHjmXP"
      }
    },
    {
      "cell_type": "markdown",
      "source": [
        "Vamos verificar o modelo de GPU alocada."
      ],
      "metadata": {
        "id": "fnWo2aV_jzyC"
      }
    },
    {
      "cell_type": "code",
      "source": [
        "!nvidia-smi"
      ],
      "metadata": {
        "colab": {
          "base_uri": "https://localhost:8080/"
        },
        "id": "EkDZeg8ej01I",
        "outputId": "d52e63bb-a95d-40d7-9fb8-ce1cd3f0a96e"
      },
      "execution_count": 3,
      "outputs": [
        {
          "output_type": "stream",
          "name": "stdout",
          "text": [
            "Sun Jul 16 18:15:37 2023       \n",
            "+-----------------------------------------------------------------------------+\n",
            "| NVIDIA-SMI 525.105.17   Driver Version: 525.105.17   CUDA Version: 12.0     |\n",
            "|-------------------------------+----------------------+----------------------+\n",
            "| GPU  Name        Persistence-M| Bus-Id        Disp.A | Volatile Uncorr. ECC |\n",
            "| Fan  Temp  Perf  Pwr:Usage/Cap|         Memory-Usage | GPU-Util  Compute M. |\n",
            "|                               |                      |               MIG M. |\n",
            "|===============================+======================+======================|\n",
            "|   0  Tesla T4            Off  | 00000000:00:04.0 Off |                    0 |\n",
            "| N/A   58C    P8    12W /  70W |      0MiB / 15360MiB |      0%      Default |\n",
            "|                               |                      |                  N/A |\n",
            "+-------------------------------+----------------------+----------------------+\n",
            "                                                                               \n",
            "+-----------------------------------------------------------------------------+\n",
            "| Processes:                                                                  |\n",
            "|  GPU   GI   CI        PID   Type   Process name                  GPU Memory |\n",
            "|        ID   ID                                                   Usage      |\n",
            "|=============================================================================|\n",
            "|  No running processes found                                                 |\n",
            "+-----------------------------------------------------------------------------+\n"
          ]
        }
      ]
    },
    {
      "cell_type": "markdown",
      "source": [
        "\n",
        "#  Equação da onda - Versão 0.1 (serial)\n",
        "\n",
        "\n",
        "Versão serial\n"
      ],
      "metadata": {
        "id": "Meg61W0NkC_I"
      }
    },
    {
      "cell_type": "code",
      "source": [
        "%%writefile wave_serial.c\n",
        "\n",
        "#include <stdio.h>\n",
        "#include <stdlib.h>\n",
        "#include <time.h>\n",
        "#include <sys/time.h>\n",
        "\n",
        "#define DT 0.002f // delta t\n",
        "#define DZ 20.0f // delta z\n",
        "#define DX 20.0f // delta x\n",
        "#define V 1500.0f // wave velocity v = 1500 m/s\n",
        "\n",
        "//save the matrix on a file.txt\n",
        "void save_grid(size_t nz, size_t nx, double *grid){\n",
        "\n",
        "    system(\"mkdir -p wavefield\");\n",
        "\n",
        "    char file_name[32];\n",
        "    sprintf(file_name, \"wavefield/wavefield.txt\");\n",
        "\n",
        "    // save the result\n",
        "    FILE *file;\n",
        "    file = fopen(file_name, \"w\");\n",
        "\n",
        "    for(size_t i = 1; i < nz - 1; i++) {\n",
        "\n",
        "        size_t offset = i * nx;\n",
        "\n",
        "        for(size_t j = 1; j < nx - 1; j++) {\n",
        "            fprintf(file, \"%f \", grid[offset + j]);\n",
        "        }\n",
        "        fprintf(file, \"\\n\");\n",
        "    }\n",
        "\n",
        "    fclose(file);\n",
        "}\n",
        "\n",
        "int main(int argc, char* argv[]) {\n",
        "\n",
        "    // validate the parameters\n",
        "    if(argc != 4){\n",
        "        printf(\"Usage: ./stencil N1 N2 ITERATIONS\\n\");\n",
        "        printf(\"N1 N2: grid sizes for the stencil\\n\");\n",
        "        printf(\"ITERATIONS: number of timesteps\\n\");\n",
        "        exit(-1);\n",
        "    }\n",
        "\n",
        "    // number of rows of the grid\n",
        "    size_t nz = atoi(argv[1]);\n",
        "\n",
        "    // number of columns of the grid\n",
        "    size_t nx = atoi(argv[2]);\n",
        "\n",
        "    // number of timesteps\n",
        "    size_t iterations = atoi(argv[3]);\n",
        "\n",
        "    printf(\"Grid Sizes: %ld x %ld\\n\", nz, nx);\n",
        "    printf(\"Iterations: %ld\\n\", iterations);\n",
        "\n",
        "    // add the spatial order (halo zone) to the grid size\n",
        "    nz += 2;\n",
        "    nx += 2;\n",
        "\n",
        "    // represent the matrix of wavefield as an array\n",
        "    double *prev_u = (double*) malloc(nz * nx * sizeof(double));\n",
        "    double *next_u = (double*) malloc(nz * nx * sizeof(double));\n",
        "\n",
        "    // represent the matrix of velocities as an array\n",
        "    double *vel_model = (double*) malloc(nz * nx * sizeof(double));\n",
        "\n",
        "    // ************* BEGIN INITIALIZATION *************\n",
        "\n",
        "    printf(\"Initializing ... \\n\");\n",
        "\n",
        "    // initialize matrix\n",
        "    for(size_t i = 0; i < nz; i++){\n",
        "\n",
        "        size_t offset = i * nx;\n",
        "\n",
        "        for(size_t j = 0; j < nx; j++){\n",
        "            prev_u[offset + j] = 0.0;\n",
        "            next_u[offset + j] = 0.0;\n",
        "            vel_model[offset + j] = V;\n",
        "        }\n",
        "    }\n",
        "\n",
        "    // add a source to initial wavefield as an initial condition\n",
        "    double val = 1.f;\n",
        "    for(int s = 4; s >= 0; s--){\n",
        "        for(size_t i = nz / 2 - s; i < nz / 2 + s; i++){\n",
        "\n",
        "            size_t offset = i * nx;\n",
        "\n",
        "            for(size_t j = nx / 2 - s; j < nx / 2 + s; j++)\n",
        "                prev_u[offset + j] = val;\n",
        "        }\n",
        "        val *= 0.9;\n",
        "    }\n",
        "\n",
        "    // ************** END INITIALIZATION **************\n",
        "\n",
        "    printf(\"Computing wavefield ... \\n\");\n",
        "\n",
        "    double dzSquared = DZ * DZ;\n",
        "    double dxSquared = DX * DX;\n",
        "    double dtSquared = DT * DT;\n",
        "\n",
        "    // variable to measure execution time\n",
        "    struct timeval time_start;\n",
        "    struct timeval time_end;\n",
        "\n",
        "    // get the start time\n",
        "    gettimeofday(&time_start, NULL);\n",
        "\n",
        "    // wavefield modeling\n",
        "    for(size_t n = 0; n < iterations; n++) {\n",
        "\n",
        "        for(size_t i = 1; i < nz - 1; i++) {\n",
        "            for(size_t j = 1; j < nx - 1; j++) {\n",
        "                // index of the current point in the grid\n",
        "                size_t current = i * nx + j;\n",
        "\n",
        "                //neighbors in the horizontal direction\n",
        "                double value = (prev_u[current + 1] - 2.0 * prev_u[current] + prev_u[current - 1]) / dxSquared;\n",
        "                //neighbors in the vertical direction\n",
        "                value += (prev_u[current + nx] - 2.0 * prev_u[current] + prev_u[current - nx]) / dzSquared;\n",
        "\n",
        "                value *= dtSquared * vel_model[current] * vel_model[current];\n",
        "                next_u[current] = 2.0 * prev_u[current] - next_u[current] + value;\n",
        "            }\n",
        "        }\n",
        "\n",
        "        // swap arrays for next iteration\n",
        "        double *swap = next_u;\n",
        "        next_u = prev_u;\n",
        "        prev_u = swap;\n",
        "    }\n",
        "\n",
        "    // get the end time\n",
        "    gettimeofday(&time_end, NULL);\n",
        "\n",
        "    double exec_time = (double) (time_end.tv_sec - time_start.tv_sec) + (double) (time_end.tv_usec - time_start.tv_usec) / 1000000.0;\n",
        "\n",
        "    save_grid(nz, nx, next_u);\n",
        "\n",
        "    printf(\"Iterations completed in %f seconds \\n\", exec_time);\n",
        "\n",
        "    free(prev_u);\n",
        "    free(next_u);\n",
        "    free(vel_model);\n",
        "\n",
        "    return 0;\n",
        "}"
      ],
      "metadata": {
        "colab": {
          "base_uri": "https://localhost:8080/"
        },
        "id": "bXZCW6Xp2nCq",
        "outputId": "649e9a75-6bd1-42a5-cb87-cd0e46ca9d01"
      },
      "execution_count": 4,
      "outputs": [
        {
          "output_type": "stream",
          "name": "stdout",
          "text": [
            "Writing wave_serial.c\n"
          ]
        }
      ]
    },
    {
      "cell_type": "code",
      "source": [
        "%%shell\n",
        "\n",
        "clang -O3 wave_serial.c -o wave_serial"
      ],
      "metadata": {
        "colab": {
          "base_uri": "https://localhost:8080/"
        },
        "id": "aaLaXxEL2p35",
        "outputId": "2196fce1-d840-41e6-a660-b1edba2e3cb4"
      },
      "execution_count": 5,
      "outputs": [
        {
          "output_type": "execute_result",
          "data": {
            "text/plain": []
          },
          "metadata": {},
          "execution_count": 5
        }
      ]
    },
    {
      "cell_type": "code",
      "source": [
        "%%shell\n",
        "\n",
        "./wave_serial 1024 1024 2000"
      ],
      "metadata": {
        "colab": {
          "base_uri": "https://localhost:8080/"
        },
        "id": "3Cx06zv95nQu",
        "outputId": "8a7cc1d9-f2ba-4c14-ada2-1db4ab6e1bad"
      },
      "execution_count": 6,
      "outputs": [
        {
          "output_type": "stream",
          "name": "stdout",
          "text": [
            "Grid Sizes: 1024 x 1024\n",
            "Iterations: 2000\n",
            "Initializing ... \n",
            "Computing wavefield ... \n",
            "Iterations completed in 8.258730 seconds \n"
          ]
        },
        {
          "output_type": "execute_result",
          "data": {
            "text/plain": []
          },
          "metadata": {},
          "execution_count": 6
        }
      ]
    },
    {
      "cell_type": "code",
      "source": [
        "import numpy as np\n",
        "import matplotlib.pyplot as plt\n",
        "\n",
        "# read the input (wavefield N x M) file\n",
        "input = np.loadtxt('wavefield/wavefield.txt')\n",
        "\n",
        "# process data e generate the plot\n",
        "plt.imshow(input)\n",
        "plt.show()"
      ],
      "metadata": {
        "colab": {
          "base_uri": "https://localhost:8080/",
          "height": 435
        },
        "id": "W_CRUP77_zot",
        "outputId": "1f442e56-3e6e-483a-fb4f-d3c6d0c48364"
      },
      "execution_count": 7,
      "outputs": [
        {
          "output_type": "display_data",
          "data": {
            "text/plain": [
              "<Figure size 640x480 with 1 Axes>"
            ],
            "image/png": "[encoded data removed]"
          },
          "metadata": {}
        }
      ]
    },
    {
      "cell_type": "markdown",
      "source": [
        "\n",
        "#  Equação da onda - Versão 1 (thread team)\n",
        "\n",
        "\n",
        "Versão serial\n"
      ],
      "metadata": {
        "id": "Gb56_iR6Lmou"
      }
    },
    {
      "cell_type": "code",
      "source": [
        "%%writefile wave_gpu.c\n",
        "\n",
        "#include <stdio.h>\n",
        "#include <stdlib.h>\n",
        "#include <time.h>\n",
        "#include <sys/time.h>\n",
        "#include <omp.h>\n",
        "\n",
        "#define DT 0.002f // delta t\n",
        "#define DZ 20.0f // delta z\n",
        "#define DX 20.0f // delta x\n",
        "#define V 1500.0f // wave velocity v = 1500 m/s\n",
        "\n",
        "//save the matrix on a file.txt\n",
        "void save_grid(size_t nz, size_t nx, double *grid){\n",
        "\n",
        "    system(\"mkdir -p wavefield\");\n",
        "\n",
        "    char file_name[32];\n",
        "    sprintf(file_name, \"wavefield/wavefield.txt\");\n",
        "\n",
        "    // save the result\n",
        "    FILE *file;\n",
        "    file = fopen(file_name, \"w\");\n",
        "\n",
        "    for(size_t i = 1; i < nz - 1; i++) {\n",
        "\n",
        "        size_t offset = i * nx;\n",
        "\n",
        "        for(size_t j = 1; j < nx - 1; j++) {\n",
        "            fprintf(file, \"%f \", grid[offset + j]);\n",
        "        }\n",
        "        fprintf(file, \"\\n\");\n",
        "    }\n",
        "\n",
        "    fclose(file);\n",
        "}\n",
        "\n",
        "int main(int argc, char* argv[]) {\n",
        "\n",
        "    // validate the parameters\n",
        "    if(argc != 4){\n",
        "        printf(\"Usage: ./stencil N1 N2 ITERATIONS\\n\");\n",
        "        printf(\"N1 N2: grid sizes for the stencil\\n\");\n",
        "        printf(\"ITERATIONS: number of timesteps\\n\");\n",
        "        exit(-1);\n",
        "    }\n",
        "\n",
        "    // number of rows of the grid\n",
        "    size_t nz = atoi(argv[1]);\n",
        "\n",
        "    // number of columns of the grid\n",
        "    size_t nx = atoi(argv[2]);\n",
        "\n",
        "    // number of timesteps\n",
        "    size_t iterations = atoi(argv[3]);\n",
        "\n",
        "    printf(\"Grid Sizes: %ld x %ld\\n\", nz, nx);\n",
        "    printf(\"Iterations: %ld\\n\", iterations);\n",
        "\n",
        "    // add the spatial order (halo zone) to the grid size\n",
        "    nz += 2;\n",
        "    nx += 2;\n",
        "\n",
        "    // represent the matrix of wavefield as an array\n",
        "    double *prev_u = (double*) malloc(nz * nx * sizeof(double));\n",
        "    double *next_u = (double*) malloc(nz * nx * sizeof(double));\n",
        "\n",
        "    // represent the matrix of velocities as an array\n",
        "    double *vel_model = (double*) malloc(nz * nx * sizeof(double));\n",
        "\n",
        "    // ************* BEGIN INITIALIZATION *************\n",
        "\n",
        "    printf(\"Initializing ... \\n\");\n",
        "\n",
        "    // initialize matrix\n",
        "    for(size_t i = 0; i < nz; i++){\n",
        "\n",
        "        size_t offset = i * nx;\n",
        "\n",
        "        for(size_t j = 0; j < nx; j++){\n",
        "            prev_u[offset + j] = 0.0;\n",
        "            next_u[offset + j] = 0.0;\n",
        "            vel_model[offset + j] = V;\n",
        "        }\n",
        "    }\n",
        "\n",
        "    // add a source to initial wavefield as an initial condition\n",
        "    double val = 1.f;\n",
        "    for(int s = 4; s >= 0; s--){\n",
        "        for(size_t i = nz / 2 - s; i < nz / 2 + s; i++){\n",
        "\n",
        "            size_t offset = i * nx;\n",
        "\n",
        "            for(size_t j = nx / 2 - s; j < nx / 2 + s; j++)\n",
        "                prev_u[offset + j] = val;\n",
        "        }\n",
        "        val *= 0.9;\n",
        "    }\n",
        "\n",
        "    // ************** END INITIALIZATION **************\n",
        "\n",
        "    printf(\"Computing wavefield ... \\n\");\n",
        "\n",
        "    double dzSquared = DZ * DZ;\n",
        "    double dxSquared = DX * DX;\n",
        "    double dtSquared = DT * DT;\n",
        "\n",
        "    // variable to measure execution time\n",
        "    struct timeval time_start;\n",
        "    struct timeval time_end;\n",
        "\n",
        "    // get the start time\n",
        "    gettimeofday(&time_start, NULL);\n",
        "\n",
        "    #pragma omp target enter data map(to: prev_u[:(nz * nx)])\n",
        "    #pragma omp target enter data map(to: next_u[:(nz * nx)])\n",
        "    #pragma omp target enter data map(to: vel_model[:(nz * nx)])\n",
        "\n",
        "    // wavefield modeling\n",
        "    for(size_t n = 0; n < iterations; n++) {\n",
        "\n",
        "        #pragma omp target teams distribute parallel for collapse(2)\n",
        "        for(size_t i = 1; i < nz - 1; i++) {\n",
        "            for(size_t j = 1; j < nx - 1; j++) {\n",
        "                // index of the current point in the grid\n",
        "                size_t current = i * nx + j;\n",
        "\n",
        "                //neighbors in the horizontal direction\n",
        "                double value = (prev_u[current + 1] - 2.0 * prev_u[current] + prev_u[current - 1]) / dxSquared;\n",
        "                //neighbors in the vertical direction\n",
        "                value += (prev_u[current + nx] - 2.0 * prev_u[current] + prev_u[current - nx]) / dzSquared;\n",
        "\n",
        "                value *= dtSquared * vel_model[current] * vel_model[current];\n",
        "                next_u[current] = 2.0 * prev_u[current] - next_u[current] + value;\n",
        "            }\n",
        "        }\n",
        "\n",
        "        // swap arrays for next iteration\n",
        "        double *swap = next_u;\n",
        "        next_u = prev_u;\n",
        "        prev_u = swap;\n",
        "    }\n",
        "\n",
        "    #pragma omp target exit data map(from: next_u[:(nz * nx)])\n",
        "\n",
        "    // get the end time\n",
        "    gettimeofday(&time_end, NULL);\n",
        "\n",
        "    double exec_time = (double) (time_end.tv_sec - time_start.tv_sec) + (double) (time_end.tv_usec - time_start.tv_usec) / 1000000.0;\n",
        "\n",
        "    save_grid(nz, nx, next_u);\n",
        "\n",
        "    printf(\"Iterations completed in %f seconds \\n\", exec_time);\n",
        "\n",
        "    free(prev_u);\n",
        "    free(next_u);\n",
        "    free(vel_model);\n",
        "\n",
        "    return 0;\n",
        "}"
      ],
      "metadata": {
        "colab": {
          "base_uri": "https://localhost:8080/"
        },
        "id": "Kl4wUFAIN9DV",
        "outputId": "1b4edbca-1143-4d8d-e519-2c29c17c06e2"
      },
      "execution_count": 8,
      "outputs": [
        {
          "output_type": "stream",
          "name": "stdout",
          "text": [
            "Writing wave_gpu.c\n"
          ]
        }
      ]
    },
    {
      "cell_type": "code",
      "source": [
        "%%shell\n",
        "\n",
        "clang -O3 -fopenmp -fopenmp-targets=nvptx64-nvidia-cuda -Xopenmp-target -march=sm_75 wave_gpu.c -o wave_gpu\n",
        "\n",
        "./wave_gpu 1024 1024 2000"
      ],
      "metadata": {
        "colab": {
          "base_uri": "https://localhost:8080/"
        },
        "id": "QhJY58qNOCRb",
        "outputId": "60cade89-0557-412b-b0e9-8a35f4848355"
      },
      "execution_count": 17,
      "outputs": [
        {
          "output_type": "stream",
          "name": "stdout",
          "text": [
            "clang-13: \u001b[0;1;35mwarning: \u001b[0m\u001b[1mUnknown CUDA version. cuda.h: CUDA_VERSION=11080. Assuming the latest supported version 10.1 [-Wunknown-cuda-version]\u001b[0m\n",
            "Grid Sizes: 1024 x 1024\n",
            "Iterations: 2000\n",
            "Initializing ... \n",
            "Computing wavefield ... \n",
            "Iterations completed in 1.381974 seconds \n"
          ]
        },
        {
          "output_type": "execute_result",
          "data": {
            "text/plain": []
          },
          "metadata": {},
          "execution_count": 17
        }
      ]
    },
    {
      "cell_type": "code",
      "source": [],
      "metadata": {
        "id": "sf1t5bMY76ca"
      },
      "execution_count": null,
      "outputs": []
    }
  ]
}