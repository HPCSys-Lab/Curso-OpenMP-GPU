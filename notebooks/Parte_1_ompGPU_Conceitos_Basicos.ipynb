{
 "cells": [
  {
   "cell_type": "markdown",
   "metadata": {
    "id": "kBbK2dQW3QYd"
   },
   "source": [
    "# Programe sua GPU com OpenMP\n",
    "\n",
    "Autores: \n",
    "_Hermes Senger_ e\n",
    "_Jaime Freire de Souza_\n",
    "\n",
    "Data de criação:     16/04/2022   \n",
    "Última modificação:     \n",
    "\n",
    "## Configuração do ambiente\n",
    "\n",
    "Precisaremos de um compilador capaz de gerar código executável para GPUs. \n"
   ]
  },
  {
   "cell_type": "code",
   "execution_count": null,
   "metadata": {
    "colab": {
     "base_uri": "https://localhost:8080/"
    },
    "id": "q3og1sYm1n51",
    "outputId": "48febdf2-8afb-4495-8859-57185fbf6da5"
   },
   "outputs": [],
   "source": [
    "#%%shell\n",
    "#ln -sfnv /usr/local/cuda-10.1/ /usr/local/cuda\n",
    "#pip install -q matplotlib numpy\n",
    "#wget https://openmp-course.s3.amazonaws.com/llvm.tar.gz\n",
    "#tar -xzvf llvm.tar.gz >/dev/null 2>&1\n",
    "#echo \"  ------------  Terminou a instalação! Pode continuar  ------------------\""
   ]
  },
  {
   "cell_type": "markdown",
   "metadata": {},
   "source": [
    "\n",
    "Também é preciso informar a localização de bibliotecas e executáveis.\n"
   ]
  },
  {
   "cell_type": "code",
   "execution_count": null,
   "metadata": {
    "id": "lhrUpNNi7ken"
   },
   "outputs": [],
   "source": [
    "import os\n",
    "\n",
    "os.environ['LLVM_PATH'] = '/content/llvm'\n",
    "os.environ['PATH'] = os.environ['LLVM_PATH'] + '/bin:' + os.environ['PATH']\n",
    "os.environ['LD_LIBRARY_PATH'] = os.environ['LLVM_PATH'] + '/lib:' + os.environ['LD_LIBRARY_PATH']\n",
    "os.environ['TSAN_OPTIONS'] = 'ignore_noninstrumented_modules=1'"
   ]
  },
  {
   "cell_type": "markdown",
   "metadata": {
    "id": "bkhWQSVHjmXP"
   },
   "source": [
    "\n",
    "Agora poderemos testar se nosso ambiente de programação está funcionando como esperado\n",
    ". "
   ]
  },
  {
   "cell_type": "code",
   "execution_count": null,
   "metadata": {
    "colab": {
     "base_uri": "https://localhost:8080/"
    },
    "id": "q1SdNZkf1y3h",
    "outputId": "c4f844c7-e941-417c-9a0d-bcaa72976897"
   },
   "outputs": [],
   "source": [
    "%%writefile test.c\n",
    "\n",
    "#include <omp.h>\n",
    "#include <stdio.h>\n",
    "\n",
    "int main() {\n",
    "  int num_devices = omp_get_num_devices();\n",
    "  printf(\"Temos %d devices alocados\\n\", num_devices);\n",
    "}"
   ]
  },
  {
   "cell_type": "markdown",
   "metadata": {},
   "source": [
    "\n",
    "A seguir, vamos compilar e executar o programa criado. Usaremos sempre o compilador __clang__, que utiliza o backend __llvm__, que gera código executável para GPUs de diferentes tipos e modelos.\n"
   ]
  },
  {
   "cell_type": "code",
   "execution_count": null,
   "metadata": {
    "colab": {
     "base_uri": "https://localhost:8080/"
    },
    "id": "d1nutgLC2FNu",
    "outputId": "ec47188d-9677-4c6c-bb79-1fd6bdf7d8a2"
   },
   "outputs": [],
   "source": [
    "#%%shell\n",
    "\n",
    "!clang -fopenmp -fopenmp-targets=nvptx64-nvidia-cuda test.c -o teste\n",
    "\n",
    "!./teste"
   ]
  },
  {
   "cell_type": "markdown",
   "metadata": {
    "id": "fnWo2aV_jzyC"
   },
   "source": [
    "Vamos verificar o modelo de GPU alocada. "
   ]
  },
  {
   "cell_type": "code",
   "execution_count": null,
   "metadata": {
    "colab": {
     "base_uri": "https://localhost:8080/"
    },
    "id": "EkDZeg8ej01I",
    "outputId": "e299aee8-3901-485f-d87a-ce6eec68a8cf"
   },
   "outputs": [],
   "source": [
    "!nvidia-smi"
   ]
  },
  {
   "cell_type": "markdown",
   "metadata": {
    "id": "Meg61W0NkC_I"
   },
   "source": [
    "## Exempo 1: Calculo de Pi - serial na CPU\n",
    "\n",
    "O programa a seguir calcula o valos re Pi pelo método de integração numérica. Esta primeira versão trabalha de forma serial, somente na CPU. Nas próximas versões, nós faremos melhorias nesse programa para acelerar o seu desempenho. \n"
   ]
  },
  {
   "cell_type": "code",
   "execution_count": null,
   "metadata": {
    "colab": {
     "base_uri": "https://localhost:8080/"
    },
    "id": "Gi0URNZWzQR0",
    "outputId": "da7937cf-c150-4f29-c473-037bc0f4bde3"
   },
   "outputs": [],
   "source": [
    "%%writefile ex1-pi_serial.c\n",
    "// The OpenMP Common Core - pg. 58\n",
    "// https://github.com/tgmattso/OmpCommonCore/blob/master/Book/C/Fig_4.5_poprogseq.c\n",
    "#include <stdio.h>\n",
    "#include <omp.h>\n",
    "static long num_steps = 100000000;\n",
    "double step;\n",
    "int main ()\n",
    "{\n",
    "   int i;\n",
    "   double x, pi, sum = 0.0;\n",
    "   double start_time, run_time;\n",
    "\n",
    "   step = 1.0 / (double) num_steps;\n",
    "\n",
    "   start_time = omp_get_wtime();\n",
    "\n",
    "   for (i = 0; i < num_steps; i++){\n",
    "      x = (i + 0.5) * step;\n",
    "      sum += 4.0 / (1.0 + x * x);\n",
    "   }\n",
    "\n",
    "   pi = step * sum;\n",
    "   run_time = omp_get_wtime() - start_time;\n",
    "   printf(\"pi = \\%lf, \\%ld steps, \\%lf secs\\n \",\n",
    "                pi, num_steps, run_time);\n",
    "}\t"
   ]
  },
  {
   "cell_type": "code",
   "execution_count": null,
   "metadata": {
    "colab": {
     "base_uri": "https://localhost:8080/"
    },
    "id": "HEyI-Dd5whKn",
    "outputId": "d443230b-5546-4e41-8fae-7a2c974f2ca3"
   },
   "outputs": [],
   "source": [
    "#%%shell\n",
    "\n",
    "!clang -fopenmp -fopenmp-targets=nvptx64-nvidia-cuda ex1-pi_serial.c -o ex1-pi_serial\n",
    "\n",
    "!./ex1-pi_serial"
   ]
  },
  {
   "cell_type": "markdown",
   "metadata": {
    "id": "ILOriiruzKD5"
   },
   "source": [
    "## Exemplo 2: Pi paralelo na CPU - Pi-V1.0.c\n",
    "\n",
    "O próximo exemplo mostra uma forma de paralelizar o algoritmo para execução em CPU, utilizando os seguintes recursos do OpenMP:\n",
    "\n",
    "* Regiões paralelas\n",
    "* Loops paralelos\n",
    "* Redução"
   ]
  },
  {
   "cell_type": "code",
   "execution_count": null,
   "metadata": {
    "colab": {
     "base_uri": "https://localhost:8080/"
    },
    "id": "ZuyMcdbuv70m",
    "outputId": "2d38d9af-0250-42ce-a0c5-a48dcc0460f9"
   },
   "outputs": [],
   "source": [
    "%%writefile Pi-V1.0.c\n",
    "\n",
    "#include <stdio.h>\n",
    "#include <omp.h>\n",
    "static long num_steps = 100000000;\n",
    "double step;\n",
    "int main ()\n",
    "{\n",
    "   int i;\n",
    "   double x, pi, sum = 0.0;\n",
    "   double start_time, run_time;\n",
    "\n",
    "   step = 1.0 / (double) num_steps;\n",
    "\n",
    "   start_time = omp_get_wtime();\n",
    "   #pragma omp parallel \n",
    "   {\n",
    "     double x; /* cada thread terá sua variavel x local */\n",
    "     #pragma omp for reduction(+:sum)\n",
    "       for (i = 0; i < num_steps; i++){\n",
    "          x = (i + 0.5) * step;\n",
    "          sum += 4.0 / (1.0 + x * x);\n",
    "       }\n",
    "   }\n",
    "   pi = step * sum;\n",
    "   run_time = omp_get_wtime() - start_time;\n",
    "   printf(\"   pi = \\%20.15lf, \\%ld steps, \\%lf secs\\n\", pi, \n",
    "          num_steps, run_time); \n",
    "}"
   ]
  },
  {
   "cell_type": "code",
   "execution_count": null,
   "metadata": {
    "colab": {
     "base_uri": "https://localhost:8080/"
    },
    "id": "S-fhnR0I3Oml",
    "outputId": "a213c3b0-d6bb-4f5a-f3d5-65a6077bdd58"
   },
   "outputs": [],
   "source": [
    "#%%shell\n",
    "\n",
    "#!clang -fopenmp -fopenmp-targets=nvptx64-nvidia-cuda Pi-V1.0.c -o Pi-V1.0\n",
    "!clang -fopenmp Pi-V1.0.c -o Pi-V1.0\n",
    "!./Pi-V1.0\n",
    "!clang -O1 -fopenmp Pi-V1.0.c -o Pi-V1.0\n",
    "!./Pi-V1.0\n",
    "!clang -O2 -fopenmp Pi-V1.0.c -o Pi-V1.0\n",
    "!./Pi-V1.0\n",
    "!clang -O3 -fopenmp Pi-V1.0.c -o Pi-V1.0\n",
    "!./Pi-V1.0\n",
    "!lscpu"
   ]
  },
  {
   "attachments": {},
   "cell_type": "markdown",
   "metadata": {},
   "source": [
    "# Exercício 1 - Soma de vetores\n",
    "\n",
    "O exercício a seguir utiliza a cláusula __map__ para fazer a movimentação correta dos dados entre o host e o device. Sigas os passos:\n",
    "1. Paralelize a soma de vetores com a diretiva `#pragma omp target` para executar na GPU\n",
    "2. Paralelize o loop da inicialização na CPU com `#pragma omp parallel for`\n",
    "3. Paralelizar o loop de teste na CPU. \\\\\n",
    "Obs.: Você pode utilizer redução para totaliser a contagem de erros:\n",
    "`#pragma omp parallel for reduction(+:err)`\n",
    "4. O programa está disponível aqui, caso precise restaurá-lo:\n",
    "https://github.com/UoB-HPC/openmp-tutorial/blob/master/vadd.c \n",
    "\n"
   ]
  },
  {
   "cell_type": "code",
   "execution_count": 44,
   "metadata": {},
   "outputs": [
    {
     "name": "stdout",
     "output_type": "stream",
     "text": [
      "Overwriting soma-vetores.c\n"
     ]
    }
   ],
   "source": [
    "%%writefile soma-vetores.c\n",
    "\n",
    "// Copie aqui o código ... \n",
    "\n",
    "#include <stdio.h>\n",
    "#include <omp.h>\n",
    "#define N 100000\n",
    "#define TOL  0.0000001\n",
    "//\n",
    "//  This is a simple program to add two vectors\n",
    "//  and verify the results.\n",
    "//\n",
    "//  History: Written by Tim Mattson, November 2017\n",
    "//\n",
    "int main()\n",
    "{\n",
    "\n",
    "    float a[N], b[N], c[N], res[N];\n",
    "    int err=0;\n",
    "\n",
    "   // fill the arrays\n",
    "   for (int i=0; i<N; i++){\n",
    "      a[i] = (float)i;\n",
    "      b[i] = 2.0*(float)i;\n",
    "      c[i] = 0.0;\n",
    "      res[i] = i + 2*i;\n",
    "   }\n",
    "\n",
    "   // add two vectors\n",
    "   for (int i=0; i<N; i++){\n",
    "      c[i] = a[i] + b[i];\n",
    "   }\n",
    "\n",
    "   // test results\n",
    "   for(int i=0;i<N;i++){\n",
    "      float val = c[i] - res[i];\n",
    "      val = val*val;\n",
    "      if(val>TOL) err++;\n",
    "   }\n",
    "   \n",
    "   printf(\" Os vetores foram somados com %d erros!\\n\",err);\n",
    "   return 0;\n",
    "}"
   ]
  },
  {
   "cell_type": "code",
   "execution_count": 45,
   "metadata": {},
   "outputs": [
    {
     "name": "stdout",
     "output_type": "stream",
     "text": [
      "\u001b[0;1;35mwarning: \u001b[0m\u001b[1mlinking module '/opt/llvm/lib/libomptarget-nvptx-sm_75.bc': Linking two modules of different target triples: '/opt/llvm/lib/libomptarget-nvptx-sm_75.bc' is 'nvptx64' whereas 'soma-vetores.c' is 'nvptx64-nvidia-cuda'\n",
      " [-Wlinker-warnings]\u001b[0m\n",
      "1 warning generated.\n",
      " Os vetores foram somados com 0 erros!\n"
     ]
    }
   ],
   "source": [
    "#%%shell\n",
    "\n",
    "#!clang -fopenmp -fopenmp-targets=nvptx64-nvidia-cuda Pi-V1.0.c -o Pi-V1.0\n",
    "!clang -fopenmp -fopenmp-targets=nvptx64-nvidia-cuda soma-vetores.c -o soma-vetores\n",
    "!./soma-vetores\n"
   ]
  },
  {
   "attachments": {},
   "cell_type": "markdown",
   "metadata": {},
   "source": [
    "\n",
    "## Exercício 2: Movimentação explícita de dados - Soma de vetores na GPU \n",
    "\n",
    "Agora vamos alocar os vetores no heap em vez do stack:\n",
    "* O programa abaixo trocou `double a[N]`\n",
    "* por `*a = malloc(sizeof(double) * N)`\n",
    "* Use a diretiva target para descarregar a execução na GPU\n",
    "`#pragma omp targtet`\n",
    "* Copie os dados dos arrays no heap para/da GPU com as cláusulas map\n",
    "`map(tofrom:… ), map(to:…), map(from:…)`\n",
    "\n",
    "__Obs.:__ O código base da próxima célula foi retirado daqui, caso precise restaurá-lo: https://github.com/UoB-HPC/openmp-tutorial/blob/master/vadd_heap.c  \n",
    "\n"
   ]
  },
  {
   "cell_type": "code",
   "execution_count": 40,
   "metadata": {},
   "outputs": [
    {
     "name": "stdout",
     "output_type": "stream",
     "text": [
      "Overwriting vadd_heap.c\n"
     ]
    }
   ],
   "source": [
    "%%writefile vadd_heap.c\n",
    "\n",
    "#include <stdio.h>\n",
    "#include <omp.h>\n",
    "#define N 100000\n",
    "#define TOL  0.0000001\n",
    "//\n",
    "//  This is a simple program to add two vectors\n",
    "//  and verify the results.\n",
    "//\n",
    "//  History: Written by Tim Mattson, November 2017\n",
    "//\n",
    "int main()\n",
    "{\n",
    "\n",
    "    float *a   = malloc(sizeof(float) * N);\n",
    "    float *b   = malloc(sizeof(float) * N);\n",
    "    float *c   = malloc(sizeof(float) * N);\n",
    "    float *res = malloc(sizeof(float) * N);\n",
    "    int err=0;\n",
    "\n",
    "   // fill the arrays\n",
    "   for (int i=0; i<N; i++){\n",
    "      a[i] = (float)i;\n",
    "      b[i] = 2.0*(float)i;\n",
    "      c[i] = 0.0;\n",
    "      res[i] = i + 2*i;\n",
    "   }\n",
    "\n",
    "   // add two vectors\n",
    "   for (int i=0; i<N; i++){\n",
    "      c[i] = a[i] + b[i];\n",
    "   }\n",
    "\n",
    "   // test results\n",
    "   for(int i=0;i<N;i++){\n",
    "      float val = c[i] - res[i];\n",
    "      val = val*val;\n",
    "      if(val>TOL) err++;\n",
    "   }\n",
    "   printf(\" vectors added with %d errors\\n\",err);\n",
    "\n",
    "   free(a);\n",
    "   free(b);\n",
    "   free(c);\n",
    "   free(res);\n",
    "\n",
    "   return 0;\n",
    "}\n"
   ]
  },
  {
   "cell_type": "code",
   "execution_count": 41,
   "metadata": {},
   "outputs": [
    {
     "name": "stdout",
     "output_type": "stream",
     "text": [
      "\u001b[0;1;35mwarning: \u001b[0m\u001b[1mlinking module '/opt/llvm/lib/libomptarget-nvptx-sm_75.bc': Linking two modules of different target triples: '/opt/llvm/lib/libomptarget-nvptx-sm_75.bc' is 'nvptx64' whereas 'vadd_heap.c' is 'nvptx64-nvidia-cuda'\n",
      " [-Wlinker-warnings]\u001b[0m\n",
      "1 warning generated.\n",
      " vectors added with 0 errors\n"
     ]
    }
   ],
   "source": [
    "#%%shell\n",
    "\n",
    "#!clang -fopenmp -fopenmp-targets=nvptx64-nvidia-cuda Pi-V1.0.c -o Pi-V1.0\n",
    "!clang -fopenmp -fopenmp-targets=nvptx64-nvidia-cuda vadd_heap.c -o vadd_heap\n",
    "!./vadd_heap\n"
   ]
  },
  {
   "cell_type": "markdown",
   "metadata": {
    "id": "DR-K26ae_QVw"
   },
   "source": []
  },
  {
   "cell_type": "markdown",
   "metadata": {
    "id": "X7a6iFUxkQFr"
   },
   "source": [
    "# Exemplo 3 - Pi  V2.0 - threads na GPU\n",
    "\n",
    "A seguir, vamos utilizar a GPU para tentar acelerar nosso programa, utilizando:\n",
    "* Construção __target__ :\n",
    "\n",
    "  `#pragma omp target`    \n",
    "  `#pragma omp parallel for`   \n",
    "  `     for (i=0;i<N;i++) ...`\n",
    "\n",
    "  Modifique o programa abaixo, introduzindo a melhoria sugerida: "
   ]
  },
  {
   "cell_type": "code",
   "execution_count": 47,
   "metadata": {
    "colab": {
     "base_uri": "https://localhost:8080/"
    },
    "id": "L4I4VPkMze5-",
    "outputId": "921f585f-bd27-4c5f-9e87-1f9ec0416a46"
   },
   "outputs": [
    {
     "name": "stdout",
     "output_type": "stream",
     "text": [
      "Writing Pi-par-V2.c\n"
     ]
    }
   ],
   "source": [
    "%%writefile Pi-par-V2.c\n",
    "\n",
    "#include <stdio.h>\n",
    "#include <omp.h>\n",
    "static long num_steps = 100000000;\n",
    "double step;\n",
    "int main ()\n",
    "{\n",
    "   int i;\n",
    "   double x, pi, sum = 0.0;\n",
    "   double start_time, run_time;\n",
    "\n",
    "   step = 1.0 / (double) num_steps;\n",
    "\n",
    "   start_time = omp_get_wtime();\n",
    " \n",
    "   // Remover esta linha para versão dos alunos\n",
    "   #pragma omp target map(sum)\n",
    "   {\n",
    "     // Remover esta linha para versão dos alunos\n",
    "     #pragma omp parallel for reduction(+: sum) private(x)\n",
    "     for (i = 0; i < num_steps; i++){\n",
    "       x = (i + 0.5) * step;\n",
    "       sum += 4.0 / (1.0 + x * x);\n",
    "      }\n",
    "   }\n",
    "\n",
    "   pi = step * sum;\n",
    "   run_time = omp_get_wtime() - start_time;\n",
    "   printf(\"pi = \\%lf, \\%ld steps, \\%lf secs\\n \",\n",
    "                pi, num_steps, run_time);\n",
    "}\t"
   ]
  },
  {
   "cell_type": "code",
   "execution_count": 48,
   "metadata": {
    "colab": {
     "base_uri": "https://localhost:8080/"
    },
    "id": "O3xUrwYj0GUE",
    "outputId": "2ab39442-3f53-43fc-8393-39dd8b9f3959"
   },
   "outputs": [
    {
     "name": "stdout",
     "output_type": "stream",
     "text": [
      "\u001b[0;1;35mwarning: \u001b[0m\u001b[1mlinking module '/opt/llvm/lib/libomptarget-nvptx-sm_75.bc': Linking two modules of different target triples: '/opt/llvm/lib/libomptarget-nvptx-sm_75.bc' is 'nvptx64' whereas 'Pi-par-V2.c' is 'nvptx64-nvidia-cuda'\n",
      " [-Wlinker-warnings]\u001b[0m\n",
      "1 warning generated.\n",
      "pi = 3.141593, 100000000 steps, 2.154896 secs\n",
      " "
     ]
    }
   ],
   "source": [
    "#%%shell\n",
    "\n",
    "!clang -fopenmp -fopenmp-targets=nvptx64-nvidia-cuda  Pi-par-V2.c -o Pi-par-V2\n",
    "\n",
    "!./Pi-par-V2"
   ]
  },
  {
   "cell_type": "markdown",
   "metadata": {
    "id": "PYszYHwyHpUZ"
   },
   "source": [
    "\n",
    "__Pergunta:__ O que aconteceu? Compare o tempo de execução com o da CPU."
   ]
  },
  {
   "cell_type": "markdown",
   "metadata": {
    "id": "DYwp_hxXJ_h9"
   },
   "source": [
    "__Resposta__:  Nesta versão, somente __um time de threads__ foi criado, para executar blocos de iterações do loop. Os threads desse time executarão de forma paralela, mas ocupando apenas um __compute unit__ apenas, o resultado não será muito bom.  "
   ]
  },
  {
   "cell_type": "markdown",
   "metadata": {
    "id": "U8WeyznxGiEg"
   },
   "source": [
    "# Exemplo 4 - Pi V3.0 - múltiplos times\n",
    "\n",
    "A seguir, vamos utilizar a GPU para tentar acelerar nosso programa, utilizando:\n",
    "* Construções __target__, __teams__ e __distribute__ :\n",
    "\n",
    "  `#pragma omp target`    \n",
    "  `#pragma omp teams`    \n",
    "  `#pragma omp distribute`    \n",
    "  `     for (i=0;i<N;i++) ...`\n",
    "\n",
    "\n",
    "  Modifique o programa abaixo, introduzindo a melhoria sugerida. \n",
    "\n",
    "  __Obs:__\n",
    "  Para este exercício, não utilize a construção  `#pragma omp parallel for`. \n"
   ]
  },
  {
   "cell_type": "code",
   "execution_count": 49,
   "metadata": {
    "colab": {
     "base_uri": "https://localhost:8080/"
    },
    "id": "Jh8a5Qt_2ES5",
    "outputId": "f9367de0-db65-427d-fdca-074b0406194c"
   },
   "outputs": [
    {
     "name": "stdout",
     "output_type": "stream",
     "text": [
      "Writing Pi-par-V3.c\n"
     ]
    }
   ],
   "source": [
    "%%writefile Pi-par-V3.c\n",
    "\n",
    "#include <stdio.h>\n",
    "#include <omp.h>\n",
    "static long num_steps = 100000000;\n",
    "double step;\n",
    "int main ()\n",
    "{\n",
    "   int i;\n",
    "   double x, pi, sum = 0.0;\n",
    "   double start_time, run_time;\n",
    "\n",
    "   step = 1.0 / (double) num_steps;\n",
    "\n",
    "   start_time = omp_get_wtime();\n",
    "   #pragma omp target map(sum)\n",
    "   #pragma omp teams reduction(+: sum)\n",
    "    {\n",
    "     double x;       \n",
    "     #pragma omp distribute\n",
    "     for (i = 0; i < num_steps; i++){\n",
    "       x = (i + 0.5) * step;\n",
    "       sum += 4.0 / (1.0 + x * x);\n",
    "     }\n",
    "   }\n",
    "\n",
    "   pi = step * sum;\n",
    "   run_time = omp_get_wtime() - start_time;\n",
    "   printf(\"pi = \\%lf, \\%ld steps, \\%lf secs\\n \",\n",
    "                pi, num_steps, run_time);\n",
    "}\t"
   ]
  },
  {
   "cell_type": "code",
   "execution_count": 50,
   "metadata": {
    "colab": {
     "base_uri": "https://localhost:8080/"
    },
    "id": "H4zpaSmzJ3Ej",
    "outputId": "2d04a9dd-f5b6-4bba-bbf1-25eee29c3143"
   },
   "outputs": [
    {
     "name": "stdout",
     "output_type": "stream",
     "text": [
      "clang-14: \u001b[0;1;31merror: \u001b[0m\u001b[1mno such file or directory: 'pi-par-V3.c'\u001b[0m\n",
      "clang-14: \u001b[0;1;31merror: \u001b[0m\u001b[1mno input files\u001b[0m\n",
      "/usr/bin/sh: 1: ./Pi-par-V3: not found\n"
     ]
    }
   ],
   "source": [
    "#%%shell\n",
    "\n",
    "#!clang -O3 -fopenmp -fopenmp-targets=nvptx64-nvidia-cuda  pi-par-V3.c -o pi-par-V3\n",
    "!clang -fopenmp -fopenmp-targets=nvptx64  pi-par-V3.c -o pi-par-V3\n",
    "\n",
    "!./Pi-par-V3"
   ]
  },
  {
   "cell_type": "markdown",
   "metadata": {},
   "source": [
    "Compare o tempo de execução com o anterior e explique por que foi mais lento que o anterior. "
   ]
  },
  {
   "cell_type": "markdown",
   "metadata": {},
   "source": [
    "__Resposta__: Neste exemplo, foram criados 128 teams (depende do compilador/hardware) com apenas 1 thread (chamado de thread inicial) para cada team. "
   ]
  },
  {
   "cell_type": "markdown",
   "metadata": {},
   "source": [
    "# Exemplo 5 - Pi V4.0 - times+threads+SIMD\n",
    "\n",
    "A seguir, vamos utilizar utilizar paralelismo em 3 níveis: times, threads nos times, e SIMD nos threads para acelerar nosso programa:\n",
    "\n",
    "  __`#pragma omp target`__    \n",
    "  __`#pragma omp teams distribute`__  \n",
    "    `for (i=0;i<N;i++) ...`    \n",
    "  __`#pragma omp parallel for simd`__  \n",
    "    `for (i=0;i<M;i++) ...`\n",
    "     \n"
   ]
  },
  {
   "cell_type": "code",
   "execution_count": 73,
   "metadata": {},
   "outputs": [
    {
     "name": "stdout",
     "output_type": "stream",
     "text": [
      "Overwriting Pi-par-V4.c\n"
     ]
    }
   ],
   "source": [
    "%%writefile Pi-par-V4.c\n",
    "\n",
    "#define MIN(x, y) (((x) < (y)) ? (x) : (y))\n",
    "#include <stdio.h>\n",
    "#include <omp.h>\n",
    "static long num_steps = 100000000;\n",
    "double step;\n",
    "int main ()\n",
    "{\n",
    "   int i;\n",
    "   double x, pi, sum = 0.0;\n",
    "   double start_time, run_time;\n",
    "\n",
    "   step = 1.0 / (double) num_steps;\n",
    "\n",
    "   start_time = omp_get_wtime();\n",
    "   #pragma omp target map(sum)\n",
    "   #pragma omp teams reduction(+:sum) \n",
    "   {\n",
    "     int block_size = num_steps/omp_get_num_teams();\n",
    "//     #pragma omp distribute dist_sched(static, 1)\n",
    "     #pragma omp distribute        \n",
    "     for (int ii = 0; ii < num_steps; ii += block_size){\n",
    "         #pragma omp parallel for simd reduction(+: sum)\n",
    "//         #pragma omp parallel for reduction(+: sum)         \n",
    "         for (int i = ii; i < MIN(ii+block_size, num_steps); i++) {\n",
    "             x = (i + 0.5) * step;\n",
    "             sum += 4.0 / (1.0 + x * x);\n",
    "         }\n",
    "     }\n",
    "   }\n",
    "\n",
    "   pi = step * sum;\n",
    "   run_time = omp_get_wtime() - start_time;\n",
    "   printf(\"pi = \\%lf, \\%ld steps, \\%lf secs\\n \",\n",
    "                pi, num_steps, run_time);\n",
    "}"
   ]
  },
  {
   "cell_type": "code",
   "execution_count": 74,
   "metadata": {},
   "outputs": [
    {
     "name": "stdout",
     "output_type": "stream",
     "text": [
      "pi = 3.141593, 100000000 steps, 0.178552 secs\n",
      " "
     ]
    }
   ],
   "source": [
    "#%%shell\n",
    "\n",
    "#!clang -O3 -fopenmp -fopenmp-targets=nvptx64-nvidia-cuda  pi-par-V3.c -o pi-par-V3\n",
    "!clang  -fopenmp -fopenmp-targets=nvptx64  Pi-par-V4.c -o Pi-par-V4\n",
    "\n",
    "!./Pi-par-V4"
   ]
  },
  {
   "cell_type": "markdown",
   "metadata": {},
   "source": [
    "# Extra 1- Pi V5.0\n",
    "\n",
    "A seguir, vamos utilizar a GPU para tentar acelerar nosso programa, utilizando:\n",
    "* Construções __teams distribute__ , __parallel for simd__:\n",
    "\n",
    "  `#pragma omp target`    \n",
    "  `#pragma omp teams distribute`   \n",
    "  `for (i=0;i<N;i++) ...`   \n",
    "  `#pragma omp parallel for`   \n",
    "    `for (i=0;i<block_sizeN;i++) ...`\n",
    "     \n",
    "\n",
    "Modifique o programa abaixo, introduzindo a melhoria sugerida. \n",
    "\n",
    "...\n"
   ]
  },
  {
   "cell_type": "code",
   "execution_count": 77,
   "metadata": {},
   "outputs": [
    {
     "name": "stdout",
     "output_type": "stream",
     "text": [
      "Writing Pi-par-V5.c\n"
     ]
    }
   ],
   "source": [
    "%%writefile Pi-par-V5.c\n",
    "\n",
    "#include <stdio.h>\n",
    "#include <omp.h>\n",
    "static long num_steps = 100000000;\n",
    "double step;\n",
    "int main ()\n",
    "{\n",
    "   int i;\n",
    "   double x, pi, sum = 0.0;\n",
    "   double start_time, run_time;\n",
    "\n",
    "   step = 1.0 / (double) num_steps;\n",
    "\n",
    "   start_time = omp_get_wtime();\n",
    "   #pragma omp target map(sum)\n",
    "   {\n",
    "     #pragma omp teams distribute parallel for reduction(+:sum) private(x)  \n",
    "     for (i = 0; i < num_steps; i++){\n",
    "       x = (i + 0.5) * step;\n",
    "       sum += 4.0 / (1.0 + x * x);\n",
    "     }\n",
    "   }\n",
    "\n",
    "   pi = step * sum;\n",
    "   run_time = omp_get_wtime() - start_time;\n",
    "   printf(\"pi = \\%lf, \\%ld steps, \\%lf secs\\n \",\n",
    "                pi, num_steps, run_time);\n",
    "}\n"
   ]
  },
  {
   "cell_type": "code",
   "execution_count": 78,
   "metadata": {},
   "outputs": [
    {
     "name": "stdout",
     "output_type": "stream",
     "text": [
      "pi = 3.141593, 100000000 steps, 1.676325 secs\n",
      " "
     ]
    }
   ],
   "source": [
    "#%%shell\n",
    "\n",
    "!clang -fopenmp -fopenmp-targets=nvptx64  Pi-par-V5.c -o Pi-par-V5\n",
    "\n",
    "!./Pi-par-V5"
   ]
  },
  {
   "cell_type": "markdown",
   "metadata": {},
   "source": [
    "# Extra 2 - Pi V6.0\n",
    "\n",
    "Juntando tudo isso "
   ]
  },
  {
   "cell_type": "code",
   "execution_count": 79,
   "metadata": {},
   "outputs": [
    {
     "name": "stdout",
     "output_type": "stream",
     "text": [
      "Overwriting Pi-par-V6.c\n"
     ]
    }
   ],
   "source": [
    "%%writefile Pi-par-V6.c\n",
    "#define MIN(x, y) (((x) < (y)) ? (x) : (y))\n",
    "#include <stdio.h>\n",
    "#include <omp.h>\n",
    "static long num_steps = 100000000;\n",
    "double step;\n",
    "int main ()\n",
    "{\n",
    "   int i;\n",
    "   double x, pi, sum = 0.0;\n",
    "   double start_time, run_time;\n",
    "\n",
    "   step = 1.0 / (double) num_steps;\n",
    "   start_time = omp_get_wtime();\n",
    "   #pragma omp target map(sum)\n",
    "//   #pragma omp teams distribute parallel for simd reduction(+: sum) private(x)\n",
    "   #pragma omp teams distribute parallel for reduction(+: sum) private(x)    \n",
    "   for (i=0; i< num_steps; i++){\n",
    "             x = (i + 0.5) * step;\n",
    "             sum += 4.0 / (1.0 + x * x);\n",
    "   }\n",
    "   pi = step * sum;\n",
    "   run_time = omp_get_wtime() - start_time;\n",
    "   printf(\"pi = \\%lf, \\%ld steps, \\%lf secs\\n \",\n",
    "                pi, num_steps, run_time);\n",
    "}\t"
   ]
  },
  {
   "cell_type": "code",
   "execution_count": 80,
   "metadata": {},
   "outputs": [
    {
     "name": "stdout",
     "output_type": "stream",
     "text": [
      "pi = 3.141593, 100000000 steps, 1.683102 secs\n",
      " "
     ]
    }
   ],
   "source": [
    "#%%shell\n",
    "\n",
    "!clang -fopenmp -fopenmp-targets=nvptx64  Pi-par-V6.c -o Pi-par-V6\n",
    "\n",
    "!./Pi-par-V6"
   ]
  }
 ],
 "metadata": {
  "accelerator": "GPU",
  "colab": {
   "collapsed_sections": [],
   "name": "Parte_1-ompGPU-Conceitos_Basicos.ipynb",
   "provenance": []
  },
  "kernelspec": {
   "display_name": "Python 3 (ipykernel)",
   "language": "python",
   "name": "python3"
  },
  "language_info": {
   "codemirror_mode": {
    "name": "ipython",
    "version": 3
   },
   "file_extension": ".py",
   "mimetype": "text/x-python",
   "name": "python",
   "nbconvert_exporter": "python",
   "pygments_lexer": "ipython3",
   "version": "3.8.10"
  }
 },
 "nbformat": 4,
 "nbformat_minor": 1
}
