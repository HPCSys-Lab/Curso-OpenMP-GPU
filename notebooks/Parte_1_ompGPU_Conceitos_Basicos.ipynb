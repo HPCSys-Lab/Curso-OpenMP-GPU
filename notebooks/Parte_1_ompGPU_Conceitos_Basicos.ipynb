{
 "cells": [
  {
   "cell_type": "markdown",
   "metadata": {
    "id": "kBbK2dQW3QYd"
   },
   "source": [
    "# Programe sua GPU com OpenMP\n",
    "\n",
    "Autores: \n",
    "_Hermes Senger_ e\n",
    "_Jaime Freire de Souza_\n",
    "\n",
    "## Configuração do ambiente\n",
    "\n",
    "Precisaremos de um compilador capaz de gerar código executável para GPUs. \n"
   ]
  },
  {
   "cell_type": "code",
   "execution_count": 1,
   "metadata": {
    "colab": {
     "base_uri": "https://localhost:8080/"
    },
    "id": "q3og1sYm1n51",
    "outputId": "48febdf2-8afb-4495-8859-57185fbf6da5"
   },
   "outputs": [],
   "source": [
    "#%%shell\n",
    "#ln -sfnv /usr/local/cuda-10.1/ /usr/local/cuda\n",
    "#pip install -q matplotlib numpy\n",
    "#wget https://openmp-course.s3.amazonaws.com/llvm.tar.gz\n",
    "#tar -xzvf llvm.tar.gz >/dev/null 2>&1\n",
    "#echo \"  ------------  Terminou a instalação! Pode continuar  ------------------\""
   ]
  },
  {
   "cell_type": "code",
   "execution_count": 2,
   "metadata": {
    "id": "lhrUpNNi7ken"
   },
   "outputs": [],
   "source": [
    "import os\n",
    "\n",
    "os.environ['LLVM_PATH'] = '/content/llvm'\n",
    "os.environ['PATH'] = os.environ['LLVM_PATH'] + '/bin:' + os.environ['PATH']\n",
    "os.environ['LD_LIBRARY_PATH'] = os.environ['LLVM_PATH'] + '/lib:' + os.environ['LD_LIBRARY_PATH']\n",
    "os.environ['TSAN_OPTIONS'] = 'ignore_noninstrumented_modules=1'"
   ]
  },
  {
   "cell_type": "markdown",
   "metadata": {
    "id": "bkhWQSVHjmXP"
   },
   "source": [
    "\n",
    "Vamos testar nosso ambiente de programação. "
   ]
  },
  {
   "cell_type": "code",
   "execution_count": 3,
   "metadata": {
    "colab": {
     "base_uri": "https://localhost:8080/"
    },
    "id": "q1SdNZkf1y3h",
    "outputId": "c4f844c7-e941-417c-9a0d-bcaa72976897"
   },
   "outputs": [
    {
     "name": "stdout",
     "output_type": "stream",
     "text": [
      "Writing test.c\n"
     ]
    }
   ],
   "source": [
    "%%writefile test.c\n",
    "\n",
    "#include <omp.h>\n",
    "#include <stdio.h>\n",
    "\n",
    "int main() {\n",
    "  int numdevices = omp_get_num_devices();\n",
    "  printf(\"number of devices= %d\\n\", numdevices);\n",
    "}"
   ]
  },
  {
   "cell_type": "code",
   "execution_count": 4,
   "metadata": {
    "colab": {
     "base_uri": "https://localhost:8080/"
    },
    "id": "d1nutgLC2FNu",
    "outputId": "ec47188d-9677-4c6c-bb79-1fd6bdf7d8a2"
   },
   "outputs": [
    {
     "name": "stdout",
     "output_type": "stream",
     "text": [
      "\u001b[0;1;35mwarning: \u001b[0m\u001b[1mlinking module '/opt/llvm/lib/libomptarget-nvptx-sm_75.bc': Linking two modules of different target triples: '/opt/llvm/lib/libomptarget-nvptx-sm_75.bc' is 'nvptx64' whereas 'test.c' is 'nvptx64-nvidia-cuda'\n",
      " [-Wlinker-warnings]\u001b[0m\n",
      "1 warning generated.\n",
      "number of devices= 4\n"
     ]
    }
   ],
   "source": [
    "#%%shell\n",
    "\n",
    "!clang -fopenmp -fopenmp-targets=nvptx64-nvidia-cuda test.c -o teste\n",
    "\n",
    "!./teste"
   ]
  },
  {
   "cell_type": "markdown",
   "metadata": {
    "id": "fnWo2aV_jzyC"
   },
   "source": [
    "Vamos verificar o modelo de GPU alocada. "
   ]
  },
  {
   "cell_type": "code",
   "execution_count": 5,
   "metadata": {
    "colab": {
     "base_uri": "https://localhost:8080/"
    },
    "id": "EkDZeg8ej01I",
    "outputId": "e299aee8-3901-485f-d87a-ce6eec68a8cf"
   },
   "outputs": [
    {
     "name": "stdout",
     "output_type": "stream",
     "text": [
      "Tue Apr 12 09:49:28 2022       \n",
      "+-----------------------------------------------------------------------------+\n",
      "| NVIDIA-SMI 450.36.06    Driver Version: 450.36.06    CUDA Version: 11.0     |\n",
      "|-------------------------------+----------------------+----------------------+\n",
      "| GPU  Name        Persistence-M| Bus-Id        Disp.A | Volatile Uncorr. ECC |\n",
      "| Fan  Temp  Perf  Pwr:Usage/Cap|         Memory-Usage | GPU-Util  Compute M. |\n",
      "|                               |                      |               MIG M. |\n",
      "|===============================+======================+======================|\n",
      "|   0  GeForce RTX 208...  Off  | 00000000:18:00.0 Off |                  N/A |\n",
      "| 25%   36C    P0    39W / 250W |      0MiB /  7982MiB |      0%      Default |\n",
      "|                               |                      |                  N/A |\n",
      "+-------------------------------+----------------------+----------------------+\n",
      "|   1  GeForce RTX 208...  Off  | 00000000:3B:00.0 Off |                  N/A |\n",
      "| 26%   35C    P0    45W / 250W |      0MiB /  7982MiB |      1%      Default |\n",
      "|                               |                      |                  N/A |\n",
      "+-------------------------------+----------------------+----------------------+\n",
      "|   2  GeForce RTX 208...  Off  | 00000000:86:00.0 Off |                  N/A |\n",
      "| 25%   33C    P0    48W / 250W |      0MiB /  7982MiB |      1%      Default |\n",
      "|                               |                      |                  N/A |\n",
      "+-------------------------------+----------------------+----------------------+\n",
      "|   3  GeForce RTX 208...  Off  | 00000000:AF:00.0 Off |                  N/A |\n",
      "| 25%   33C    P0    23W / 250W |      0MiB /  7982MiB |      0%      Default |\n",
      "|                               |                      |                  N/A |\n",
      "+-------------------------------+----------------------+----------------------+\n",
      "                                                                               \n",
      "+-----------------------------------------------------------------------------+\n",
      "| Processes:                                                                  |\n",
      "|  GPU   GI   CI        PID   Type   Process name                  GPU Memory |\n",
      "|        ID   ID                                                   Usage      |\n",
      "|=============================================================================|\n",
      "|  No running processes found                                                 |\n",
      "+-----------------------------------------------------------------------------+\n"
     ]
    }
   ],
   "source": [
    "!nvidia-smi"
   ]
  },
  {
   "cell_type": "markdown",
   "metadata": {
    "id": "Meg61W0NkC_I"
   },
   "source": [
    "## Cálculo de Pi - versão serial\n",
    "\n",
    "O programa a seguir calcula o valos re Pi pelo método de integração numérica. Esta primeira versão trabalha de forma serial, somente na CPU. Nas próximas versões, nós faremos melhorias nesse programa para acelerar o seu desempenho. \n"
   ]
  },
  {
   "cell_type": "code",
   "execution_count": 6,
   "metadata": {
    "colab": {
     "base_uri": "https://localhost:8080/"
    },
    "id": "Gi0URNZWzQR0",
    "outputId": "da7937cf-c150-4f29-c473-037bc0f4bde3"
   },
   "outputs": [
    {
     "name": "stdout",
     "output_type": "stream",
     "text": [
      "Writing ex1-pi_serial.c\n"
     ]
    }
   ],
   "source": [
    "%%writefile ex1-pi_serial.c\n",
    "// The OpenMP Common Core - pg. 58\n",
    "// https://github.com/tgmattso/OmpCommonCore/blob/master/Book/C/Fig_4.5_poprogseq.c\n",
    "#include <stdio.h>\n",
    "#include <omp.h>\n",
    "static long num_steps = 100000000;\n",
    "double step;\n",
    "int main ()\n",
    "{\n",
    "   int i;\n",
    "   double x, pi, sum = 0.0;\n",
    "   double start_time, run_time;\n",
    "\n",
    "   step = 1.0 / (double) num_steps;\n",
    "\n",
    "   start_time = omp_get_wtime();\n",
    "\n",
    "   for (i = 0; i < num_steps; i++){\n",
    "      x = (i + 0.5) * step;\n",
    "      sum += 4.0 / (1.0 + x * x);\n",
    "   }\n",
    "\n",
    "   pi = step * sum;\n",
    "   run_time = omp_get_wtime() - start_time;\n",
    "   printf(\"pi = \\%lf, \\%ld steps, \\%lf secs\\n \",\n",
    "                pi, num_steps, run_time);\n",
    "}\t"
   ]
  },
  {
   "cell_type": "code",
   "execution_count": 7,
   "metadata": {
    "colab": {
     "base_uri": "https://localhost:8080/"
    },
    "id": "HEyI-Dd5whKn",
    "outputId": "d443230b-5546-4e41-8fae-7a2c974f2ca3"
   },
   "outputs": [
    {
     "name": "stdout",
     "output_type": "stream",
     "text": [
      "\u001b[0;1;35mwarning: \u001b[0m\u001b[1mlinking module '/opt/llvm/lib/libomptarget-nvptx-sm_75.bc': Linking two modules of different target triples: '/opt/llvm/lib/libomptarget-nvptx-sm_75.bc' is 'nvptx64' whereas 'ex1-pi_serial.c' is 'nvptx64-nvidia-cuda'\n",
      " [-Wlinker-warnings]\u001b[0m\n",
      "1 warning generated.\n",
      "pi = 3.141593, 100000000 steps, 1.459288 secs\n",
      " "
     ]
    }
   ],
   "source": [
    "#%%shell\n",
    "\n",
    "!clang -fopenmp -fopenmp-targets=nvptx64-nvidia-cuda ex1-pi_serial.c -o ex1-pi_serial\n",
    "\n",
    "!./ex1-pi_serial"
   ]
  },
  {
   "cell_type": "markdown",
   "metadata": {
    "id": "ILOriiruzKD5"
   },
   "source": [
    "## Uma versão paralela para CPU - Pi-V1.0.c\n",
    "\n",
    "O próximo exemplo mostra uma forma de paralelizar o algoritmo para execução em CPU, utilizando os seguintes recursos do OpenMP:\n",
    "\n",
    "* Regiões paralelas\n",
    "* Loops paralelos\n",
    "* Redução"
   ]
  },
  {
   "cell_type": "code",
   "execution_count": 8,
   "metadata": {
    "colab": {
     "base_uri": "https://localhost:8080/"
    },
    "id": "ZuyMcdbuv70m",
    "outputId": "2d38d9af-0250-42ce-a0c5-a48dcc0460f9"
   },
   "outputs": [
    {
     "name": "stdout",
     "output_type": "stream",
     "text": [
      "Overwriting Pi-V1.0.c\n"
     ]
    }
   ],
   "source": [
    "%%writefile Pi-V1.0.c\n",
    "\n",
    "#include <stdio.h>\n",
    "#include <omp.h>\n",
    "//static long num_steps = 100000000;\n",
    "static long num_steps = 100000000;\n",
    "double step;\n",
    "int main ()\n",
    "{\n",
    "   int i;\n",
    "   double x, pi, sum = 0.0;\n",
    "   double start_time, run_time;\n",
    "\n",
    "   step = 1.0 / (double) num_steps;\n",
    "\n",
    "   start_time = omp_get_wtime();\n",
    "   #pragma omp parallel \n",
    "   {\n",
    "     double x;        /* cada thread terá sua variavel x local */\n",
    "     #pragma omp for reduction(+:sum)\n",
    "       for (i = 0; i < num_steps; i++){\n",
    "          x = (i + 0.5) * step;\n",
    "          sum += 4.0 / (1.0 + x * x);\n",
    "       }\n",
    "   }\n",
    "   pi = step * sum;\n",
    "   run_time = omp_get_wtime() - start_time;\n",
    "   printf(\"pi = \\%20.15lf, \\%ld steps, \\%lf secs\\n \", pi, num_steps, run_time);\n",
    "}\t"
   ]
  },
  {
   "cell_type": "code",
   "execution_count": 9,
   "metadata": {
    "colab": {
     "base_uri": "https://localhost:8080/"
    },
    "id": "S-fhnR0I3Oml",
    "outputId": "a213c3b0-d6bb-4f5a-f3d5-65a6077bdd58"
   },
   "outputs": [
    {
     "name": "stdout",
     "output_type": "stream",
     "text": [
      "pi =    3.141592653589808, 100000000 steps, 0.116168 secs\n",
      " pi =    3.141592653589808, 100000000 steps, 0.044143 secs\n",
      " pi =    3.141592653589808, 100000000 steps, 0.056025 secs\n",
      " "
     ]
    }
   ],
   "source": [
    "#%%shell\n",
    "\n",
    "#!clang -fopenmp -fopenmp-targets=nvptx64-nvidia-cuda Pi-V1.0.c -o Pi-V1.0\n",
    "!clang -fopenmp Pi-V1.0.c -o Pi-V1.0\n",
    "!./Pi-V1.0\n",
    "!clang -O2 -fopenmp Pi-V1.0.c -o Pi-V1.0\n",
    "!./Pi-V1.0\n",
    "!clang -O3 -fopenmp Pi-V1.0.c -o Pi-V1.0\n",
    "!./Pi-V1.0"
   ]
  },
  {
   "cell_type": "markdown",
   "metadata": {
    "id": "DR-K26ae_QVw"
   },
   "source": []
  },
  {
   "cell_type": "markdown",
   "metadata": {
    "id": "X7a6iFUxkQFr"
   },
   "source": [
    "# Usando a GPU - Pi melhorado V2.0\n",
    "\n",
    "A seguir, vamos utilizar a GPU para tentar acelerar nosso programa, utilizando:\n",
    "* Construção __target__ :\n",
    "\n",
    "  `#pragma omp target`    \n",
    "  `#pragma omp parallel for`   \n",
    "  `     for (i=0;i<N;i++) ...`\n",
    "\n",
    "  Modifique o programa abaixo, introduzindo a melhoria sugerida: "
   ]
  },
  {
   "cell_type": "code",
   "execution_count": 10,
   "metadata": {
    "colab": {
     "base_uri": "https://localhost:8080/"
    },
    "id": "L4I4VPkMze5-",
    "outputId": "921f585f-bd27-4c5f-9e87-1f9ec0416a46"
   },
   "outputs": [
    {
     "name": "stdout",
     "output_type": "stream",
     "text": [
      "Overwriting pi-par-V2.c\n"
     ]
    }
   ],
   "source": [
    "%%writefile pi-par-V2.c\n",
    "\n",
    "#include <stdio.h>\n",
    "#include <omp.h>\n",
    "static long num_steps = 100000000;\n",
    "double step;\n",
    "int main ()\n",
    "{\n",
    "   int i;\n",
    "   double x, pi, sum = 0.0;\n",
    "   double start_time, run_time;\n",
    "\n",
    "   step = 1.0 / (double) num_steps;\n",
    "\n",
    "   start_time = omp_get_wtime();\n",
    " \n",
    "   // Remover esta linha para versão dos alunos\n",
    "   #pragma omp target map(sum)\n",
    "   {\n",
    "     // Remover esta linha para versão dos alunos\n",
    "     #pragma omp parallel for reduction(+: sum) private(x)\n",
    "     for (i = 0; i < num_steps; i++){\n",
    "       x = (i + 0.5) * step;\n",
    "       sum += 4.0 / (1.0 + x * x);\n",
    "      }\n",
    "   }\n",
    "\n",
    "   pi = step * sum;\n",
    "   run_time = omp_get_wtime() - start_time;\n",
    "   printf(\"pi = \\%lf, \\%ld steps, \\%lf secs\\n \",\n",
    "                pi, num_steps, run_time);\n",
    "}\t"
   ]
  },
  {
   "cell_type": "code",
   "execution_count": 11,
   "metadata": {
    "colab": {
     "base_uri": "https://localhost:8080/"
    },
    "id": "O3xUrwYj0GUE",
    "outputId": "2ab39442-3f53-43fc-8393-39dd8b9f3959"
   },
   "outputs": [
    {
     "name": "stdout",
     "output_type": "stream",
     "text": [
      "\u001b[0;1;35mwarning: \u001b[0m\u001b[1mlinking module '/opt/llvm/lib/libomptarget-nvptx-sm_75.bc': Linking two modules of different target triples: '/opt/llvm/lib/libomptarget-nvptx-sm_75.bc' is 'nvptx64' whereas 'pi-par-V2.c' is 'nvptx64-nvidia-cuda'\n",
      " [-Wlinker-warnings]\u001b[0m\n",
      "1 warning generated.\n",
      "pi = 3.141593, 100000000 steps, 2.169342 secs\n",
      " "
     ]
    }
   ],
   "source": [
    "#%%shell\n",
    "\n",
    "!clang -fopenmp -fopenmp-targets=nvptx64-nvidia-cuda  pi-par-V2.c -o pi-par-V2\n",
    "\n",
    "!./pi-par-V2"
   ]
  },
  {
   "cell_type": "markdown",
   "metadata": {
    "id": "PYszYHwyHpUZ"
   },
   "source": [
    "\n",
    "__Pergunta:__ O que aconteceu? Compare o tempo de execução com o da CPU."
   ]
  },
  {
   "cell_type": "markdown",
   "metadata": {
    "id": "DYwp_hxXJ_h9"
   },
   "source": [
    "__Resposta__:  Nesta versão, somente __um time de threads__ foi criado, para executar blocos de iterações do loop. Os threads desse time executarão de forma paralela, mas ocupando apenas um __compute unit__ apenas, o resultado não será muito bom.  "
   ]
  },
  {
   "cell_type": "markdown",
   "metadata": {
    "id": "U8WeyznxGiEg"
   },
   "source": [
    "# Usando a GPU - Pi melhorado V3.0\n",
    "\n",
    "A seguir, vamos utilizar a GPU para tentar acelerar nosso programa, utilizando:\n",
    "* Construções __target__, __teams__ e __distribute__ :\n",
    "\n",
    "  `#pragma omp target`    \n",
    "  `#pragma omp teams`    \n",
    "  `#pragma omp distribute`    \n",
    "  `     for (i=0;i<N;i++) ...`\n",
    "\n",
    "\n",
    "  Modifique o programa abaixo, introduzindo a melhoria sugerida. \n",
    "\n",
    "  __Obs:__\n",
    "  1. Para este exercício, não utilize a construção  `#pragma omp parallel for`. \n",
    "  2. Modifique o número de iterações para apenas 1000 (ou seja, reduzir por um fator de 10E-5).\n"
   ]
  },
  {
   "cell_type": "code",
   "execution_count": 12,
   "metadata": {
    "colab": {
     "base_uri": "https://localhost:8080/"
    },
    "id": "Jh8a5Qt_2ES5",
    "outputId": "f9367de0-db65-427d-fdca-074b0406194c"
   },
   "outputs": [
    {
     "name": "stdout",
     "output_type": "stream",
     "text": [
      "Overwriting pi-par-V3.c\n"
     ]
    }
   ],
   "source": [
    "%%writefile pi-par-V3.c\n",
    "\n",
    "#include <stdio.h>\n",
    "#include <omp.h>\n",
    "static long num_steps = 100000000;\n",
    "double step;\n",
    "int main ()\n",
    "{\n",
    "   int i;\n",
    "   double x, pi, sum = 0.0;\n",
    "   double start_time, run_time;\n",
    "\n",
    "   step = 1.0 / (double) num_steps;\n",
    "\n",
    "   start_time = omp_get_wtime();\n",
    "   #pragma omp target map(sum)\n",
    "   #pragma omp teams reduction(+: sum)\n",
    "    {\n",
    "     double x;       \n",
    "     #pragma omp distribute\n",
    "     for (i = 0; i < num_steps; i++){\n",
    "       x = (i + 0.5) * step;\n",
    "       sum += 4.0 / (1.0 + x * x);\n",
    "     }\n",
    "   }\n",
    "\n",
    "   pi = step * sum;\n",
    "   run_time = omp_get_wtime() - start_time;\n",
    "   printf(\"pi = \\%lf, \\%ld steps, \\%lf secs\\n \",\n",
    "                pi, num_steps, run_time);\n",
    "}\t"
   ]
  },
  {
   "cell_type": "code",
   "execution_count": 13,
   "metadata": {
    "colab": {
     "base_uri": "https://localhost:8080/"
    },
    "id": "H4zpaSmzJ3Ej",
    "outputId": "2d04a9dd-f5b6-4bba-bbf1-25eee29c3143"
   },
   "outputs": [
    {
     "name": "stdout",
     "output_type": "stream",
     "text": [
      "pi = 3.141593, 100000000 steps, 2.334968 secs\r\n",
      " "
     ]
    }
   ],
   "source": [
    "#%%shell\n",
    "\n",
    "#!clang -O3 -fopenmp -fopenmp-targets=nvptx64-nvidia-cuda  pi-par-V3.c -o pi-par-V3\n",
    "!clang -fopenmp -fopenmp-targets=nvptx64  pi-par-V3.c -o pi-par-V3\n",
    "\n",
    "!./pi-par-V3"
   ]
  },
  {
   "cell_type": "markdown",
   "metadata": {},
   "source": [
    "Compare o tempo de execução com o anterior e explique por que foi mais lento que o anterior. "
   ]
  },
  {
   "cell_type": "markdown",
   "metadata": {},
   "source": [
    "__Resposta__: Neste exemplo, foram criados 128 teams (depende do compilador/hardware) com apenas 1 thread (chamado de thread inicial) para cada team. "
   ]
  },
  {
   "cell_type": "markdown",
   "metadata": {},
   "source": [
    "# Usando a GPU - Pi melhorado V4.0\n",
    "\n",
    "A seguir, vamos utilizar a GPU para tentar acelerar nosso programa, utilizando:\n",
    "* Construções __teams distribute__ e __parallel for__:\n",
    "\n",
    "  `#pragma omp target`    \n",
    "  `#pragma omp teams distribute`  \n",
    "  `#pragma omp parallel for` \n",
    "    `for (i=0;i<N;i++) ...`\n",
    "     \n",
    "\n",
    "Modifique o programa abaixo, introduzindo a melhoria sugerida. \n",
    "\n",
    "  __Obs:__\n",
    "  1. Para este exercício, não utilize a construção  `#pragma omp parallel for`. \n",
    "  2. Modifique o número de iterações para apenas 1000 (ou seja, reduzir por um fator de 10E-5).\n"
   ]
  },
  {
   "cell_type": "code",
   "execution_count": 14,
   "metadata": {},
   "outputs": [
    {
     "name": "stdout",
     "output_type": "stream",
     "text": [
      "Overwriting pi-par-V4.c\n"
     ]
    }
   ],
   "source": [
    "%%writefile pi-par-V4.c\n",
    "\n",
    "#include <stdio.h>\n",
    "#include <omp.h>\n",
    "static long num_steps = 100000000;\n",
    "double step;\n",
    "int main ()\n",
    "{\n",
    "   int i;\n",
    "   double x, pi, sum = 0.0;\n",
    "   double start_time, run_time;\n",
    "\n",
    "   step = 1.0 / (double) num_steps;\n",
    "\n",
    "   start_time = omp_get_wtime();\n",
    "   #pragma omp target map(sum)\n",
    "   {\n",
    "     #pragma omp teams distribute parallel for reduction(+:sum) private(x)  \n",
    "     for (i = 0; i < num_steps; i++){\n",
    "       x = (i + 0.5) * step;\n",
    "       sum += 4.0 / (1.0 + x * x);\n",
    "     }\n",
    "   }\n",
    "\n",
    "   pi = step * sum;\n",
    "   run_time = omp_get_wtime() - start_time;\n",
    "   printf(\"pi = \\%lf, \\%ld steps, \\%lf secs\\n \",\n",
    "                pi, num_steps, run_time);\n",
    "}\t"
   ]
  },
  {
   "cell_type": "code",
   "execution_count": 15,
   "metadata": {},
   "outputs": [
    {
     "name": "stdout",
     "output_type": "stream",
     "text": [
      "pi = 3.141593, 100000000 steps, 1.677457 secs\n",
      " "
     ]
    }
   ],
   "source": [
    "#%%shell\n",
    "\n",
    "#!clang -O3 -fopenmp -fopenmp-targets=nvptx64-nvidia-cuda  pi-par-V3.c -o pi-par-V3\n",
    "!clang  -fopenmp -fopenmp-targets=nvptx64  pi-par-V4.c -o pi-par-V4\n",
    "\n",
    "!./pi-par-V4"
   ]
  },
  {
   "cell_type": "code",
   "execution_count": 16,
   "metadata": {},
   "outputs": [
    {
     "name": "stdout",
     "output_type": "stream",
     "text": [
      "clang version 14.0.0 (https://github.com/llvm/llvm-project.git c47135949779904542ee1e6d5486609ebf0da1b5)\r\n",
      "Target: x86_64-unknown-linux-gnu\r\n",
      "Thread model: posix\r\n",
      "InstalledDir: /opt/llvm/bin\r\n"
     ]
    }
   ],
   "source": [
    "!clang --version"
   ]
  },
  {
   "cell_type": "markdown",
   "metadata": {},
   "source": [
    "# Usando a GPU - Pi melhorado V5.0\n",
    "\n",
    "A seguir, vamos utilizar a GPU para tentar acelerar nosso programa, utilizando:\n",
    "* Construções __teams distribute__ , __parallel for simd__:\n",
    "\n",
    "  `#pragma omp target`    \n",
    "  `#pragma omp teams distribute`  \n",
    "  `for (i=0;i<N;i++) ...`\n",
    "  `#pragma omp parallel for` \n",
    "    `for (i=0;i<block_sizeN;i++) ...`\n",
    "     \n",
    "\n",
    "Modifique o programa abaixo, introduzindo a melhoria sugerida. \n",
    "\n",
    "...\n"
   ]
  },
  {
   "cell_type": "code",
   "execution_count": 17,
   "metadata": {},
   "outputs": [
    {
     "name": "stdout",
     "output_type": "stream",
     "text": [
      "Overwriting pi-par-V5.c\n"
     ]
    }
   ],
   "source": [
    "%%writefile pi-par-V5.c\n",
    "#define MIN(x, y) (((x) < (y)) ? (x) : (y))\n",
    "#include <stdio.h>\n",
    "#include <omp.h>\n",
    "static long num_steps = 100000000;\n",
    "double step;\n",
    "int main ()\n",
    "{\n",
    "   int i;\n",
    "   double x, pi, sum = 0.0;\n",
    "   double start_time, run_time;\n",
    "\n",
    "   step = 1.0 / (double) num_steps;\n",
    "\n",
    "   start_time = omp_get_wtime();\n",
    "   #pragma omp target map(sum)\n",
    "   #pragma omp teams reduction(+:sum) \n",
    "   {\n",
    "     int block_size = num_steps/omp_get_num_teams();\n",
    "//     #pragma omp distribute dist_sched(static, 1)\n",
    "     #pragma omp distribute        \n",
    "     for (int ii = 0; ii < num_steps; ii += block_size){\n",
    "         #pragma omp parallel for simd reduction(+: sum)\n",
    "//         #pragma omp parallel for reduction(+: sum)         \n",
    "         for (int i = ii; i < MIN(ii+block_size, num_steps); i++) {\n",
    "             x = (i + 0.5) * step;\n",
    "             sum += 4.0 / (1.0 + x * x);\n",
    "         }\n",
    "     }\n",
    "   }\n",
    "\n",
    "   pi = step * sum;\n",
    "   run_time = omp_get_wtime() - start_time;\n",
    "   printf(\"pi = \\%lf, \\%ld steps, \\%lf secs\\n \",\n",
    "                pi, num_steps, run_time);\n",
    "}\t"
   ]
  },
  {
   "cell_type": "code",
   "execution_count": 18,
   "metadata": {},
   "outputs": [
    {
     "name": "stdout",
     "output_type": "stream",
     "text": [
      "pi = 3.141593, 100000000 steps, 0.179204 secs\n",
      " "
     ]
    }
   ],
   "source": [
    "#%%shell\n",
    "\n",
    "!clang -fopenmp -fopenmp-targets=nvptx64  pi-par-V5.c -o pi-par-V5\n",
    "\n",
    "!./pi-par-V5"
   ]
  },
  {
   "cell_type": "markdown",
   "metadata": {},
   "source": [
    "# Usando a GPU - Pi melhorado V6.0\n",
    "\n",
    "Juntando tudo isso "
   ]
  },
  {
   "cell_type": "code",
   "execution_count": 21,
   "metadata": {},
   "outputs": [
    {
     "name": "stdout",
     "output_type": "stream",
     "text": [
      "Overwriting pi-par-V6.c\n"
     ]
    }
   ],
   "source": [
    "%%writefile pi-par-V6.c\n",
    "#define MIN(x, y) (((x) < (y)) ? (x) : (y))\n",
    "#include <stdio.h>\n",
    "#include <omp.h>\n",
    "static long num_steps = 100000000;\n",
    "double step;\n",
    "int main ()\n",
    "{\n",
    "   int i;\n",
    "   double x, pi, sum = 0.0;\n",
    "   double start_time, run_time;\n",
    "\n",
    "   step = 1.0 / (double) num_steps;\n",
    "   start_time = omp_get_wtime();\n",
    "   #pragma omp target map(sum)\n",
    "//   #pragma omp teams distribute parallel for simd reduction(+: sum) private(x)\n",
    "   #pragma omp teams distribute parallel for reduction(+: sum) private(x)    \n",
    "   for (i=0; i< num_steps; i++){\n",
    "             x = (i + 0.5) * step;\n",
    "             sum += 4.0 / (1.0 + x * x);\n",
    "   }\n",
    "   pi = step * sum;\n",
    "   run_time = omp_get_wtime() - start_time;\n",
    "   printf(\"pi = \\%lf, \\%ld steps, \\%lf secs\\n \",\n",
    "                pi, num_steps, run_time);\n",
    "}\t"
   ]
  },
  {
   "cell_type": "code",
   "execution_count": 22,
   "metadata": {},
   "outputs": [
    {
     "name": "stdout",
     "output_type": "stream",
     "text": [
      "pi = 3.141593, 100000000 steps, 1.674195 secs\n",
      " "
     ]
    }
   ],
   "source": [
    "#%%shell\n",
    "\n",
    "!clang -fopenmp -fopenmp-targets=nvptx64  pi-par-V6.c -o pi-par-V6\n",
    "\n",
    "!./pi-par-V6"
   ]
  },
  {
   "cell_type": "code",
   "execution_count": null,
   "metadata": {},
   "outputs": [],
   "source": []
  }
 ],
 "metadata": {
  "accelerator": "GPU",
  "colab": {
   "collapsed_sections": [],
   "name": "Parte_1-ompGPU-Conceitos_Basicos.ipynb",
   "provenance": []
  },
  "kernelspec": {
   "display_name": "Python 3 (ipykernel)",
   "language": "python",
   "name": "python3"
  },
  "language_info": {
   "codemirror_mode": {
    "name": "ipython",
    "version": 3
   },
   "file_extension": ".py",
   "mimetype": "text/x-python",
   "name": "python",
   "nbconvert_exporter": "python",
   "pygments_lexer": "ipython3",
   "version": "3.8.10"
  }
 },
 "nbformat": 4,
 "nbformat_minor": 1
}
