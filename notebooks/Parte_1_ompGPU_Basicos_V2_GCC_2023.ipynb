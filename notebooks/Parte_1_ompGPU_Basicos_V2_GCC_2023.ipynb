{
  "nbformat": 4,
  "nbformat_minor": 0,
  "metadata": {
    "colab": {
      "provenance": []
    },
    "kernelspec": {
      "name": "python3",
      "display_name": "Python 3"
    },
    "language_info": {
      "name": "python"
    },
    "accelerator": "GPU"
  },
  "cells": [
    {
      "cell_type": "markdown",
      "source": [
        "# Programe sua GPU com OpenMP\n",
        "\n",
        "Autores: \n",
        "_Hermes Senger_ e\n",
        "_Jaime Freire de Souza_\n",
        "\n",
        "## Configuração do ambiente\n",
        "\n",
        "Precisaremos de um compilador capaz de gerar código executável para GPUs. O GCC 10 faz isso, mas ele requer Cuda 10 para funcionar. O problema é que o Colab deve usar versões mais recentes de CUDA. Então, teremos de instalar ambos (gcc-10, cuda 10).\n",
        "\n",
        "```\n",
        "# This is formatted as code\n",
        "```\n",
        "\n",
        "\n"
      ],
      "metadata": {
        "id": "kBbK2dQW3QYd"
      }
    },
    {
      "cell_type": "code",
      "source": [
        "%%shell\n",
        "apt-get update;"
      ],
      "metadata": {
        "colab": {
          "base_uri": "https://localhost:8080/"
        },
        "id": "psf-mbxmCb2X",
        "outputId": "e3b736d2-634d-4b06-c945-7175f1f8afaa"
      },
      "execution_count": 5,
      "outputs": [
        {
          "output_type": "stream",
          "name": "stdout",
          "text": [
            "\r0% [Working]\r            \rGet:1 http://security.ubuntu.com/ubuntu focal-security InRelease [114 kB]\n",
            "\r0% [Connecting to archive.ubuntu.com (91.189.91.38)] [1 InRelease 4,096 B/114 k\r                                                                               \rGet:2 http://ppa.launchpad.net/c2d4u.team/c2d4u4.0+/ubuntu focal InRelease [18.1 kB]\n",
            "\r0% [Connecting to archive.ubuntu.com (91.189.91.38)] [1 InRelease 14.2 kB/114 k\r                                                                               \rGet:3 https://cloud.r-project.org/bin/linux/ubuntu focal-cran40/ InRelease [3,622 B]\n",
            "\r0% [Connecting to archive.ubuntu.com (91.189.91.38)] [1 InRelease 25.8 kB/114 k\r0% [Connecting to archive.ubuntu.com (91.189.91.38)] [1 InRelease 53.3 kB/114 k\r0% [Connecting to archive.ubuntu.com (91.189.91.38)] [1 InRelease 57.6 kB/114 k\r0% [Connecting to archive.ubuntu.com (91.189.91.38)] [Waiting for headers] [Wai\r                                                                               \rHit:4 http://ppa.launchpad.net/cran/libgit2/ubuntu focal InRelease\n",
            "\r0% [Connecting to archive.ubuntu.com (91.189.91.38)] [Waiting for headers] [Con\r                                                                               \rHit:5 http://ppa.launchpad.net/deadsnakes/ppa/ubuntu focal InRelease\n",
            "\r0% [Connecting to archive.ubuntu.com (91.189.91.38)] [Waiting for headers] [Con\r                                                                               \rHit:6 http://ppa.launchpad.net/graphics-drivers/ppa/ubuntu focal InRelease\n",
            "\r                                                                               \r0% [Waiting for headers] [Waiting for headers]\r                                              \rHit:7 http://ppa.launchpad.net/ubuntugis/ppa/ubuntu focal InRelease\n",
            "Hit:8 http://archive.ubuntu.com/ubuntu focal InRelease\n",
            "Get:9 http://archive.ubuntu.com/ubuntu focal-updates InRelease [114 kB]\n",
            "Get:10 http://ppa.launchpad.net/c2d4u.team/c2d4u4.0+/ubuntu focal/main Sources [2,397 kB]\n",
            "Ign:11 https://developer.download.nvidia.com/compute/machine-learning/repos/ubuntu2004/x86_64  InRelease\n",
            "Get:12 http://security.ubuntu.com/ubuntu focal-security/universe amd64 Packages [1,017 kB]\n",
            "Hit:13 https://developer.download.nvidia.com/compute/cuda/repos/ubuntu2004/x86_64  InRelease\n",
            "Hit:14 https://developer.download.nvidia.com/compute/machine-learning/repos/ubuntu2004/x86_64  Release\n",
            "Get:15 http://ppa.launchpad.net/c2d4u.team/c2d4u4.0+/ubuntu focal/main amd64 Packages [1,136 kB]\n",
            "Get:16 http://security.ubuntu.com/ubuntu focal-security/main amd64 Packages [2,542 kB]\n",
            "Get:17 http://archive.ubuntu.com/ubuntu focal-backports InRelease [108 kB]\n",
            "Get:19 http://archive.ubuntu.com/ubuntu focal-updates/main amd64 Packages [3,019 kB]\n",
            "Get:20 http://archive.ubuntu.com/ubuntu focal-updates/universe amd64 Packages [1,312 kB]\n",
            "Fetched 11.8 MB in 2s (5,914 kB/s)\n",
            "Reading package lists... Done\n"
          ]
        },
        {
          "output_type": "execute_result",
          "data": {
            "text/plain": []
          },
          "metadata": {},
          "execution_count": 5
        }
      ]
    },
    {
      "cell_type": "code",
      "source": [
        "!wget https://developer.nvidia.com/compute/cuda/10.0/Prod/local_installers/cuda-repo-ubuntu1604-10-0-local-10.0.130-410.48_1.0-1_amd64 -O cuda-repo-ubuntu1604-10-0-local-10.0.130-410.48_1.0-1_amd64.deb"
      ],
      "metadata": {
        "colab": {
          "base_uri": "https://localhost:8080/"
        },
        "id": "vzjur0imDB__",
        "outputId": "0da39525-1d5e-4baa-8a72-b52ae40ab2ac"
      },
      "execution_count": 6,
      "outputs": [
        {
          "output_type": "stream",
          "name": "stdout",
          "text": [
            "--2023-03-14 11:17:14--  https://developer.nvidia.com/compute/cuda/10.0/Prod/local_installers/cuda-repo-ubuntu1604-10-0-local-10.0.130-410.48_1.0-1_amd64\n",
            "Resolving developer.nvidia.com (developer.nvidia.com)... 152.199.20.126\n",
            "Connecting to developer.nvidia.com (developer.nvidia.com)|152.199.20.126|:443... connected.\n",
            "HTTP request sent, awaiting response... 301 Moved Permanently\n",
            "Location: https://developer.nvidia.com/downloads/compute/cuda/10.0/Prod/local_installers/cuda-repo-ubuntu1604-10-0-local-10.0.130-410.48_1.0-1_amd64 [following]\n",
            "--2023-03-14 11:17:14--  https://developer.nvidia.com/downloads/compute/cuda/10.0/Prod/local_installers/cuda-repo-ubuntu1604-10-0-local-10.0.130-410.48_1.0-1_amd64\n",
            "Reusing existing connection to developer.nvidia.com:443.\n",
            "HTTP request sent, awaiting response... 302 Found\n",
            "Location: https://developer.download.nvidia.com/compute/cuda/10.0/secure/Prod/local_installers/cuda-repo-ubuntu1604-10-0-local-10.0.130-410.48_1.0-1_amd64.deb?bb-90B5upn3R_RTXI88ogXsYqc99Df_ecu05Wjrx2CAlEai6QW6d5O4cmTTN8NETzN6zx6PWW3n19GI04iT-VKA7_nkGZc-oL67LBZOEHDF_2-cuKwr-OfwEGA1Rwn-5GRZQL226VWQO2WE_znsr2azu4dGMRO3bTtq6mDVaEOwmOmiQh40IUY1bByRMhVREgb0xOFwoWn6oz3Y6AC4ykvjBU1NfSd6_n8nOfnI= [following]\n",
            "--2023-03-14 11:17:15--  https://developer.download.nvidia.com/compute/cuda/10.0/secure/Prod/local_installers/cuda-repo-ubuntu1604-10-0-local-10.0.130-410.48_1.0-1_amd64.deb?bb-90B5upn3R_RTXI88ogXsYqc99Df_ecu05Wjrx2CAlEai6QW6d5O4cmTTN8NETzN6zx6PWW3n19GI04iT-VKA7_nkGZc-oL67LBZOEHDF_2-cuKwr-OfwEGA1Rwn-5GRZQL226VWQO2WE_znsr2azu4dGMRO3bTtq6mDVaEOwmOmiQh40IUY1bByRMhVREgb0xOFwoWn6oz3Y6AC4ykvjBU1NfSd6_n8nOfnI=\n",
            "Resolving developer.download.nvidia.com (developer.download.nvidia.com)... 152.199.20.126\n",
            "Connecting to developer.download.nvidia.com (developer.download.nvidia.com)|152.199.20.126|:443... connected.\n",
            "HTTP request sent, awaiting response... 200 OK\n",
            "Length: 1698642702 (1.6G) [application/x-deb]\n",
            "Saving to: ‘cuda-repo-ubuntu1604-10-0-local-10.0.130-410.48_1.0-1_amd64.deb’\n",
            "\n",
            "cuda-repo-ubuntu160 100%[===================>]   1.58G   190MB/s    in 7.2s    \n",
            "\n",
            "2023-03-14 11:17:22 (225 MB/s) - ‘cuda-repo-ubuntu1604-10-0-local-10.0.130-410.48_1.0-1_amd64.deb’ saved [1698642702/1698642702]\n",
            "\n"
          ]
        }
      ]
    },
    {
      "cell_type": "code",
      "source": [
        "!dpkg -i cuda-repo-ubuntu1604-10-0-local-10.0.130-410.48_1.0-1_amd64.deb"
      ],
      "metadata": {
        "colab": {
          "base_uri": "https://localhost:8080/"
        },
        "id": "QO-PrmJ9DNBo",
        "outputId": "ce470570-19f8-4eb5-cc75-957d190f6916"
      },
      "execution_count": 7,
      "outputs": [
        {
          "output_type": "stream",
          "name": "stdout",
          "text": [
            "Selecting previously unselected package cuda-repo-ubuntu1604-10-0-local-10.0.130-410.48.\n",
            "(Reading database ... 128275 files and directories currently installed.)\n",
            "Preparing to unpack cuda-repo-ubuntu1604-10-0-local-10.0.130-410.48_1.0-1_amd64.deb ...\n",
            "Unpacking cuda-repo-ubuntu1604-10-0-local-10.0.130-410.48 (1.0-1) ...\n",
            "Setting up cuda-repo-ubuntu1604-10-0-local-10.0.130-410.48 (1.0-1) ...\n"
          ]
        }
      ]
    },
    {
      "cell_type": "code",
      "source": [
        "!apt-key add /var/cuda-repo-10-0-local-*/7fa2af80.pub"
      ],
      "metadata": {
        "colab": {
          "base_uri": "https://localhost:8080/"
        },
        "id": "HI6XFktLDPDa",
        "outputId": "dd54a21c-e251-4e22-d68f-98ea292f9f91"
      },
      "execution_count": 12,
      "outputs": [
        {
          "output_type": "stream",
          "name": "stdout",
          "text": [
            "OK\n"
          ]
        }
      ]
    },
    {
      "cell_type": "code",
      "source": [
        "!apt-get update"
      ],
      "metadata": {
        "colab": {
          "base_uri": "https://localhost:8080/"
        },
        "id": "4gcwF2ilDRGI",
        "outputId": "1bc9da52-29e0-4d74-c972-2370894c2fc6"
      },
      "execution_count": 13,
      "outputs": [
        {
          "output_type": "stream",
          "name": "stdout",
          "text": [
            "\r0% [Working]\r            \rGet:1 file:/var/cuda-repo-10-0-local-10.0.130-410.48  InRelease\n",
            "\r0% [Connecting to developer.download.nvidia.com] [Connecting to ppa.launchpad.n\r                                                                               \rIgn:1 file:/var/cuda-repo-10-0-local-10.0.130-410.48  InRelease\n",
            "\r0% [Connecting to developer.download.nvidia.com] [Connecting to ppa.launchpad.n\r                                                                               \rGet:2 file:/var/cuda-repo-10-0-local-10.0.130-410.48  Release [574 B]\n",
            "\r0% [Connecting to archive.ubuntu.com] [Connecting to security.ubuntu.com (185.1\r                                                                               \rHit:3 http://security.ubuntu.com/ubuntu focal-security InRelease\n",
            "\r                                                                               \rHit:4 https://cloud.r-project.org/bin/linux/ubuntu focal-cran40/ InRelease\n",
            "\r                                                                               \rHit:5 http://ppa.launchpad.net/c2d4u.team/c2d4u4.0+/ubuntu focal InRelease\n",
            "\r                                                                               \rHit:6 http://ppa.launchpad.net/cran/libgit2/ubuntu focal InRelease\n",
            "\r0% [Connecting to archive.ubuntu.com (91.189.91.39)] [Waiting for headers] [Con\r                                                                               \rGet:2 file:/var/cuda-repo-10-0-local-10.0.130-410.48  Release [574 B]\n",
            "\r0% [Connecting to archive.ubuntu.com (91.189.91.39)] [Waiting for headers] [Con\r                                                                               \rGet:7 file:/var/cuda-repo-10-0-local-10.0.130-410.48  Release.gpg [819 B]\n",
            "\r0% [Connecting to archive.ubuntu.com (91.189.91.39)] [Waiting for headers] [Con\r                                                                               \rGet:7 file:/var/cuda-repo-10-0-local-10.0.130-410.48  Release.gpg [819 B]\n",
            "\r0% [Connecting to archive.ubuntu.com (91.189.91.39)] [Waiting for headers] [Con\r                                                                               \rHit:8 http://ppa.launchpad.net/deadsnakes/ppa/ubuntu focal InRelease\n",
            "\r0% [Connecting to archive.ubuntu.com (91.189.91.39)] [Waiting for headers] [Con\r                                                                               \rHit:9 http://ppa.launchpad.net/graphics-drivers/ppa/ubuntu focal InRelease\n",
            "\r0% [Connecting to archive.ubuntu.com (91.189.91.39)] [Waiting for headers] [Con\r                                                                               \rHit:10 http://ppa.launchpad.net/ubuntugis/ppa/ubuntu focal InRelease\n",
            "\r                                                                               \r0% [Waiting for headers] [Waiting for headers]\r0% [Waiting for headers] [Waiting for headers]\r                                              \rHit:11 http://archive.ubuntu.com/ubuntu focal InRelease\n",
            "Hit:12 http://archive.ubuntu.com/ubuntu focal-updates InRelease\n",
            "Hit:13 http://archive.ubuntu.com/ubuntu focal-backports InRelease\n",
            "Ign:14 https://developer.download.nvidia.com/compute/machine-learning/repos/ubuntu2004/x86_64  InRelease\n",
            "Hit:15 https://developer.download.nvidia.com/compute/cuda/repos/ubuntu2004/x86_64  InRelease\n",
            "Hit:16 https://developer.download.nvidia.com/compute/machine-learning/repos/ubuntu2004/x86_64  Release\n",
            "Get:17 file:/var/cuda-repo-10-0-local-10.0.130-410.48  Packages [20.6 kB]\n",
            "Reading package lists... Done\n"
          ]
        }
      ]
    },
    {
      "cell_type": "code",
      "source": [
        "%%shell\n",
        "#ajustar repositorio de compiladores  \n",
        "true | add-apt-repository ppa:ubuntu-toolchain-r/test"
      ],
      "metadata": {
        "colab": {
          "base_uri": "https://localhost:8080/"
        },
        "id": "Qx43lHpUCcCl",
        "outputId": "896944d6-9cb3-4900-b6fb-b6d23cf08e6e"
      },
      "execution_count": 14,
      "outputs": [
        {
          "output_type": "stream",
          "name": "stdout",
          "text": [
            " Toolchain test builds; see https://wiki.ubuntu.com/ToolChain\n",
            "\n",
            " More info: https://launchpad.net/~ubuntu-toolchain-r/+archive/ubuntu/test\n",
            "Get:1 file:/var/cuda-repo-10-0-local-10.0.130-410.48  InRelease\n",
            "Ign:1 file:/var/cuda-repo-10-0-local-10.0.130-410.48  InRelease\n",
            "Get:2 file:/var/cuda-repo-10-0-local-10.0.130-410.48  Release [574 B]\n",
            "Get:2 file:/var/cuda-repo-10-0-local-10.0.130-410.48  Release [574 B]\n",
            "Hit:3 http://ppa.launchpad.net/c2d4u.team/c2d4u4.0+/ubuntu focal InRelease\n",
            "Hit:4 http://security.ubuntu.com/ubuntu focal-security InRelease\n",
            "Hit:5 https://cloud.r-project.org/bin/linux/ubuntu focal-cran40/ InRelease\n",
            "Hit:6 http://ppa.launchpad.net/cran/libgit2/ubuntu focal InRelease\n",
            "Hit:7 http://ppa.launchpad.net/deadsnakes/ppa/ubuntu focal InRelease\n",
            "Hit:8 http://ppa.launchpad.net/graphics-drivers/ppa/ubuntu focal InRelease\n",
            "Get:9 http://ppa.launchpad.net/ubuntu-toolchain-r/test/ubuntu focal InRelease [17.5 kB]\n",
            "Hit:11 http://ppa.launchpad.net/ubuntugis/ppa/ubuntu focal InRelease\n",
            "Hit:12 http://archive.ubuntu.com/ubuntu focal InRelease\n",
            "Hit:13 http://archive.ubuntu.com/ubuntu focal-updates InRelease\n",
            "Hit:14 http://archive.ubuntu.com/ubuntu focal-backports InRelease\n",
            "Ign:15 https://developer.download.nvidia.com/compute/machine-learning/repos/ubuntu2004/x86_64  InRelease\n",
            "Hit:16 https://developer.download.nvidia.com/compute/cuda/repos/ubuntu2004/x86_64  InRelease\n",
            "Hit:17 https://developer.download.nvidia.com/compute/machine-learning/repos/ubuntu2004/x86_64  Release\n",
            "Get:18 http://ppa.launchpad.net/ubuntu-toolchain-r/test/ubuntu focal/main amd64 Packages [19.1 kB]\n",
            "Fetched 36.7 kB in 1s (27.7 kB/s)\n",
            "Reading package lists... Done\n"
          ]
        },
        {
          "output_type": "execute_result",
          "data": {
            "text/plain": []
          },
          "metadata": {},
          "execution_count": 14
        }
      ]
    },
    {
      "cell_type": "code",
      "source": [
        "%%shell\n",
        "#instalar gcc 10 e primos\n",
        "apt install gcc-10 g++-10 gcc-10-offload-nvptx libgomp1"
      ],
      "metadata": {
        "colab": {
          "base_uri": "https://localhost:8080/"
        },
        "id": "ymi6Q6_QCcN4",
        "outputId": "5d1ef059-f7c2-45ea-ce70-490b128a8321"
      },
      "execution_count": 17,
      "outputs": [
        {
          "output_type": "stream",
          "name": "stdout",
          "text": [
            "Reading package lists... Done\n",
            "Building dependency tree       \n",
            "Reading state information... Done\n",
            "The following additional packages will be installed:\n",
            "  cpp-10 gcc-11-base libasan6 libgcc-10-dev libgomp-plugin-nvptx1\n",
            "  libstdc++-10-dev nvptx-tools\n",
            "Suggested packages:\n",
            "  gcc-10-locales g++-10-multilib gcc-10-doc gcc-10-multilib libstdc++-10-doc\n",
            "  nvidia-cuda-toolkit\n",
            "The following NEW packages will be installed:\n",
            "  cpp-10 g++-10 gcc-10 gcc-10-offload-nvptx gcc-11-base libasan6 libgcc-10-dev\n",
            "  libgomp-plugin-nvptx1 libstdc++-10-dev nvptx-tools\n",
            "The following packages will be upgraded:\n",
            "  libgomp1\n",
            "1 upgraded, 10 newly installed, 0 to remove and 41 not upgraded.\n",
            "Need to get 51.3 MB of archives.\n",
            "After this operation, 211 MB of additional disk space will be used.\n",
            "Get:1 http://ppa.launchpad.net/ubuntu-toolchain-r/test/ubuntu focal/main amd64 gcc-11-base amd64 11.1.0-1ubuntu1~20.04 [19.0 kB]\n",
            "Get:2 http://archive.ubuntu.com/ubuntu focal-updates/universe amd64 cpp-10 amd64 10.3.0-1ubuntu1~20.04 [8,610 kB]\n",
            "Get:3 http://ppa.launchpad.net/ubuntu-toolchain-r/test/ubuntu focal/main amd64 libgomp1 amd64 11.1.0-1ubuntu1~20.04 [107 kB]\n",
            "Get:4 http://ppa.launchpad.net/ubuntu-toolchain-r/test/ubuntu focal/main amd64 libasan6 amd64 11.1.0-1ubuntu1~20.04 [2,140 kB]\n",
            "Get:5 http://archive.ubuntu.com/ubuntu focal-updates/main amd64 libgcc-10-dev amd64 10.3.0-1ubuntu1~20.04 [2,342 kB]\n",
            "Get:6 http://ppa.launchpad.net/ubuntu-toolchain-r/test/ubuntu focal/main amd64 libgomp-plugin-nvptx1 amd64 11.1.0-1ubuntu1~20.04 [14.2 kB]\n",
            "Get:7 http://archive.ubuntu.com/ubuntu focal-updates/universe amd64 gcc-10 amd64 10.3.0-1ubuntu1~20.04 [17.5 MB]\n",
            "Get:8 http://archive.ubuntu.com/ubuntu focal-updates/universe amd64 libstdc++-10-dev amd64 10.3.0-1ubuntu1~20.04 [1,759 kB]\n",
            "Get:9 http://archive.ubuntu.com/ubuntu focal-updates/universe amd64 g++-10 amd64 10.3.0-1ubuntu1~20.04 [9,803 kB]\n",
            "Get:10 http://archive.ubuntu.com/ubuntu focal/universe amd64 nvptx-tools amd64 0.20180301-1build1 [28.2 kB]\n",
            "Get:11 http://archive.ubuntu.com/ubuntu focal-updates/universe amd64 gcc-10-offload-nvptx amd64 10.3.0-1ubuntu1~20.04 [9,003 kB]\n",
            "Fetched 51.3 MB in 1s (63.3 MB/s)\n",
            "Selecting previously unselected package gcc-11-base:amd64.\n",
            "(Reading database ... 128355 files and directories currently installed.)\n",
            "Preparing to unpack .../00-gcc-11-base_11.1.0-1ubuntu1~20.04_amd64.deb ...\n",
            "Unpacking gcc-11-base:amd64 (11.1.0-1ubuntu1~20.04) ...\n",
            "Selecting previously unselected package cpp-10.\n",
            "Preparing to unpack .../01-cpp-10_10.3.0-1ubuntu1~20.04_amd64.deb ...\n",
            "Unpacking cpp-10 (10.3.0-1ubuntu1~20.04) ...\n",
            "Preparing to unpack .../02-libgomp1_11.1.0-1ubuntu1~20.04_amd64.deb ...\n",
            "Unpacking libgomp1:amd64 (11.1.0-1ubuntu1~20.04) over (10.3.0-1ubuntu1~20.04) ...\n",
            "Selecting previously unselected package libasan6:amd64.\n",
            "Preparing to unpack .../03-libasan6_11.1.0-1ubuntu1~20.04_amd64.deb ...\n",
            "Unpacking libasan6:amd64 (11.1.0-1ubuntu1~20.04) ...\n",
            "Selecting previously unselected package libgcc-10-dev:amd64.\n",
            "Preparing to unpack .../04-libgcc-10-dev_10.3.0-1ubuntu1~20.04_amd64.deb ...\n",
            "Unpacking libgcc-10-dev:amd64 (10.3.0-1ubuntu1~20.04) ...\n",
            "Selecting previously unselected package gcc-10.\n",
            "Preparing to unpack .../05-gcc-10_10.3.0-1ubuntu1~20.04_amd64.deb ...\n",
            "Unpacking gcc-10 (10.3.0-1ubuntu1~20.04) ...\n",
            "Selecting previously unselected package libstdc++-10-dev:amd64.\n",
            "Preparing to unpack .../06-libstdc++-10-dev_10.3.0-1ubuntu1~20.04_amd64.deb ...\n",
            "Unpacking libstdc++-10-dev:amd64 (10.3.0-1ubuntu1~20.04) ...\n",
            "Selecting previously unselected package g++-10.\n",
            "Preparing to unpack .../07-g++-10_10.3.0-1ubuntu1~20.04_amd64.deb ...\n",
            "Unpacking g++-10 (10.3.0-1ubuntu1~20.04) ...\n",
            "Selecting previously unselected package nvptx-tools.\n",
            "Preparing to unpack .../08-nvptx-tools_0.20180301-1build1_amd64.deb ...\n",
            "Unpacking nvptx-tools (0.20180301-1build1) ...\n",
            "Selecting previously unselected package libgomp-plugin-nvptx1:amd64.\n",
            "Preparing to unpack .../09-libgomp-plugin-nvptx1_11.1.0-1ubuntu1~20.04_amd64.deb ...\n",
            "Unpacking libgomp-plugin-nvptx1:amd64 (11.1.0-1ubuntu1~20.04) ...\n",
            "Selecting previously unselected package gcc-10-offload-nvptx.\n",
            "Preparing to unpack .../10-gcc-10-offload-nvptx_10.3.0-1ubuntu1~20.04_amd64.deb ...\n",
            "Unpacking gcc-10-offload-nvptx (10.3.0-1ubuntu1~20.04) ...\n",
            "Setting up gcc-11-base:amd64 (11.1.0-1ubuntu1~20.04) ...\n",
            "Setting up libgomp1:amd64 (11.1.0-1ubuntu1~20.04) ...\n",
            "Setting up libasan6:amd64 (11.1.0-1ubuntu1~20.04) ...\n",
            "Setting up nvptx-tools (0.20180301-1build1) ...\n",
            "Setting up cpp-10 (10.3.0-1ubuntu1~20.04) ...\n",
            "Setting up libgcc-10-dev:amd64 (10.3.0-1ubuntu1~20.04) ...\n",
            "Setting up libgomp-plugin-nvptx1:amd64 (11.1.0-1ubuntu1~20.04) ...\n",
            "Setting up gcc-10 (10.3.0-1ubuntu1~20.04) ...\n",
            "Setting up libstdc++-10-dev:amd64 (10.3.0-1ubuntu1~20.04) ...\n",
            "Setting up g++-10 (10.3.0-1ubuntu1~20.04) ...\n",
            "Setting up gcc-10-offload-nvptx (10.3.0-1ubuntu1~20.04) ...\n",
            "Processing triggers for libc-bin (2.31-0ubuntu9.9) ...\n",
            "Processing triggers for man-db (2.9.1-1) ...\n"
          ]
        },
        {
          "output_type": "execute_result",
          "data": {
            "text/plain": []
          },
          "metadata": {},
          "execution_count": 17
        }
      ]
    },
    {
      "cell_type": "code",
      "source": [
        "!nvcc --version"
      ],
      "metadata": {
        "colab": {
          "base_uri": "https://localhost:8080/"
        },
        "id": "HiGn6zj8Hfcp",
        "outputId": "769cda7f-a0ad-40c5-8969-b5eb6e8407f0"
      },
      "execution_count": 18,
      "outputs": [
        {
          "output_type": "stream",
          "name": "stdout",
          "text": [
            "nvcc: NVIDIA (R) Cuda compiler driver\n",
            "Copyright (c) 2005-2022 NVIDIA Corporation\n",
            "Built on Wed_Sep_21_10:33:58_PDT_2022\n",
            "Cuda compilation tools, release 11.8, V11.8.89\n",
            "Build cuda_11.8.r11.8/compiler.31833905_0\n"
          ]
        }
      ]
    },
    {
      "cell_type": "code",
      "source": [
        "!ln -sfnv /usr/bin/gcc-10 /usr/bin/gcc\n",
        "!which gcc\n",
        "!ls -l /usr/bin/gcc\n",
        "!gcc --version\n"
      ],
      "metadata": {
        "colab": {
          "base_uri": "https://localhost:8080/"
        },
        "id": "3F8SkXv-EZ_N",
        "outputId": "caafdfc5-a9a5-4f5c-e7d2-028f60639488"
      },
      "execution_count": 19,
      "outputs": [
        {
          "output_type": "stream",
          "name": "stdout",
          "text": [
            "'/usr/bin/gcc' -> '/usr/bin/gcc-10'\n",
            "/usr/bin/gcc\n",
            "lrwxrwxrwx 1 root root 15 Mar 14 11:20 /usr/bin/gcc -> /usr/bin/gcc-10\n",
            "gcc (Ubuntu 10.3.0-1ubuntu1~20.04) 10.3.0\n",
            "Copyright (C) 2020 Free Software Foundation, Inc.\n",
            "This is free software; see the source for copying conditions.  There is NO\n",
            "warranty; not even for MERCHANTABILITY or FITNESS FOR A PARTICULAR PURPOSE.\n",
            "\n"
          ]
        }
      ]
    },
    {
      "cell_type": "code",
      "source": [
        "#instalar cuda 10 \n",
        "!apt-get -y install cuda-10-0\n"
      ],
      "metadata": {
        "colab": {
          "base_uri": "https://localhost:8080/"
        },
        "id": "8ZN5eNZ2Drxz",
        "outputId": "01861672-1794-4c79-fc87-0d73f62c69b2"
      },
      "execution_count": 20,
      "outputs": [
        {
          "output_type": "stream",
          "name": "stdout",
          "text": [
            "Reading package lists... Done\n",
            "Building dependency tree       \n",
            "Reading state information... Done\n",
            "The following additional packages will be installed:\n",
            "  cuda-command-line-tools-10-0 cuda-compiler-10-0 cuda-cublas-10-0\n",
            "  cuda-cublas-dev-10-0 cuda-cudart-10-0 cuda-cudart-dev-10-0 cuda-cufft-10-0\n",
            "  cuda-cufft-dev-10-0 cuda-cuobjdump-10-0 cuda-cupti-10-0 cuda-curand-10-0\n",
            "  cuda-curand-dev-10-0 cuda-cusolver-10-0 cuda-cusolver-dev-10-0\n",
            "  cuda-cusparse-10-0 cuda-cusparse-dev-10-0 cuda-demo-suite-10-0\n",
            "  cuda-documentation-10-0 cuda-driver-dev-10-0 cuda-gdb-10-0\n",
            "  cuda-gpu-library-advisor-10-0 cuda-libraries-10-0 cuda-libraries-dev-10-0\n",
            "  cuda-license-10-0 cuda-memcheck-10-0 cuda-misc-headers-10-0 cuda-npp-10-0\n",
            "  cuda-npp-dev-10-0 cuda-nsight-10-0 cuda-nsight-compute-10-0 cuda-nvcc-10-0\n",
            "  cuda-nvdisasm-10-0 cuda-nvgraph-10-0 cuda-nvgraph-dev-10-0 cuda-nvjpeg-10-0\n",
            "  cuda-nvjpeg-dev-10-0 cuda-nvml-dev-10-0 cuda-nvprof-10-0 cuda-nvprune-10-0\n",
            "  cuda-nvrtc-10-0 cuda-nvrtc-dev-10-0 cuda-nvtx-10-0 cuda-nvvp-10-0\n",
            "  cuda-runtime-10-0 cuda-samples-10-0 cuda-toolkit-10-0 cuda-tools-10-0\n",
            "  cuda-visual-tools-10-0 freeglut3 freeglut3-dev libxfixes-dev libxi-dev\n",
            "  libxmu-dev libxmu-headers x11proto-input-dev\n",
            "The following NEW packages will be installed:\n",
            "  cuda-10-0 cuda-command-line-tools-10-0 cuda-compiler-10-0 cuda-cublas-10-0\n",
            "  cuda-cublas-dev-10-0 cuda-cudart-10-0 cuda-cudart-dev-10-0 cuda-cufft-10-0\n",
            "  cuda-cufft-dev-10-0 cuda-cuobjdump-10-0 cuda-cupti-10-0 cuda-curand-10-0\n",
            "  cuda-curand-dev-10-0 cuda-cusolver-10-0 cuda-cusolver-dev-10-0\n",
            "  cuda-cusparse-10-0 cuda-cusparse-dev-10-0 cuda-demo-suite-10-0\n",
            "  cuda-documentation-10-0 cuda-driver-dev-10-0 cuda-gdb-10-0\n",
            "  cuda-gpu-library-advisor-10-0 cuda-libraries-10-0 cuda-libraries-dev-10-0\n",
            "  cuda-license-10-0 cuda-memcheck-10-0 cuda-misc-headers-10-0 cuda-npp-10-0\n",
            "  cuda-npp-dev-10-0 cuda-nsight-10-0 cuda-nsight-compute-10-0 cuda-nvcc-10-0\n",
            "  cuda-nvdisasm-10-0 cuda-nvgraph-10-0 cuda-nvgraph-dev-10-0 cuda-nvjpeg-10-0\n",
            "  cuda-nvjpeg-dev-10-0 cuda-nvml-dev-10-0 cuda-nvprof-10-0 cuda-nvprune-10-0\n",
            "  cuda-nvrtc-10-0 cuda-nvrtc-dev-10-0 cuda-nvtx-10-0 cuda-nvvp-10-0\n",
            "  cuda-runtime-10-0 cuda-samples-10-0 cuda-toolkit-10-0 cuda-tools-10-0\n",
            "  cuda-visual-tools-10-0 freeglut3 freeglut3-dev libxfixes-dev libxi-dev\n",
            "  libxmu-dev libxmu-headers x11proto-input-dev\n",
            "0 upgraded, 56 newly installed, 0 to remove and 41 not upgraded.\n",
            "Need to get 503 kB/1,364 MB of archives.\n",
            "After this operation, 3,139 MB of additional disk space will be used.\n",
            "Get:1 file:/var/cuda-repo-10-0-local-10.0.130-410.48  cuda-license-10-0 10.0.130-1 [17.6 kB]\n",
            "Get:2 file:/var/cuda-repo-10-0-local-10.0.130-410.48  cuda-misc-headers-10-0 10.0.130-1 [640 kB]\n",
            "Get:3 file:/var/cuda-repo-10-0-local-10.0.130-410.48  cuda-nvcc-10-0 10.0.130-1 [20.0 MB]\n",
            "Get:4 file:/var/cuda-repo-10-0-local-10.0.130-410.48  cuda-cuobjdump-10-0 10.0.130-1 [130 kB]\n",
            "Get:5 file:/var/cuda-repo-10-0-local-10.0.130-410.48  cuda-nvprune-10-0 10.0.130-1 [36.8 kB]\n",
            "Get:6 file:/var/cuda-repo-10-0-local-10.0.130-410.48  cuda-compiler-10-0 10.0.130-1 [2,538 B]\n",
            "Get:7 http://archive.ubuntu.com/ubuntu focal/universe amd64 freeglut3 amd64 2.8.1-3 [73.6 kB]\n",
            "Get:8 file:/var/cuda-repo-10-0-local-10.0.130-410.48  cuda-nvdisasm-10-0 10.0.130-1 [22.1 MB]\n",
            "Get:9 file:/var/cuda-repo-10-0-local-10.0.130-410.48  cuda-gdb-10-0 10.0.130-1 [2,769 kB]\n",
            "Get:10 file:/var/cuda-repo-10-0-local-10.0.130-410.48  cuda-nvprof-10-0 10.0.130-1 [5,590 kB]\n",
            "Get:11 file:/var/cuda-repo-10-0-local-10.0.130-410.48  cuda-memcheck-10-0 10.0.130-1 [139 kB]\n",
            "Get:12 file:/var/cuda-repo-10-0-local-10.0.130-410.48  cuda-cudart-10-0 10.0.130-1 [109 kB]\n",
            "Get:13 file:/var/cuda-repo-10-0-local-10.0.130-410.48  cuda-driver-dev-10-0 10.0.130-1 [12.0 kB]\n",
            "Get:14 file:/var/cuda-repo-10-0-local-10.0.130-410.48  cuda-cudart-dev-10-0 10.0.130-1 [457 kB]\n",
            "Get:15 file:/var/cuda-repo-10-0-local-10.0.130-410.48  cuda-cupti-10-0 10.0.130-1 [1,564 kB]\n",
            "Get:16 file:/var/cuda-repo-10-0-local-10.0.130-410.48  cuda-gpu-library-advisor-10-0 10.0.130-1 [1,003 kB]\n",
            "Get:17 file:/var/cuda-repo-10-0-local-10.0.130-410.48  cuda-nvtx-10-0 10.0.130-1 [38.9 kB]\n",
            "Get:18 file:/var/cuda-repo-10-0-local-10.0.130-410.48  cuda-command-line-tools-10-0 10.0.130-1 [26.9 kB]\n",
            "Get:19 file:/var/cuda-repo-10-0-local-10.0.130-410.48  cuda-nsight-10-0 10.0.130-1 [2,590 B]\n",
            "Get:20 file:/var/cuda-repo-10-0-local-10.0.130-410.48  cuda-nvvp-10-0 10.0.130-1 [2,536 B]\n",
            "Get:21 http://archive.ubuntu.com/ubuntu focal/universe amd64 freeglut3-dev amd64 2.8.1-3 [124 kB]\n",
            "Get:22 file:/var/cuda-repo-10-0-local-10.0.130-410.48  cuda-nvrtc-10-0 10.0.130-1 [5,925 kB]\n",
            "Get:23 file:/var/cuda-repo-10-0-local-10.0.130-410.48  cuda-nvrtc-dev-10-0 10.0.130-1 [9,344 B]\n",
            "Get:24 http://archive.ubuntu.com/ubuntu focal/main amd64 libxmu-headers all 2:1.1.3-0ubuntu1 [54.2 kB]\n",
            "Get:25 http://archive.ubuntu.com/ubuntu focal/main amd64 libxmu-dev amd64 2:1.1.3-0ubuntu1 [49.9 kB]\n",
            "Get:26 http://archive.ubuntu.com/ubuntu focal/main amd64 libxfixes-dev amd64 1:5.0.3-2 [11.4 kB]\n",
            "Get:27 http://archive.ubuntu.com/ubuntu focal/main amd64 x11proto-input-dev all 2019.2-1ubuntu1 [2,628 B]\n",
            "Get:28 http://archive.ubuntu.com/ubuntu focal/main amd64 libxi-dev amd64 2:1.7.10-0ubuntu1 [187 kB]\n",
            "Get:29 file:/var/cuda-repo-10-0-local-10.0.130-410.48  cuda-cusolver-10-0 10.0.130-1 [38.4 MB]\n",
            "Get:30 file:/var/cuda-repo-10-0-local-10.0.130-410.48  cuda-cusolver-dev-10-0 10.0.130-1 [13.2 MB]\n",
            "Get:31 file:/var/cuda-repo-10-0-local-10.0.130-410.48  cuda-cublas-10-0 10.0.130-1 [30.3 MB]\n",
            "Get:32 file:/var/cuda-repo-10-0-local-10.0.130-410.48  cuda-cublas-dev-10-0 10.0.130-1 [30.8 MB]\n",
            "Get:33 file:/var/cuda-repo-10-0-local-10.0.130-410.48  cuda-cufft-10-0 10.0.130-1 [60.7 MB]\n",
            "Get:34 file:/var/cuda-repo-10-0-local-10.0.130-410.48  cuda-cufft-dev-10-0 10.0.130-1 [124 MB]\n",
            "Get:35 file:/var/cuda-repo-10-0-local-10.0.130-410.48  cuda-curand-10-0 10.0.130-1 [38.9 MB]\n",
            "Get:36 file:/var/cuda-repo-10-0-local-10.0.130-410.48  cuda-curand-dev-10-0 10.0.130-1 [58.1 MB]\n",
            "Get:37 file:/var/cuda-repo-10-0-local-10.0.130-410.48  cuda-cusparse-10-0 10.0.130-1 [27.1 MB]\n",
            "Get:38 file:/var/cuda-repo-10-0-local-10.0.130-410.48  cuda-cusparse-dev-10-0 10.0.130-1 [27.2 MB]\n",
            "Get:39 file:/var/cuda-repo-10-0-local-10.0.130-410.48  cuda-npp-10-0 10.0.130-1 [54.2 MB]\n",
            "Get:40 file:/var/cuda-repo-10-0-local-10.0.130-410.48  cuda-npp-dev-10-0 10.0.130-1 [55.0 MB]\n",
            "Get:41 file:/var/cuda-repo-10-0-local-10.0.130-410.48  cuda-nvml-dev-10-0 10.0.130-1 [51.6 kB]\n",
            "Get:42 file:/var/cuda-repo-10-0-local-10.0.130-410.48  cuda-nvgraph-10-0 10.0.130-1 [12.8 MB]\n",
            "Get:43 file:/var/cuda-repo-10-0-local-10.0.130-410.48  cuda-nvgraph-dev-10-0 10.0.130-1 [33.4 MB]\n",
            "Get:44 file:/var/cuda-repo-10-0-local-10.0.130-410.48  cuda-nvjpeg-10-0 10.0.130-1 [281 kB]\n",
            "Get:45 file:/var/cuda-repo-10-0-local-10.0.130-410.48  cuda-nvjpeg-dev-10-0 10.0.130-1 [192 kB]\n",
            "Get:46 file:/var/cuda-repo-10-0-local-10.0.130-410.48  cuda-nsight-compute-10-0 10.0.130-1 [188 MB]\n",
            "Get:47 file:/var/cuda-repo-10-0-local-10.0.130-410.48  cuda-visual-tools-10-0 10.0.130-1 [394 MB]\n",
            "Get:48 file:/var/cuda-repo-10-0-local-10.0.130-410.48  cuda-tools-10-0 10.0.130-1 [2,498 B]\n",
            "Get:49 file:/var/cuda-repo-10-0-local-10.0.130-410.48  cuda-samples-10-0 10.0.130-1 [61.5 MB]\n",
            "Get:50 file:/var/cuda-repo-10-0-local-10.0.130-410.48  cuda-documentation-10-0 10.0.130-1 [52.0 MB]\n",
            "Get:51 file:/var/cuda-repo-10-0-local-10.0.130-410.48  cuda-libraries-dev-10-0 10.0.130-1 [2,606 B]\n",
            "Get:52 file:/var/cuda-repo-10-0-local-10.0.130-410.48  cuda-toolkit-10-0 10.0.130-1 [2,834 B]\n",
            "Get:53 file:/var/cuda-repo-10-0-local-10.0.130-410.48  cuda-libraries-10-0 10.0.130-1 [2,586 B]\n",
            "Get:54 file:/var/cuda-repo-10-0-local-10.0.130-410.48  cuda-runtime-10-0 10.0.130-1 [2,540 B]\n",
            "Get:55 file:/var/cuda-repo-10-0-local-10.0.130-410.48  cuda-demo-suite-10-0 10.0.130-1 [3,868 kB]\n",
            "Get:56 file:/var/cuda-repo-10-0-local-10.0.130-410.48  cuda-10-0 10.0.130-1 [2,562 B]\n",
            "Fetched 503 kB in 12s (41.4 kB/s)\n",
            "Extracting templates from packages: 100%\n",
            "Selecting previously unselected package cuda-license-10-0.\n",
            "(Reading database ... 129488 files and directories currently installed.)\n",
            "Preparing to unpack .../00-cuda-license-10-0_10.0.130-1_amd64.deb ...\n",
            "Unpacking cuda-license-10-0 (10.0.130-1) ...\n",
            "Selecting previously unselected package cuda-misc-headers-10-0.\n",
            "Preparing to unpack .../01-cuda-misc-headers-10-0_10.0.130-1_amd64.deb ...\n",
            "Unpacking cuda-misc-headers-10-0 (10.0.130-1) ...\n",
            "Selecting previously unselected package cuda-nvcc-10-0.\n",
            "Preparing to unpack .../02-cuda-nvcc-10-0_10.0.130-1_amd64.deb ...\n",
            "Unpacking cuda-nvcc-10-0 (10.0.130-1) ...\n",
            "Selecting previously unselected package cuda-cuobjdump-10-0.\n",
            "Preparing to unpack .../03-cuda-cuobjdump-10-0_10.0.130-1_amd64.deb ...\n",
            "Unpacking cuda-cuobjdump-10-0 (10.0.130-1) ...\n",
            "Selecting previously unselected package cuda-nvprune-10-0.\n",
            "Preparing to unpack .../04-cuda-nvprune-10-0_10.0.130-1_amd64.deb ...\n",
            "Unpacking cuda-nvprune-10-0 (10.0.130-1) ...\n",
            "Selecting previously unselected package cuda-compiler-10-0.\n",
            "Preparing to unpack .../05-cuda-compiler-10-0_10.0.130-1_amd64.deb ...\n",
            "Unpacking cuda-compiler-10-0 (10.0.130-1) ...\n",
            "Selecting previously unselected package cuda-nvdisasm-10-0.\n",
            "Preparing to unpack .../06-cuda-nvdisasm-10-0_10.0.130-1_amd64.deb ...\n",
            "Unpacking cuda-nvdisasm-10-0 (10.0.130-1) ...\n",
            "Selecting previously unselected package cuda-gdb-10-0.\n",
            "Preparing to unpack .../07-cuda-gdb-10-0_10.0.130-1_amd64.deb ...\n",
            "Unpacking cuda-gdb-10-0 (10.0.130-1) ...\n",
            "Selecting previously unselected package cuda-nvprof-10-0.\n",
            "Preparing to unpack .../08-cuda-nvprof-10-0_10.0.130-1_amd64.deb ...\n",
            "Unpacking cuda-nvprof-10-0 (10.0.130-1) ...\n",
            "Selecting previously unselected package cuda-memcheck-10-0.\n",
            "Preparing to unpack .../09-cuda-memcheck-10-0_10.0.130-1_amd64.deb ...\n",
            "Unpacking cuda-memcheck-10-0 (10.0.130-1) ...\n",
            "Selecting previously unselected package cuda-cudart-10-0.\n",
            "Preparing to unpack .../10-cuda-cudart-10-0_10.0.130-1_amd64.deb ...\n",
            "Unpacking cuda-cudart-10-0 (10.0.130-1) ...\n",
            "Selecting previously unselected package cuda-driver-dev-10-0.\n",
            "Preparing to unpack .../11-cuda-driver-dev-10-0_10.0.130-1_amd64.deb ...\n",
            "Unpacking cuda-driver-dev-10-0 (10.0.130-1) ...\n",
            "Selecting previously unselected package cuda-cudart-dev-10-0.\n",
            "Preparing to unpack .../12-cuda-cudart-dev-10-0_10.0.130-1_amd64.deb ...\n",
            "Unpacking cuda-cudart-dev-10-0 (10.0.130-1) ...\n",
            "Selecting previously unselected package cuda-cupti-10-0.\n",
            "Preparing to unpack .../13-cuda-cupti-10-0_10.0.130-1_amd64.deb ...\n",
            "Unpacking cuda-cupti-10-0 (10.0.130-1) ...\n",
            "Selecting previously unselected package cuda-gpu-library-advisor-10-0.\n",
            "Preparing to unpack .../14-cuda-gpu-library-advisor-10-0_10.0.130-1_amd64.deb ...\n",
            "Unpacking cuda-gpu-library-advisor-10-0 (10.0.130-1) ...\n",
            "Selecting previously unselected package cuda-nvtx-10-0.\n",
            "Preparing to unpack .../15-cuda-nvtx-10-0_10.0.130-1_amd64.deb ...\n",
            "Unpacking cuda-nvtx-10-0 (10.0.130-1) ...\n",
            "Selecting previously unselected package cuda-command-line-tools-10-0.\n",
            "Preparing to unpack .../16-cuda-command-line-tools-10-0_10.0.130-1_amd64.deb ...\n",
            "Unpacking cuda-command-line-tools-10-0 (10.0.130-1) ...\n",
            "Selecting previously unselected package cuda-nsight-10-0.\n",
            "Preparing to unpack .../17-cuda-nsight-10-0_10.0.130-1_amd64.deb ...\n",
            "Unpacking cuda-nsight-10-0 (10.0.130-1) ...\n",
            "Selecting previously unselected package cuda-nvvp-10-0.\n",
            "Preparing to unpack .../18-cuda-nvvp-10-0_10.0.130-1_amd64.deb ...\n",
            "Unpacking cuda-nvvp-10-0 (10.0.130-1) ...\n",
            "Selecting previously unselected package cuda-nvrtc-10-0.\n",
            "Preparing to unpack .../19-cuda-nvrtc-10-0_10.0.130-1_amd64.deb ...\n",
            "Unpacking cuda-nvrtc-10-0 (10.0.130-1) ...\n",
            "Selecting previously unselected package cuda-nvrtc-dev-10-0.\n",
            "Preparing to unpack .../20-cuda-nvrtc-dev-10-0_10.0.130-1_amd64.deb ...\n",
            "Unpacking cuda-nvrtc-dev-10-0 (10.0.130-1) ...\n",
            "Selecting previously unselected package cuda-cusolver-10-0.\n",
            "Preparing to unpack .../21-cuda-cusolver-10-0_10.0.130-1_amd64.deb ...\n",
            "Unpacking cuda-cusolver-10-0 (10.0.130-1) ...\n",
            "Selecting previously unselected package cuda-cusolver-dev-10-0.\n",
            "Preparing to unpack .../22-cuda-cusolver-dev-10-0_10.0.130-1_amd64.deb ...\n",
            "Unpacking cuda-cusolver-dev-10-0 (10.0.130-1) ...\n",
            "Selecting previously unselected package cuda-cublas-10-0.\n",
            "Preparing to unpack .../23-cuda-cublas-10-0_10.0.130-1_amd64.deb ...\n",
            "Unpacking cuda-cublas-10-0 (10.0.130-1) ...\n",
            "Selecting previously unselected package cuda-cublas-dev-10-0.\n",
            "Preparing to unpack .../24-cuda-cublas-dev-10-0_10.0.130-1_amd64.deb ...\n",
            "Unpacking cuda-cublas-dev-10-0 (10.0.130-1) ...\n",
            "Selecting previously unselected package cuda-cufft-10-0.\n",
            "Preparing to unpack .../25-cuda-cufft-10-0_10.0.130-1_amd64.deb ...\n",
            "Unpacking cuda-cufft-10-0 (10.0.130-1) ...\n",
            "Selecting previously unselected package cuda-cufft-dev-10-0.\n",
            "Preparing to unpack .../26-cuda-cufft-dev-10-0_10.0.130-1_amd64.deb ...\n",
            "Unpacking cuda-cufft-dev-10-0 (10.0.130-1) ...\n",
            "Selecting previously unselected package cuda-curand-10-0.\n",
            "Preparing to unpack .../27-cuda-curand-10-0_10.0.130-1_amd64.deb ...\n",
            "Unpacking cuda-curand-10-0 (10.0.130-1) ...\n",
            "Selecting previously unselected package cuda-curand-dev-10-0.\n",
            "Preparing to unpack .../28-cuda-curand-dev-10-0_10.0.130-1_amd64.deb ...\n",
            "Unpacking cuda-curand-dev-10-0 (10.0.130-1) ...\n",
            "Selecting previously unselected package cuda-cusparse-10-0.\n",
            "Preparing to unpack .../29-cuda-cusparse-10-0_10.0.130-1_amd64.deb ...\n",
            "Unpacking cuda-cusparse-10-0 (10.0.130-1) ...\n",
            "Selecting previously unselected package cuda-cusparse-dev-10-0.\n",
            "Preparing to unpack .../30-cuda-cusparse-dev-10-0_10.0.130-1_amd64.deb ...\n",
            "Unpacking cuda-cusparse-dev-10-0 (10.0.130-1) ...\n",
            "Selecting previously unselected package cuda-npp-10-0.\n",
            "Preparing to unpack .../31-cuda-npp-10-0_10.0.130-1_amd64.deb ...\n",
            "Unpacking cuda-npp-10-0 (10.0.130-1) ...\n",
            "Selecting previously unselected package cuda-npp-dev-10-0.\n",
            "Preparing to unpack .../32-cuda-npp-dev-10-0_10.0.130-1_amd64.deb ...\n",
            "Unpacking cuda-npp-dev-10-0 (10.0.130-1) ...\n",
            "Selecting previously unselected package cuda-nvml-dev-10-0.\n",
            "Preparing to unpack .../33-cuda-nvml-dev-10-0_10.0.130-1_amd64.deb ...\n",
            "Unpacking cuda-nvml-dev-10-0 (10.0.130-1) ...\n",
            "Selecting previously unselected package cuda-nvgraph-10-0.\n",
            "Preparing to unpack .../34-cuda-nvgraph-10-0_10.0.130-1_amd64.deb ...\n",
            "Unpacking cuda-nvgraph-10-0 (10.0.130-1) ...\n",
            "Selecting previously unselected package cuda-nvgraph-dev-10-0.\n",
            "Preparing to unpack .../35-cuda-nvgraph-dev-10-0_10.0.130-1_amd64.deb ...\n",
            "Unpacking cuda-nvgraph-dev-10-0 (10.0.130-1) ...\n",
            "Selecting previously unselected package cuda-nvjpeg-10-0.\n",
            "Preparing to unpack .../36-cuda-nvjpeg-10-0_10.0.130-1_amd64.deb ...\n",
            "Unpacking cuda-nvjpeg-10-0 (10.0.130-1) ...\n",
            "Selecting previously unselected package cuda-nvjpeg-dev-10-0.\n",
            "Preparing to unpack .../37-cuda-nvjpeg-dev-10-0_10.0.130-1_amd64.deb ...\n",
            "Unpacking cuda-nvjpeg-dev-10-0 (10.0.130-1) ...\n",
            "Selecting previously unselected package cuda-nsight-compute-10-0.\n",
            "Preparing to unpack .../38-cuda-nsight-compute-10-0_10.0.130-1_amd64.deb ...\n",
            "Unpacking cuda-nsight-compute-10-0 (10.0.130-1) ...\n",
            "Selecting previously unselected package cuda-visual-tools-10-0.\n",
            "Preparing to unpack .../39-cuda-visual-tools-10-0_10.0.130-1_amd64.deb ...\n",
            "Unpacking cuda-visual-tools-10-0 (10.0.130-1) ...\n",
            "Selecting previously unselected package cuda-tools-10-0.\n",
            "Preparing to unpack .../40-cuda-tools-10-0_10.0.130-1_amd64.deb ...\n",
            "Unpacking cuda-tools-10-0 (10.0.130-1) ...\n",
            "Selecting previously unselected package freeglut3:amd64.\n",
            "Preparing to unpack .../41-freeglut3_2.8.1-3_amd64.deb ...\n",
            "Unpacking freeglut3:amd64 (2.8.1-3) ...\n",
            "Selecting previously unselected package freeglut3-dev:amd64.\n",
            "Preparing to unpack .../42-freeglut3-dev_2.8.1-3_amd64.deb ...\n",
            "Unpacking freeglut3-dev:amd64 (2.8.1-3) ...\n",
            "Selecting previously unselected package libxmu-headers.\n",
            "Preparing to unpack .../43-libxmu-headers_2%3a1.1.3-0ubuntu1_all.deb ...\n",
            "Unpacking libxmu-headers (2:1.1.3-0ubuntu1) ...\n",
            "Selecting previously unselected package libxmu-dev:amd64.\n",
            "Preparing to unpack .../44-libxmu-dev_2%3a1.1.3-0ubuntu1_amd64.deb ...\n",
            "Unpacking libxmu-dev:amd64 (2:1.1.3-0ubuntu1) ...\n",
            "Selecting previously unselected package libxfixes-dev:amd64.\n",
            "Preparing to unpack .../45-libxfixes-dev_1%3a5.0.3-2_amd64.deb ...\n",
            "Unpacking libxfixes-dev:amd64 (1:5.0.3-2) ...\n",
            "Selecting previously unselected package x11proto-input-dev.\n",
            "Preparing to unpack .../46-x11proto-input-dev_2019.2-1ubuntu1_all.deb ...\n",
            "Unpacking x11proto-input-dev (2019.2-1ubuntu1) ...\n",
            "Selecting previously unselected package libxi-dev:amd64.\n",
            "Preparing to unpack .../47-libxi-dev_2%3a1.7.10-0ubuntu1_amd64.deb ...\n",
            "Unpacking libxi-dev:amd64 (2:1.7.10-0ubuntu1) ...\n",
            "Selecting previously unselected package cuda-samples-10-0.\n",
            "Preparing to unpack .../48-cuda-samples-10-0_10.0.130-1_amd64.deb ...\n",
            "Unpacking cuda-samples-10-0 (10.0.130-1) ...\n",
            "Selecting previously unselected package cuda-documentation-10-0.\n",
            "Preparing to unpack .../49-cuda-documentation-10-0_10.0.130-1_amd64.deb ...\n",
            "Unpacking cuda-documentation-10-0 (10.0.130-1) ...\n",
            "Selecting previously unselected package cuda-libraries-dev-10-0.\n",
            "Preparing to unpack .../50-cuda-libraries-dev-10-0_10.0.130-1_amd64.deb ...\n",
            "Unpacking cuda-libraries-dev-10-0 (10.0.130-1) ...\n",
            "Selecting previously unselected package cuda-toolkit-10-0.\n",
            "Preparing to unpack .../51-cuda-toolkit-10-0_10.0.130-1_amd64.deb ...\n",
            "Unpacking cuda-toolkit-10-0 (10.0.130-1) ...\n",
            "Selecting previously unselected package cuda-libraries-10-0.\n",
            "Preparing to unpack .../52-cuda-libraries-10-0_10.0.130-1_amd64.deb ...\n",
            "Unpacking cuda-libraries-10-0 (10.0.130-1) ...\n",
            "Selecting previously unselected package cuda-runtime-10-0.\n",
            "Preparing to unpack .../53-cuda-runtime-10-0_10.0.130-1_amd64.deb ...\n",
            "Unpacking cuda-runtime-10-0 (10.0.130-1) ...\n",
            "Selecting previously unselected package cuda-demo-suite-10-0.\n",
            "Preparing to unpack .../54-cuda-demo-suite-10-0_10.0.130-1_amd64.deb ...\n",
            "Unpacking cuda-demo-suite-10-0 (10.0.130-1) ...\n",
            "Selecting previously unselected package cuda-10-0.\n",
            "Preparing to unpack .../55-cuda-10-0_10.0.130-1_amd64.deb ...\n",
            "Unpacking cuda-10-0 (10.0.130-1) ...\n",
            "Setting up libxmu-headers (2:1.1.3-0ubuntu1) ...\n",
            "Setting up freeglut3:amd64 (2.8.1-3) ...\n",
            "Setting up libxmu-dev:amd64 (2:1.1.3-0ubuntu1) ...\n",
            "Setting up libxfixes-dev:amd64 (1:5.0.3-2) ...\n",
            "Setting up freeglut3-dev:amd64 (2.8.1-3) ...\n",
            "Setting up cuda-license-10-0 (10.0.130-1) ...\n",
            "*** LICENSE AGREEMENT ***\n",
            "By using this software you agree to fully comply with the terms and \n",
            "conditions of the EULA (End User License Agreement). The EULA is located\n",
            "at /usr/local/cuda-10.0/doc/EULA.txt. The EULA can also be found at\n",
            "http://docs.nvidia.com/cuda/eula/index.html. If you do not agree to the\n",
            "terms and conditions of the EULA, do not use the software.\n",
            "\n",
            "Setting up cuda-nvml-dev-10-0 (10.0.130-1) ...\n",
            "Setting up x11proto-input-dev (2019.2-1ubuntu1) ...\n",
            "Setting up cuda-gpu-library-advisor-10-0 (10.0.130-1) ...\n",
            "Setting up cuda-cufft-10-0 (10.0.130-1) ...\n",
            "Setting up cuda-cufft-dev-10-0 (10.0.130-1) ...\n",
            "Setting up cuda-nvdisasm-10-0 (10.0.130-1) ...\n",
            "Setting up libxi-dev:amd64 (2:1.7.10-0ubuntu1) ...\n",
            "Setting up cuda-nvgraph-10-0 (10.0.130-1) ...\n",
            "Setting up cuda-nvvp-10-0 (10.0.130-1) ...\n",
            "Setting up cuda-cudart-10-0 (10.0.130-1) ...\n",
            "Setting up cuda-misc-headers-10-0 (10.0.130-1) ...\n",
            "Setting up cuda-cusolver-10-0 (10.0.130-1) ...\n",
            "Setting up cuda-cusparse-10-0 (10.0.130-1) ...\n",
            "Setting up cuda-nsight-10-0 (10.0.130-1) ...\n",
            "Setting up cuda-nvprune-10-0 (10.0.130-1) ...\n",
            "Setting up cuda-nsight-compute-10-0 (10.0.130-1) ...\n",
            "Setting up cuda-memcheck-10-0 (10.0.130-1) ...\n",
            "Setting up cuda-cuobjdump-10-0 (10.0.130-1) ...\n",
            "Setting up cuda-nvtx-10-0 (10.0.130-1) ...\n",
            "Setting up cuda-nvgraph-dev-10-0 (10.0.130-1) ...\n",
            "Setting up cuda-nvjpeg-10-0 (10.0.130-1) ...\n",
            "Setting up cuda-nvjpeg-dev-10-0 (10.0.130-1) ...\n",
            "Setting up cuda-nvcc-10-0 (10.0.130-1) ...\n",
            "Setting up cuda-driver-dev-10-0 (10.0.130-1) ...\n",
            "Setting up cuda-cublas-10-0 (10.0.130-1) ...\n",
            "Setting up cuda-nvrtc-10-0 (10.0.130-1) ...\n",
            "Setting up cuda-npp-10-0 (10.0.130-1) ...\n",
            "Setting up cuda-nvprof-10-0 (10.0.130-1) ...\n",
            "Setting up cuda-curand-10-0 (10.0.130-1) ...\n",
            "Setting up cuda-cublas-dev-10-0 (10.0.130-1) ...\n",
            "Setting up cuda-npp-dev-10-0 (10.0.130-1) ...\n",
            "Setting up cuda-curand-dev-10-0 (10.0.130-1) ...\n",
            "Setting up cuda-cudart-dev-10-0 (10.0.130-1) ...\n",
            "Setting up cuda-gdb-10-0 (10.0.130-1) ...\n",
            "Setting up cuda-cusparse-dev-10-0 (10.0.130-1) ...\n",
            "Setting up cuda-compiler-10-0 (10.0.130-1) ...\n",
            "Setting up cuda-cusolver-dev-10-0 (10.0.130-1) ...\n",
            "Setting up cuda-nvrtc-dev-10-0 (10.0.130-1) ...\n",
            "Setting up cuda-libraries-10-0 (10.0.130-1) ...\n",
            "Setting up cuda-cupti-10-0 (10.0.130-1) ...\n",
            "Setting up cuda-samples-10-0 (10.0.130-1) ...\n",
            "Setting up cuda-libraries-dev-10-0 (10.0.130-1) ...\n",
            "Setting up cuda-command-line-tools-10-0 (10.0.130-1) ...\n",
            "Setting up cuda-runtime-10-0 (10.0.130-1) ...\n",
            "Setting up cuda-documentation-10-0 (10.0.130-1) ...\n",
            "Setting up cuda-visual-tools-10-0 (10.0.130-1) ...\n",
            "Setting up cuda-tools-10-0 (10.0.130-1) ...\n",
            "Setting up cuda-demo-suite-10-0 (10.0.130-1) ...\n",
            "Setting up cuda-toolkit-10-0 (10.0.130-1) ...\n",
            "Setting up cuda-10-0 (10.0.130-1) ...\n",
            "Processing triggers for man-db (2.9.1-1) ...\n",
            "Processing triggers for libc-bin (2.31-0ubuntu9.9) ...\n"
          ]
        }
      ]
    },
    {
      "cell_type": "code",
      "source": [
        "!ls -l /usr/local"
      ],
      "metadata": {
        "colab": {
          "base_uri": "https://localhost:8080/"
        },
        "id": "cA-qRN7vCcYN",
        "outputId": "1641b2df-9b4d-42a6-97d5-2bbfc0bcebd8"
      },
      "execution_count": 21,
      "outputs": [
        {
          "output_type": "stream",
          "name": "stdout",
          "text": [
            "total 56\n",
            "drwxr-xr-x  1 root root 4096 Mar 10 21:03 bin\n",
            "drwxr-xr-x  3 root root 4096 Mar 10 21:03 colab\n",
            "lrwxrwxrwx  1 root root    9 Mar 14 11:22 cuda -> cuda-10.0\n",
            "drwxr-xr-x 16 root root 4096 Mar 14 11:22 cuda-10.0\n",
            "lrwxrwxrwx  1 root root   25 Feb  2 05:19 cuda-11 -> /etc/alternatives/cuda-11\n",
            "drwxr-xr-x  1 root root 4096 Mar 10 20:43 cuda-11.8\n",
            "drwxr-xr-x  1 root root 4096 Mar 10 20:58 etc\n",
            "drwxr-xr-x  2 root root 4096 Jan 26 08:26 games\n",
            "drwxr-xr-x  2 root root 4096 Mar 10 20:56 _gcs_config_ops.so\n",
            "drwxr-xr-x  2 root root 4096 Mar 10 20:58 images\n",
            "drwxr-xr-x  1 root root 4096 Mar 10 20:57 include\n",
            "drwxr-xr-x  1 root root 4096 Mar 10 20:57 lib\n",
            "drwxr-xr-x  3 root root 4096 Mar 10 20:56 licensing\n",
            "lrwxrwxrwx  1 root root    9 Jan 26 08:26 man -> share/man\n",
            "drwxr-xr-x  2 root root 4096 Jan 26 08:28 sbin\n",
            "drwxr-xr-x  1 root root 4096 Mar 10 20:59 share\n",
            "drwxr-xr-x  2 root root 4096 Jan 26 08:26 src\n"
          ]
        }
      ]
    },
    {
      "cell_type": "code",
      "source": [
        "%%shell\n",
        "#ajustar link para cuda-10\n",
        "#ln -sfnv /usr/local/cuda-10.0/ /usr/local/cuda\n",
        "#instalar matplotlib\n",
        "pip install -q matplotlib numpy"
      ],
      "metadata": {
        "colab": {
          "base_uri": "https://localhost:8080/"
        },
        "id": "HqmyZp3JDr1I",
        "outputId": "1fb90057-213f-4286-e2ca-df6428929f47"
      },
      "execution_count": 23,
      "outputs": [
        {
          "output_type": "execute_result",
          "data": {
            "text/plain": []
          },
          "metadata": {},
          "execution_count": 23
        }
      ]
    },
    {
      "cell_type": "markdown",
      "source": [
        "\n",
        "Vamos testar nosso ambiente de programação. "
      ],
      "metadata": {
        "id": "bkhWQSVHjmXP"
      }
    },
    {
      "cell_type": "code",
      "source": [
        "%%writefile test.c\n",
        "\n",
        "#include <omp.h>\n",
        "#include <stdio.h>\n",
        "\n",
        "int main() {\n",
        "  int numdevices = omp_get_num_devices();\n",
        "  printf(\"number of devices= %d\\n\", numdevices);\n",
        "}"
      ],
      "metadata": {
        "colab": {
          "base_uri": "https://localhost:8080/"
        },
        "id": "q1SdNZkf1y3h",
        "outputId": "4d0b4a76-bf3d-46e8-f65d-378b2bd57cf1"
      },
      "execution_count": 24,
      "outputs": [
        {
          "output_type": "stream",
          "name": "stdout",
          "text": [
            "Writing test.c\n"
          ]
        }
      ]
    },
    {
      "cell_type": "markdown",
      "source": [
        "## Compilando\n",
        "\n",
        "Para compilar um programa OpenMP para GPUs neste ambiente, use os flags abaixo.\n"
      ],
      "metadata": {
        "id": "kxrf6_Vf-jHW"
      }
    },
    {
      "cell_type": "code",
      "source": [
        "%%shell\n",
        "\n",
        "#clang -fopenmp -fopenmp-targets=nvptx64-nvidia-cuda test.c -o teste\n",
        "gcc -fno-lto -fopenmp -foffload=nvptx-none -fstack-protector test.c -o test\n",
        "./test"
      ],
      "metadata": {
        "colab": {
          "base_uri": "https://localhost:8080/"
        },
        "id": "d1nutgLC2FNu",
        "outputId": "641bae56-be95-46ff-e5c7-50a73c91d094"
      },
      "execution_count": 26,
      "outputs": [
        {
          "output_type": "stream",
          "name": "stdout",
          "text": [
            "number of devices= 1\n"
          ]
        },
        {
          "output_type": "execute_result",
          "data": {
            "text/plain": []
          },
          "metadata": {},
          "execution_count": 26
        }
      ]
    },
    {
      "cell_type": "markdown",
      "source": [
        "Vamos verificar o modelo de GPU alocada. "
      ],
      "metadata": {
        "id": "fnWo2aV_jzyC"
      }
    },
    {
      "cell_type": "markdown",
      "source": [
        "## Cálculo de Pi - versão serial\n",
        "\n",
        "O programa a seguir calcula o valos re Pi pelo método de integração numérica. Esta primeira versão trabalha de forma serial, somente na CPU. Nas próximas versões, nós faremos melhorias nesse programa para acelerar o seu desempenho. \n"
      ],
      "metadata": {
        "id": "Meg61W0NkC_I"
      }
    },
    {
      "cell_type": "code",
      "source": [
        "%%writefile ex1-pi_serial.c\n",
        "// The OpenMP Common Core - pg. 58\n",
        "// https://github.com/tgmattso/OmpCommonCore/blob/master/Book/C/Fig_4.5_poprogseq.c\n",
        "#include <stdio.h>\n",
        "#include <omp.h>\n",
        "static long num_steps = 100000000;\n",
        "double step;\n",
        "int main ()\n",
        "{\n",
        "   int i;\n",
        "   double x, pi, sum = 0.0;\n",
        "   double start_time, run_time;\n",
        "\n",
        "   step = 1.0 / (double) num_steps;\n",
        "\n",
        "   start_time = omp_get_wtime();\n",
        "\n",
        "   for (i = 0; i < num_steps; i++){\n",
        "      x = (i + 0.5) * step;\n",
        "      sum += 4.0 / (1.0 + x * x);\n",
        "   }\n",
        "\n",
        "   pi = step * sum;\n",
        "   run_time = omp_get_wtime() - start_time;\n",
        "   printf(\"pi = \\%lf, \\%ld steps, \\%lf secs\\n \",\n",
        "                pi, num_steps, run_time);\n",
        "}\t"
      ],
      "metadata": {
        "id": "Gi0URNZWzQR0",
        "colab": {
          "base_uri": "https://localhost:8080/"
        },
        "outputId": "dfce4de0-f65a-4ddc-a049-0dda533a01d5"
      },
      "execution_count": 28,
      "outputs": [
        {
          "output_type": "stream",
          "name": "stdout",
          "text": [
            "Writing ex1-pi_serial.c\n"
          ]
        }
      ]
    },
    {
      "cell_type": "code",
      "source": [
        "%%shell\n",
        "\n",
        "#clang -fopenmp -fopenmp-targets=nvptx64-nvidia-cuda ex1-pi_serial.c -o ex1-pi_serial\n",
        "gcc -fno-lto -fopenmp -foffload=nvptx-none -fstack-protector ex1-pi_serial.c -o ex1-pi_serial\n",
        "./ex1-pi_serial"
      ],
      "metadata": {
        "id": "HEyI-Dd5whKn",
        "colab": {
          "base_uri": "https://localhost:8080/"
        },
        "outputId": "024d1860-4cc6-4fdf-f824-c3cd3309ea25"
      },
      "execution_count": 30,
      "outputs": [
        {
          "output_type": "stream",
          "name": "stdout",
          "text": [
            "pi = 3.141593, 100000000 steps, 0.292801 secs\n",
            " "
          ]
        },
        {
          "output_type": "execute_result",
          "data": {
            "text/plain": []
          },
          "metadata": {},
          "execution_count": 30
        }
      ]
    },
    {
      "cell_type": "markdown",
      "source": [
        "## Uma versão paralela pra CPU - Pi-V1.0.c\n",
        "\n",
        "O próximo exemplo mostra uma forma de paralelizar o algoritmo para execução em CPU, utilizando os seguintes recursos do OpenMP:\n",
        "\n",
        "* Regiões paralelas\n",
        "* Loops paralelos\n",
        "* Redução"
      ],
      "metadata": {
        "id": "ILOriiruzKD5"
      }
    },
    {
      "cell_type": "code",
      "source": [
        "%%writefile Pi-V1.0.c\n",
        "\n",
        "#include <stdio.h>\n",
        "#include <omp.h>\n",
        "//static long num_steps = 100000000;\n",
        "static long num_steps = 100000000;\n",
        "double step;\n",
        "int main ()\n",
        "{\n",
        "   int i;\n",
        "   double x, pi, sum = 0.0;\n",
        "   double start_time, run_time;\n",
        "\n",
        "   step = 1.0 / (double) num_steps;\n",
        "\n",
        "   start_time = omp_get_wtime();\n",
        "   #pragma omp parallel \n",
        "   {\n",
        "     double x;        /* cada thread terá sua variavel x local */\n",
        "     #pragma omp for reduction(+:sum)\n",
        "       for (i = 0; i < num_steps; i++){\n",
        "          x = (i + 0.5) * step;\n",
        "          sum += 4.0 / (1.0 + x * x);\n",
        "       }\n",
        "   }\n",
        "   pi = step * sum;\n",
        "   run_time = omp_get_wtime() - start_time;\n",
        "   printf(\"pi = \\%20.15lf, \\%ld steps, \\%lf secs\\n \", pi, num_steps, run_time);\n",
        "}\t"
      ],
      "metadata": {
        "id": "ZuyMcdbuv70m",
        "colab": {
          "base_uri": "https://localhost:8080/"
        },
        "outputId": "8d5e7f46-28e8-4aa4-82b2-0278a7952edb"
      },
      "execution_count": 32,
      "outputs": [
        {
          "output_type": "stream",
          "name": "stdout",
          "text": [
            "Writing Pi-V1.0.c\n"
          ]
        }
      ]
    },
    {
      "cell_type": "code",
      "source": [
        "%%shell\n",
        "\n",
        "#clang -fopenmp -fopenmp-targets=nvptx64-nvidia-cuda Pi-V1.0.c -o Pi-V1.0\n",
        "gcc -fno-lto -fopenmp -foffload=nvptx-none -fstack-protector Pi-V1.0.c -o Pi-V1.0\n",
        "./Pi-V1.0"
      ],
      "metadata": {
        "id": "S-fhnR0I3Oml",
        "colab": {
          "base_uri": "https://localhost:8080/"
        },
        "outputId": "63d3deab-33a0-4be8-c8f8-f04609f3dc2e"
      },
      "execution_count": 33,
      "outputs": [
        {
          "output_type": "stream",
          "name": "stdout",
          "text": [
            "pi =    3.141592653589910, 100000000 steps, 0.246378 secs\n",
            " "
          ]
        },
        {
          "output_type": "execute_result",
          "data": {
            "text/plain": []
          },
          "metadata": {},
          "execution_count": 33
        }
      ]
    },
    {
      "cell_type": "markdown",
      "source": [],
      "metadata": {
        "id": "DR-K26ae_QVw"
      }
    },
    {
      "cell_type": "markdown",
      "source": [
        "# Usando a GPU - Pi melhorado V2.0\n",
        "\n",
        "A seguir, vamos utilizar a GPU para tentar acelerar nosso programa, utilizando:\n",
        "* Construção __target__ :\n",
        "\n",
        "  `#pragma omp target`    \n",
        "  `#pragma omp parallel for`   \n",
        "  `     for (i=0;i<N;i++) ...`\n",
        "\n",
        "  Modifique o programa abaixo, introduzindo a melhoria sugerida: "
      ],
      "metadata": {
        "id": "X7a6iFUxkQFr"
      }
    },
    {
      "cell_type": "code",
      "source": [
        "%%writefile pi-par-V2.c\n",
        "\n",
        "#include <stdio.h>\n",
        "#include <omp.h>\n",
        "static long num_steps = 100000000;\n",
        "double step;\n",
        "int main ()\n",
        "{\n",
        "   int i;\n",
        "   double x, pi, sum = 0.0;\n",
        "   double start_time, run_time;\n",
        "\n",
        "   step = 1.0 / (double) num_steps;\n",
        "\n",
        "   start_time = omp_get_wtime();\n",
        " \n",
        "   // Remover esta linha para versão dos alunos\n",
        "   #pragma omp target map(sum)\n",
        "   {\n",
        "     // Remover esta linha para versão dos alunos\n",
        "     #pragma omp parallel for reduction(+: sum) private(x)\n",
        "     for (i = 0; i < num_steps; i++){\n",
        "       x = (i + 0.5) * step;\n",
        "       sum += 4.0 / (1.0 + x * x);\n",
        "     }\n",
        "   }\n",
        "\n",
        "   pi = step * sum;\n",
        "   run_time = omp_get_wtime() - start_time;\n",
        "   printf(\"pi = \\%lf, \\%ld steps, \\%lf secs\\n \",\n",
        "                pi, num_steps, run_time);\n",
        "}\t"
      ],
      "metadata": {
        "id": "L4I4VPkMze5-",
        "colab": {
          "base_uri": "https://localhost:8080/"
        },
        "outputId": "019bbbb6-c7d2-4ba1-9437-b1ad49672cf8"
      },
      "execution_count": 35,
      "outputs": [
        {
          "output_type": "stream",
          "name": "stdout",
          "text": [
            "Writing pi-par-V2.c\n"
          ]
        }
      ]
    },
    {
      "cell_type": "code",
      "source": [
        "%%shell\n",
        "\n",
        "#clang -O3 -fopenmp -fopenmp-targets=nvptx64-nvidia-cuda  pi-par-V2.c -o pi-par-V2\n",
        "gcc -fno-lto -fopenmp -foffload=nvptx-none -fstack-protector pi-par-V2.c -o pi-par-V2\n",
        "./pi-par-V2"
      ],
      "metadata": {
        "id": "O3xUrwYj0GUE",
        "colab": {
          "base_uri": "https://localhost:8080/"
        },
        "outputId": "13a03297-8104-4c55-dea1-2636ad0800a1"
      },
      "execution_count": 37,
      "outputs": [
        {
          "output_type": "stream",
          "name": "stdout",
          "text": [
            "pi = 3.141593, 100000000 steps, 0.907517 secs\n",
            " "
          ]
        },
        {
          "output_type": "execute_result",
          "data": {
            "text/plain": []
          },
          "metadata": {},
          "execution_count": 37
        }
      ]
    },
    {
      "cell_type": "markdown",
      "source": [
        "\n",
        "__Pergunta:__ O que aconteceu? Compare o tempo de execução com o da CPU."
      ],
      "metadata": {
        "id": "PYszYHwyHpUZ"
      }
    },
    {
      "cell_type": "markdown",
      "source": [
        "## Perfilamento de código (profiling) \n",
        "\n",
        "O NVprof é uma ferramenta de profiling, que fornece diversos contadores de desempenho pelos quais podemos ter uma noção do que pode estar indo mal e limitando o desempenho do programa. "
      ],
      "metadata": {
        "id": "gsS2hpOi_lqC"
      }
    },
    {
      "cell_type": "code",
      "source": [
        "!nvprof ./pi-par-V2"
      ],
      "metadata": {
        "colab": {
          "base_uri": "https://localhost:8080/"
        },
        "id": "lccPU3Qu_29f",
        "outputId": "38a2b305-319e-4929-b990-50b963efb82a"
      },
      "execution_count": 38,
      "outputs": [
        {
          "output_type": "stream",
          "name": "stdout",
          "text": [
            "==17682== NVPROF is profiling process 17682, command: ./pi-par-V2\n",
            "pi = 3.141593, 100000000 steps, 0.566777 secs\n",
            " ==17682== Profiling application: ./pi-par-V2\n",
            "==17682== Profiling result:\n",
            "No kernels were profiled.\n",
            "            Type  Time(%)      Time     Calls       Avg       Min       Max  Name\n",
            "      API calls:   81.40%  263.09ms         1  263.09ms  263.09ms  263.09ms  cuCtxCreate\n",
            "                   18.25%  59.000ms         1  59.000ms  59.000ms  59.000ms  cuCtxDestroy\n",
            "                    0.32%  1.0292ms         1  1.0292ms  1.0292ms  1.0292ms  cuDeviceGetPCIBusId\n",
            "                    0.02%  73.558us        16  4.5970us     133ns  68.344us  cuDeviceGetAttribute\n",
            "                    0.00%  12.046us         1  12.046us  12.046us  12.046us  cuDeviceGetName\n",
            "                    0.00%  7.7130us         2  3.8560us  3.5610us  4.1520us  cuCtxGetDevice\n",
            "                    0.00%  2.0240us         4     506ns     171ns  1.4160us  cuDeviceGetCount\n",
            "                    0.00%  1.7480us         1  1.7480us  1.7480us  1.7480us  cuInit\n",
            "                    0.00%  1.0020us         2     501ns     183ns     819ns  cuDeviceGet\n",
            "                    0.00%     428ns         1     428ns     428ns     428ns  cuCtxGetCurrent\n",
            "                    0.00%     157ns         1     157ns     157ns     157ns  cuDriverGetVersion\n"
          ]
        }
      ]
    },
    {
      "cell_type": "markdown",
      "source": [
        "# Usando a GPU - Pi melhorado V3.0\n",
        "\n",
        "A seguir, vamos utilizar a GPU para tentar acelerar nosso programa, utilizando:\n",
        "* Construção __target__ :\n",
        "\n",
        "  `#pragma omp target`    \n",
        "  `#pragma omp teams`    \n",
        "  `#pragma omp distribute`    \n",
        "  `     for (i=0;i<N;i++) ...`\n",
        "\n",
        "\n",
        "  Modifique o programa abaixo, introduzindo a melhoria sugerida. \n",
        "\n",
        "  Para este exercício, não utilize a construção  `#pragma omp parallel for`. \n"
      ],
      "metadata": {
        "id": "U8WeyznxGiEg"
      }
    },
    {
      "cell_type": "code",
      "source": [
        "%%writefile pi-par-V3.c\n",
        "\n",
        "#include <stdio.h>\n",
        "#include <omp.h>\n",
        "static long num_steps = 100000000;\n",
        "double step;\n",
        "int main ()\n",
        "{\n",
        "   int i;\n",
        "   double x, pi, sum = 0.0;\n",
        "   double start_time, run_time;\n",
        "\n",
        "   step = 1.0 / (double) num_steps;\n",
        "\n",
        "   start_time = omp_get_wtime();\n",
        "   #pragma omp target map(sum)\n",
        "   #pragma omp teams reduction(+: sum)\n",
        "   {\n",
        "     double x;\n",
        "     #pragma omp distribute\n",
        "     for (i = 0; i < num_steps; i++){\n",
        "       x = (i + 0.5) * step;\n",
        "       sum += 4.0 / (1.0 + x * x);\n",
        "     }\n",
        "   }\n",
        "\n",
        "   pi = step * sum;\n",
        "   run_time = omp_get_wtime() - start_time;\n",
        "   printf(\"pi = \\%lf, \\%ld steps, \\%lf secs\\n \",\n",
        "                pi, num_steps, run_time);\n",
        "}\t"
      ],
      "metadata": {
        "id": "Jh8a5Qt_2ES5",
        "colab": {
          "base_uri": "https://localhost:8080/"
        },
        "outputId": "1cf3a729-ae00-4764-8269-75f84a7b9602"
      },
      "execution_count": 39,
      "outputs": [
        {
          "output_type": "stream",
          "name": "stdout",
          "text": [
            "Writing pi-par-V3.c\n"
          ]
        }
      ]
    },
    {
      "cell_type": "code",
      "source": [
        "%%shell\n",
        "\n",
        "#clang -O3 -fopenmp -fopenmp-targets=nvptx64-nvidia-cuda  pi-par-V3.c -o pi-par-V3\n",
        "gcc -fno-lto -fopenmp -foffload=nvptx-none -fstack-protector pi-par-V3.c -o pi-par-V3\n",
        "./pi-par-V3"
      ],
      "metadata": {
        "id": "H4zpaSmzJ3Ej",
        "colab": {
          "base_uri": "https://localhost:8080/"
        },
        "outputId": "4a6d317a-9955-48b5-913f-1e588f62aa19"
      },
      "execution_count": 40,
      "outputs": [
        {
          "output_type": "stream",
          "name": "stdout",
          "text": [
            "pi = 3.141593, 100000000 steps, 0.930886 secs\n",
            " "
          ]
        },
        {
          "output_type": "execute_result",
          "data": {
            "text/plain": []
          },
          "metadata": {},
          "execution_count": 40
        }
      ]
    },
    {
      "cell_type": "code",
      "source": [
        "!nvprof ./pi-par-V3"
      ],
      "metadata": {
        "id": "DYwp_hxXJ_h9",
        "colab": {
          "base_uri": "https://localhost:8080/"
        },
        "outputId": "741da610-ddfd-40f1-b553-62134cfa13d6"
      },
      "execution_count": 41,
      "outputs": [
        {
          "output_type": "stream",
          "name": "stdout",
          "text": [
            "==18278== NVPROF is profiling process 18278, command: ./pi-par-V3\n",
            "pi = 3.141593, 100000000 steps, 0.493290 secs\n",
            " ==18278== Profiling application: ./pi-par-V3\n",
            "==18278== Profiling result:\n",
            "No kernels were profiled.\n",
            "            Type  Time(%)      Time     Calls       Avg       Min       Max  Name\n",
            "      API calls:   73.55%  167.52ms         1  167.52ms  167.52ms  167.52ms  cuCtxCreate\n",
            "                   26.41%  60.162ms         1  60.162ms  60.162ms  60.162ms  cuCtxDestroy\n",
            "                    0.03%  62.214us        16  3.8880us     118ns  57.187us  cuDeviceGetAttribute\n",
            "                    0.01%  11.557us         1  11.557us  11.557us  11.557us  cuDeviceGetName\n",
            "                    0.00%  8.5290us         2  4.2640us  2.7030us  5.8260us  cuCtxGetDevice\n",
            "                    0.00%  5.9400us         1  5.9400us  5.9400us  5.9400us  cuDeviceGetPCIBusId\n",
            "                    0.00%  2.6720us         4     668ns     164ns  1.5370us  cuDeviceGetCount\n",
            "                    0.00%  2.5990us         1  2.5990us  2.5990us  2.5990us  cuInit\n",
            "                    0.00%  1.3390us         2     669ns     270ns  1.0690us  cuDeviceGet\n",
            "                    0.00%     520ns         1     520ns     520ns     520ns  cuCtxGetCurrent\n",
            "                    0.00%     254ns         1     254ns     254ns     254ns  cuDriverGetVersion\n"
          ]
        }
      ]
    },
    {
      "cell_type": "code",
      "source": [],
      "metadata": {
        "id": "2E2se_TOBU2G"
      },
      "execution_count": null,
      "outputs": []
    }
  ]
}