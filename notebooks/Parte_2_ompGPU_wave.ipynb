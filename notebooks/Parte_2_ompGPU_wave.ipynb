{
  "cells": [
    {
      "cell_type": "markdown",
      "metadata": {
        "id": "kBbK2dQW3QYd"
      },
      "source": [
        "# Programe sua GPU com OpenMP\n",
        "\n",
        "Autores: \n",
        "_Hermes Senger_ e\n",
        "_Jaime Freire de Souza_\n",
        "\n",
        "## Configuração do ambiente\n",
        "\n",
        "Precisaremos de um compilador capaz de gerar código executável para GPUs. \n"
      ]
    },
    {
      "cell_type": "code",
      "execution_count": 1,
      "metadata": {
        "colab": {
          "base_uri": "https://localhost:8080/"
        },
        "id": "q3og1sYm1n51",
        "outputId": "ea80c033-e5ed-4c02-cdb7-c725ac152021"
      },
      "outputs": [
        {
          "output_type": "stream",
          "name": "stdout",
          "text": [
            "'/usr/local/cuda' -> '/usr/local/cuda-10.1/'\n",
            "--2022-04-18 02:27:55--  https://openmp-course.s3.amazonaws.com/llvm.tar.gz\n",
            "Resolving openmp-course.s3.amazonaws.com (openmp-course.s3.amazonaws.com)... 52.217.66.236\n",
            "Connecting to openmp-course.s3.amazonaws.com (openmp-course.s3.amazonaws.com)|52.217.66.236|:443... connected.\n",
            "HTTP request sent, awaiting response... 200 OK\n",
            "Length: 810538565 (773M) [application/x-gzip]\n",
            "Saving to: ‘llvm.tar.gz’\n",
            "\n",
            "llvm.tar.gz         100%[===================>] 772.99M  63.5MB/s    in 12s     \n",
            "\n",
            "2022-04-18 02:28:07 (66.0 MB/s) - ‘llvm.tar.gz’ saved [810538565/810538565]\n",
            "\n"
          ]
        },
        {
          "output_type": "execute_result",
          "data": {
            "text/plain": [
              ""
            ]
          },
          "metadata": {},
          "execution_count": 1
        }
      ],
      "source": [
        "%%shell\n",
        "ln -sfnv /usr/local/cuda-10.1/ /usr/local/cuda\n",
        "pip install -q matplotlib numpy\n",
        "wget https://openmp-course.s3.amazonaws.com/llvm.tar.gz\n",
        "tar -xzvf llvm.tar.gz >/dev/null 2>&1\n",
        "#echo \"  ------------  Terminou a instalação! Pode continuar  ------------------\""
      ]
    },
    {
      "cell_type": "code",
      "execution_count": 2,
      "metadata": {
        "id": "lhrUpNNi7ken"
      },
      "outputs": [],
      "source": [
        "import os\n",
        "\n",
        "os.environ['LLVM_PATH'] = '/content/llvm'\n",
        "os.environ['PATH'] = os.environ['LLVM_PATH'] + '/bin:' + os.environ['PATH']\n",
        "os.environ['LD_LIBRARY_PATH'] = os.environ['LLVM_PATH'] + '/lib:' + os.environ['LD_LIBRARY_PATH']\n",
        "os.environ['TSAN_OPTIONS'] = 'ignore_noninstrumented_modules=1'"
      ]
    },
    {
      "cell_type": "code",
      "execution_count": 3,
      "metadata": {
        "id": "u_J6zAc1frBR"
      },
      "outputs": [],
      "source": [
        "import numpy as np\n",
        "import matplotlib.pyplot as plt\n",
        "\n",
        "def plot():\n",
        "\n",
        "    # read the input (wavefield N x M) file\n",
        "    input = np.loadtxt('wavefield/wavefield.txt')\n",
        "\n",
        "    # process data e generate the plot\n",
        "    plt.imshow(input)\n",
        "    plt.show()"
      ]
    },
    {
      "cell_type": "markdown",
      "metadata": {
        "id": "p3qD_lS3frBS"
      },
      "source": [
        "## Exemplo 1 - Modelagem da onda acústica\n",
        "\n",
        "Ondas acústicas são utilizadas para resolver vários problemas em engenharia, medicina, geofísica e etc. A propagação de uma onda acústica pode ser modelada pela equação diferencial abaixo:\n",
        "\n",
        "$$     \\frac{1}{v^2_p}\\frac{\\partial^2p({\\bf x},t)}{\\partial t^2} - \\nabla^2 p({\\bf x},t) = f({\\bf x},t)\n",
        "        \\label{acoustic_iso}$$ \n",
        "\n",
        "onde $v_p$ é a velocidade da onda de pressão, $p({\\bf x},t)$ representa a pressão em um ponto $x$ em um instante $t$ (sendo que as coordenadas no espaço podem ser expandidos para 2 ou 3 dimensões) e $f({\\bf x},t)$ é a fonte do sinal. Para resolvermos de forma numérica (isto é, em um computador), vamos precisar da equação na sua forma discretizada (neste caso, em 2 dimensões):\n",
        "\n",
        "$$ p^{n+1}_{i,j} = 2p^{n}_{i,j} - p^{n-1}_{i,j} + 2\\Delta t^2 .  v^2 \\Big( \\frac{p^{n}_{i+1,j} - 2p^{n}_{i,j} + p^{n}_{i-1,j}} {\\Delta x^2} +  \\frac{p^{n}_{i,j+1} - 2p^{n}_{i,j} + p^{n}_{i,j-1}} {\\Delta y^2} \\Big)\n",
        "\\label{eq:acoustic_iso_discrete} $$\n",
        "\n",
        "onde $p^{n}_{i,j}$ representa um ponto $p$ nas coordenadas ${i,j}$ no instante ($n$). Este é um padrão chamado de _estêncil_, onde cada ponto da matriz é calculado em função dos seus vizinhos. \n",
        "<figure>\n",
        "  <img src=\"stencil-2d.png\" alt=\"Trulli\" style=\"width:25%\">\n",
        "</figure>\n",
        "\n",
        "Felizmente, todos os pontos podem ser calculados simultaneamente (ou seja, em paralelo) seguindo os seguintes passos:\n",
        "\n",
        "- A cada iteração é feita a cópia dos dados (prev_u, next_u, vel_model) da memória do host para o memória da GPU.\n",
        "- O loop do grid (matriz que representa do espaço de propagação da onda) é executado na GPU.\n",
        "- Ao final da iteração, é feita a cópia dos dados (prev_u, next_u) da memória da GPU para a memória do host.\n",
        "\n",
        "## Equação da onda V1.0: \n",
        "\n",
        "Por fazer a cópia dos dados a cada nova iteração, essa solução não é eficiente.\n"
      ]
    },
    {
      "cell_type": "code",
      "execution_count": 4,
      "metadata": {
        "colab": {
          "base_uri": "https://localhost:8080/"
        },
        "id": "q1SdNZkf1y3h",
        "outputId": "72c0de66-74a7-40f1-e5c4-8abc0acbcff7"
      },
      "outputs": [
        {
          "output_type": "stream",
          "name": "stdout",
          "text": [
            "Writing wave_1.c\n"
          ]
        }
      ],
      "source": [
        "%%writefile wave_1.c\n",
        "\n",
        "#include <stdio.h>\n",
        "#include <stdlib.h>\n",
        "#include <omp.h>\n",
        "\n",
        "#define DT 0.002f // delta t\n",
        "#define DZ 20.0f // delta z\n",
        "#define DX 20.0f // delta x\n",
        "#define V 1500.0f // wave velocity v = 1500 m/s\n",
        "\n",
        "//save the matrix on a file.txt\n",
        "void save_grid(size_t nz, size_t nx, double *grid){\n",
        "\n",
        "    system(\"mkdir -p wavefield\");      \n",
        "\n",
        "    char file_name[32];\n",
        "    sprintf(file_name, \"wavefield/wavefield.txt\");\n",
        "\n",
        "    // save the result\n",
        "    FILE *file;\n",
        "    file = fopen(file_name, \"w\");\n",
        "\n",
        "    for(size_t i = 1; i < nz - 1; i++) {\n",
        "\n",
        "        size_t offset = i * nx;\n",
        "\n",
        "        for(size_t j = 1; j < nx - 1; j++) {\n",
        "            fprintf(file, \"%f \", grid[offset + j]);\n",
        "        }\n",
        "        fprintf(file, \"\\n\");\n",
        "    }\n",
        "\n",
        "    fclose(file);\n",
        "}\n",
        "\n",
        "int main(int argc, char* argv[]) {\n",
        "\n",
        "    // validate the parameters\n",
        "    if(argc != 4){\n",
        "        printf(\"Usage: ./stencil N1 N2 ITERATIONS\\n\");\n",
        "        printf(\"N1 N2: grid sizes for the stencil\\n\");\n",
        "        printf(\"ITERATIONS: number of timesteps\\n\");\n",
        "        exit(-1);\n",
        "    }\n",
        "\n",
        "    // number of rows of the grid\n",
        "    size_t nz = atoi(argv[1]);\n",
        "\n",
        "    // number of columns of the grid\n",
        "    size_t nx = atoi(argv[2]);\n",
        "\n",
        "    // number of timesteps\n",
        "    size_t iterations = atoi(argv[3]);    \n",
        "\n",
        "    printf(\"Grid Sizes: %ld x %ld\\n\", nz, nx);\n",
        "    printf(\"Iterations: %ld\\n\", iterations);   \n",
        "\n",
        "    // add the spatial order (halo zone) to the grid size\n",
        "    nz += 2;\n",
        "    nx += 2;\n",
        "\n",
        "    // represent the matrix of wavefield as an array\n",
        "    double *prev_u = (double*) malloc(nz * nx * sizeof(double));\n",
        "    double *next_u = (double*) malloc(nz * nx * sizeof(double));\n",
        "\n",
        "    // represent the matrix of velocities as an array\n",
        "    double *vel_model = (double*) malloc(nz * nx * sizeof(double));\n",
        "\n",
        "    // ************* BEGIN INITIALIZATION *************\n",
        "\n",
        "    printf(\"Initializing ... \\n\");    \n",
        "\n",
        "    // initialize matrix\n",
        "    for(size_t i = 0; i < nz; i++){\n",
        "\n",
        "        size_t offset = i * nx;\n",
        "\n",
        "        for(size_t j = 0; j < nx; j++){\n",
        "            prev_u[offset + j] = 0.0;\n",
        "            next_u[offset + j] = 0.0;\n",
        "            vel_model[offset + j] = V;\n",
        "        }\n",
        "    }    \n",
        "\n",
        "    // add a source to initial wavefield as an initial condition\n",
        "    double val = 1.f;\n",
        "    for(int s = 4; s >= 0; s--){\n",
        "        for(size_t i = nz / 2 - s; i < nz / 2 + s; i++){\n",
        "\n",
        "            size_t offset = i * nx;\n",
        "\n",
        "            for(size_t j = nx / 2 - s; j < nx / 2 + s; j++)\n",
        "                prev_u[offset + j] = val;\n",
        "        }\n",
        "        val *= 0.9;\n",
        "    }\n",
        "\n",
        "    // ************** END INITIALIZATION **************\n",
        "\n",
        "    printf(\"Computing wavefield ... \\n\");   \n",
        "\n",
        "    double dzSquared = DZ * DZ;\n",
        "    double dxSquared = DX * DX;\n",
        "    double dtSquared = DT * DT;    \n",
        "\n",
        "    // get the start time\n",
        "    double start_time = omp_get_wtime();    \n",
        "    \n",
        "\n",
        "    // wavefield modeling        \n",
        "    for(size_t n = 0; n < iterations; n++) {\n",
        "        \n",
        "        #pragma omp target map(tofrom: prev_u[:(nz * nx)], next_u[:(nz * nx)]) \\\n",
        "                           map(to: vel_model[:(nz * nx)])\n",
        "        #pragma omp teams distribute parallel for\n",
        "        for(size_t i = 1; i < nz - 1; i++) {\n",
        "            for(size_t j = 1; j < nx - 1; j++) {\n",
        "                // index of the current point in the grid\n",
        "                size_t current = i * nx + j;                \n",
        "\n",
        "                //neighbors in the horizontal direction\n",
        "                double value = (prev_u[current + 1] - 2.0 * prev_u[current] + prev_u[current - 1]) / dxSquared;\n",
        "                //neighbors in the vertical direction\n",
        "                value += (prev_u[current + nx] - 2.0 * prev_u[current] + prev_u[current - nx]) / dzSquared;                \n",
        "\n",
        "                value *= dtSquared * vel_model[current] * vel_model[current];\n",
        "                next_u[current] = 2.0 * prev_u[current] - next_u[current] + value;\n",
        "            }\n",
        "        }\n",
        "\n",
        "        // swap arrays for next iteration\n",
        "        double *swap = next_u;\n",
        "        next_u = prev_u;\n",
        "        prev_u = swap;        \n",
        "    }    \n",
        "\n",
        "    double exec_time = omp_get_wtime() - start_time;\n",
        "\n",
        "    save_grid(nz, nx, next_u);\n",
        "\n",
        "    printf(\"Iterations completed in %f seconds \\n\", exec_time);\n",
        "\n",
        "    free(prev_u);\n",
        "    free(next_u);\n",
        "    free(vel_model);\n",
        "\n",
        "    return 0;\n",
        "}"
      ]
    },
    {
      "cell_type": "code",
      "execution_count": 7,
      "metadata": {
        "id": "75w1emucfrBV"
      },
      "outputs": [],
      "source": [
        "!clang -O3 -fopenmp -fopenmp-targets=nvptx64-nvidia-cuda -Xopenmp-target -march=sm_37 wave_1.c -o wave_1"
      ]
    },
    {
      "cell_type": "code",
      "execution_count": 8,
      "metadata": {
        "colab": {
          "base_uri": "https://localhost:8080/"
        },
        "id": "6oazxpcqfrBW",
        "outputId": "9395cfb7-38af-4a7e-ac74-9dee414b40d5"
      },
      "outputs": [
        {
          "output_type": "stream",
          "name": "stdout",
          "text": [
            "Grid Sizes: 1024 x 1024\n",
            "Iterations: 1000\n",
            "Initializing ... \n",
            "Computing wavefield ... \n",
            "Iterations completed in 13.158103 seconds \n"
          ]
        }
      ],
      "source": [
        "!./wave_1 1024 1024 1000"
      ]
    },
    {
      "cell_type": "code",
      "execution_count": 9,
      "metadata": {
        "colab": {
          "base_uri": "https://localhost:8080/",
          "height": 269
        },
        "id": "xg0tKdGJfrBW",
        "outputId": "be7720c1-ed1a-4b9f-fbe5-2d3f1d560f9d"
      },
      "outputs": [
        {
          "output_type": "display_data",
          "data": {
            "text/plain": [
              "<Figure size 432x288 with 1 Axes>"
            ],
            "image/png": "[encoded data removed]"
          },
          "metadata": {
            "needs_background": "light"
          }
        }
      ],
      "source": [
        "plot()"
      ]
    },
    {
      "cell_type": "markdown",
      "metadata": {
        "id": "B99WsCe7frBX"
      },
      "source": [
        "### Exemplo 2 - Propagação da onda acústica\n",
        "\n",
        "Esse exemplo apresenta uma otimização em relação ao exemplo anterior:\n",
        "\n",
        "- Inicialmente é feita a cópia dos dados da memória da CPU para a memória da GPU, apenas uma vez.\n",
        "- O loop do grid é executado na GPU a cada nova iteração temporal.\n",
        "- Ao final de todas as iterações temporais, apenas o vetor next_u é capiado de volta para a memória da CPU, pois armazena do campo de onda final.\n"
      ]
    },
    {
      "cell_type": "code",
      "execution_count": 10,
      "metadata": {
        "colab": {
          "base_uri": "https://localhost:8080/"
        },
        "id": "i_U5VK1sfrBX",
        "outputId": "91634e11-dd2d-4474-ff5c-859e59763a71"
      },
      "outputs": [
        {
          "output_type": "stream",
          "name": "stdout",
          "text": [
            "Writing wave_2.c\n"
          ]
        }
      ],
      "source": [
        "%%writefile wave_2.c\n",
        "\n",
        "#include <stdio.h>\n",
        "#include <stdlib.h>\n",
        "#include <omp.h>\n",
        "\n",
        "#define DT 0.002f // delta t\n",
        "#define DZ 20.0f // delta z\n",
        "#define DX 20.0f // delta x\n",
        "#define V 1500.0f // wave velocity v = 1500 m/s\n",
        "\n",
        "//save the matrix on a file.txt\n",
        "void save_grid(size_t nz, size_t nx, double *grid){\n",
        "\n",
        "    system(\"mkdir -p wavefield\");      \n",
        "\n",
        "    char file_name[32];\n",
        "    sprintf(file_name, \"wavefield/wavefield.txt\");\n",
        "\n",
        "    // save the result\n",
        "    FILE *file;\n",
        "    file = fopen(file_name, \"w\");\n",
        "\n",
        "    for(size_t i = 1; i < nz - 1; i++) {\n",
        "\n",
        "        size_t offset = i * nx;\n",
        "\n",
        "        for(size_t j = 1; j < nx - 1; j++) {\n",
        "            fprintf(file, \"%f \", grid[offset + j]);\n",
        "        }\n",
        "        fprintf(file, \"\\n\");\n",
        "    }\n",
        "\n",
        "    fclose(file);\n",
        "}\n",
        "\n",
        "int main(int argc, char* argv[]) {\n",
        "\n",
        "    // validate the parameters\n",
        "    if(argc != 4){\n",
        "        printf(\"Usage: ./stencil N1 N2 ITERATIONS\\n\");\n",
        "        printf(\"N1 N2: grid sizes for the stencil\\n\");\n",
        "        printf(\"ITERATIONS: number of timesteps\\n\");\n",
        "        exit(-1);\n",
        "    }\n",
        "\n",
        "    // number of rows of the grid\n",
        "    size_t nz = atoi(argv[1]);\n",
        "\n",
        "    // number of columns of the grid\n",
        "    size_t nx = atoi(argv[2]);\n",
        "\n",
        "    // number of timesteps\n",
        "    size_t iterations = atoi(argv[3]);    \n",
        "\n",
        "    printf(\"Grid Sizes: %ld x %ld\\n\", nz, nx);\n",
        "    printf(\"Iterations: %ld\\n\", iterations);   \n",
        "\n",
        "    // add the spatial order (halo zone) to the grid size\n",
        "    nz += 2;\n",
        "    nx += 2;\n",
        "\n",
        "    // represent the matrix of wavefield as an array\n",
        "    double *prev_u = (double*) malloc(nz * nx * sizeof(double));\n",
        "    double *next_u = (double*) malloc(nz * nx * sizeof(double));\n",
        "\n",
        "    // represent the matrix of velocities as an array\n",
        "    double *vel_model = (double*) malloc(nz * nx * sizeof(double));\n",
        "\n",
        "    // ************* BEGIN INITIALIZATION *************\n",
        "\n",
        "    printf(\"Initializing ... \\n\");    \n",
        "\n",
        "    // initialize matrix\n",
        "    for(size_t i = 0; i < nz; i++){\n",
        "\n",
        "        size_t offset = i * nx;\n",
        "\n",
        "        for(size_t j = 0; j < nx; j++){\n",
        "            prev_u[offset + j] = 0.0;\n",
        "            next_u[offset + j] = 0.0;\n",
        "            vel_model[offset + j] = V;\n",
        "        }\n",
        "    }    \n",
        "\n",
        "    // add a source to initial wavefield as an initial condition\n",
        "    double val = 1.f;\n",
        "    for(int s = 4; s >= 0; s--){\n",
        "        for(size_t i = nz / 2 - s; i < nz / 2 + s; i++){\n",
        "\n",
        "            size_t offset = i * nx;\n",
        "\n",
        "            for(size_t j = nx / 2 - s; j < nx / 2 + s; j++)\n",
        "                prev_u[offset + j] = val;\n",
        "        }\n",
        "        val *= 0.9;\n",
        "    }\n",
        "\n",
        "    // ************** END INITIALIZATION **************\n",
        "\n",
        "    printf(\"Computing wavefield ... \\n\");   \n",
        "\n",
        "    double dzSquared = DZ * DZ;\n",
        "    double dxSquared = DX * DX;\n",
        "    double dtSquared = DT * DT;    \n",
        "\n",
        "    // get the start time\n",
        "    double start_time = omp_get_wtime();\n",
        "    \n",
        "    #pragma omp target enter data map(to: prev_u[:(nz * nx)])\n",
        "    #pragma omp target enter data map(to: next_u[:(nz * nx)])\n",
        "    #pragma omp target enter data map(to: vel_model[:(nz * nx)])\n",
        "\n",
        "    // wavefield modeling\n",
        "    for(size_t n = 0; n < iterations; n++) {\n",
        "\n",
        "        #pragma omp target teams distribute parallel for\n",
        "        for(size_t i = 1; i < nz - 1; i++) {\n",
        "            for(size_t j = 1; j < nx - 1; j++) {\n",
        "                // index of the current point in the grid\n",
        "                size_t current = i * nx + j;                \n",
        "\n",
        "                //neighbors in the horizontal direction\n",
        "                double value = (prev_u[current + 1] - 2.0 * prev_u[current] + prev_u[current - 1]) / dxSquared;\n",
        "                //neighbors in the vertical direction\n",
        "                value += (prev_u[current + nx] - 2.0 * prev_u[current] + prev_u[current - nx]) / dzSquared;                \n",
        "\n",
        "                value *= dtSquared * vel_model[current] * vel_model[current];\n",
        "                next_u[current] = 2.0 * prev_u[current] - next_u[current] + value;\n",
        "            }\n",
        "        }\n",
        "\n",
        "        // swap arrays for next iteration\n",
        "        double *swap = next_u;\n",
        "        next_u = prev_u;\n",
        "        prev_u = swap;        \n",
        "    }\n",
        "\n",
        "    #pragma omp target exit data map(from: next_u[:(nz * nx)])    \n",
        "\n",
        "    double exec_time = omp_get_wtime() - start_time;\n",
        "\n",
        "    save_grid(nz, nx, next_u);\n",
        "\n",
        "    printf(\"Iterations completed in %f seconds \\n\", exec_time);\n",
        "\n",
        "    free(prev_u);\n",
        "    free(next_u);\n",
        "    free(vel_model);\n",
        "\n",
        "    return 0;\n",
        "}"
      ]
    },
    {
      "cell_type": "code",
      "execution_count": 11,
      "metadata": {
        "id": "L1fgfCaqfrBY"
      },
      "outputs": [],
      "source": [
        "!clang -O3 -fopenmp -fopenmp-targets=nvptx64-nvidia-cuda -Xopenmp-target -march=sm_37 wave_2.c -o wave_2"
      ]
    },
    {
      "cell_type": "code",
      "execution_count": 12,
      "metadata": {
        "colab": {
          "base_uri": "https://localhost:8080/"
        },
        "id": "IUA4TSKCfrBY",
        "outputId": "3791f816-7c1e-461a-9b51-2f419dc61e8b"
      },
      "outputs": [
        {
          "output_type": "stream",
          "name": "stdout",
          "text": [
            "Grid Sizes: 1024 x 1024\n",
            "Iterations: 1000\n",
            "Initializing ... \n",
            "Computing wavefield ... \n",
            "Iterations completed in 5.058884 seconds \n"
          ]
        }
      ],
      "source": [
        "!./wave_2 1024 1024 1000"
      ]
    },
    {
      "cell_type": "code",
      "execution_count": 13,
      "metadata": {
        "colab": {
          "base_uri": "https://localhost:8080/",
          "height": 269
        },
        "id": "wEtHfXaHfrBZ",
        "outputId": "6e0e07a6-3ebc-4d2a-b38f-b64c40919f00"
      },
      "outputs": [
        {
          "output_type": "display_data",
          "data": {
            "text/plain": [
              "<Figure size 432x288 with 1 Axes>"
            ],
            "image/png": "[encoded data removed]"
          },
          "metadata": {
            "needs_background": "light"
          }
        }
      ],
      "source": [
        "plot()"
      ]
    },
    {
      "cell_type": "markdown",
      "metadata": {
        "id": "cfepcrVcfrBZ"
      },
      "source": [
        "### Exemplo 3 - Propagação da onda acústica\n",
        "\n",
        "Esse exemplo adicona a diretiva collapse(2) no loop aninhado que percorre o grid. Essa otimização aumenta a quantidade de threads de trabalho a serem executadas na GPU."
      ]
    },
    {
      "cell_type": "code",
      "execution_count": 14,
      "metadata": {
        "colab": {
          "base_uri": "https://localhost:8080/"
        },
        "id": "C2yoAhR_frBZ",
        "outputId": "058af4cb-0f8e-4aab-c1bd-810cb79d7d54"
      },
      "outputs": [
        {
          "output_type": "stream",
          "name": "stdout",
          "text": [
            "Writing wave_3.c\n"
          ]
        }
      ],
      "source": [
        "%%writefile wave_3.c\n",
        "\n",
        "#include <stdio.h>\n",
        "#include <stdlib.h>\n",
        "#include <omp.h>\n",
        "\n",
        "#define DT 0.002f // delta t\n",
        "#define DZ 20.0f // delta z\n",
        "#define DX 20.0f // delta x\n",
        "#define V 1500.0f // wave velocity v = 1500 m/s\n",
        "\n",
        "//save the matrix on a file.txt\n",
        "void save_grid(size_t nz, size_t nx, double *grid){\n",
        "\n",
        "    system(\"mkdir -p wavefield\");      \n",
        "\n",
        "    char file_name[32];\n",
        "    sprintf(file_name, \"wavefield/wavefield.txt\");\n",
        "\n",
        "    // save the result\n",
        "    FILE *file;\n",
        "    file = fopen(file_name, \"w\");\n",
        "\n",
        "    for(size_t i = 1; i < nz - 1; i++) {\n",
        "\n",
        "        size_t offset = i * nx;\n",
        "\n",
        "        for(size_t j = 1; j < nx - 1; j++) {\n",
        "            fprintf(file, \"%f \", grid[offset + j]);\n",
        "        }\n",
        "        fprintf(file, \"\\n\");\n",
        "    }\n",
        "\n",
        "    fclose(file);\n",
        "}\n",
        "\n",
        "int main(int argc, char* argv[]) {\n",
        "\n",
        "    // validate the parameters\n",
        "    if(argc != 4){\n",
        "        printf(\"Usage: ./stencil N1 N2 ITERATIONS\\n\");\n",
        "        printf(\"N1 N2: grid sizes for the stencil\\n\");\n",
        "        printf(\"ITERATIONS: number of timesteps\\n\");\n",
        "        exit(-1);\n",
        "    }\n",
        "\n",
        "    // number of rows of the grid\n",
        "    size_t nz = atoi(argv[1]);\n",
        "\n",
        "    // number of columns of the grid\n",
        "    size_t nx = atoi(argv[2]);\n",
        "\n",
        "    // number of timesteps\n",
        "    size_t iterations = atoi(argv[3]);    \n",
        "\n",
        "    printf(\"Grid Sizes: %ld x %ld\\n\", nz, nx);\n",
        "    printf(\"Iterations: %ld\\n\", iterations);   \n",
        "\n",
        "    // add the spatial order (halo zone) to the grid size\n",
        "    nz += 2;\n",
        "    nx += 2;\n",
        "\n",
        "    // represent the matrix of wavefield as an array\n",
        "    double *prev_u = (double*) malloc(nz * nx * sizeof(double));\n",
        "    double *next_u = (double*) malloc(nz * nx * sizeof(double));\n",
        "\n",
        "    // represent the matrix of velocities as an array\n",
        "    double *vel_model = (double*) malloc(nz * nx * sizeof(double));\n",
        "\n",
        "    // ************* BEGIN INITIALIZATION *************\n",
        "\n",
        "    printf(\"Initializing ... \\n\");    \n",
        "\n",
        "    // initialize matrix\n",
        "    for(size_t i = 0; i < nz; i++){\n",
        "\n",
        "        size_t offset = i * nx;\n",
        "\n",
        "        for(size_t j = 0; j < nx; j++){\n",
        "            prev_u[offset + j] = 0.0;\n",
        "            next_u[offset + j] = 0.0;\n",
        "            vel_model[offset + j] = V;\n",
        "        }\n",
        "    }    \n",
        "\n",
        "    // add a source to initial wavefield as an initial condition\n",
        "    double val = 1.f;\n",
        "    for(int s = 4; s >= 0; s--){\n",
        "        for(size_t i = nz / 2 - s; i < nz / 2 + s; i++){\n",
        "\n",
        "            size_t offset = i * nx;\n",
        "\n",
        "            for(size_t j = nx / 2 - s; j < nx / 2 + s; j++)\n",
        "                prev_u[offset + j] = val;\n",
        "        }\n",
        "        val *= 0.9;\n",
        "    }\n",
        "\n",
        "    // ************** END INITIALIZATION **************\n",
        "\n",
        "    printf(\"Computing wavefield ... \\n\");   \n",
        "\n",
        "    double dzSquared = DZ * DZ;\n",
        "    double dxSquared = DX * DX;\n",
        "    double dtSquared = DT * DT;    \n",
        "\n",
        "    // get the start time\n",
        "    double start_time = omp_get_wtime();\n",
        "    \n",
        "    #pragma omp target enter data map(to: prev_u[:(nz * nx)])\n",
        "    #pragma omp target enter data map(to: next_u[:(nz * nx)])\n",
        "    #pragma omp target enter data map(to: vel_model[:(nz * nx)])\n",
        "\n",
        "    // wavefield modeling\n",
        "    for(size_t n = 0; n < iterations; n++) {\n",
        "\n",
        "        #pragma omp target teams distribute parallel for collapse(2)\n",
        "        for(size_t i = 1; i < nz - 1; i++) {\n",
        "            for(size_t j = 1; j < nx - 1; j++) {\n",
        "  \n",
        "                // index of the current point in the grid\n",
        "                size_t current = i * nx + j;                \n",
        "\n",
        "                //neighbors in the horizontal direction\n",
        "                double value = (prev_u[current + 1] - 2.0 * prev_u[current] + prev_u[current - 1]) / dxSquared;\n",
        "                //neighbors in the vertical direction\n",
        "                value += (prev_u[current + nx] - 2.0 * prev_u[current] + prev_u[current - nx]) / dzSquared;                \n",
        "\n",
        "                value *= dtSquared * vel_model[current] * vel_model[current];\n",
        "                next_u[current] = 2.0 * prev_u[current] - next_u[current] + value;\n",
        "            }\n",
        "        }\n",
        "\n",
        "        // swap arrays for next iteration\n",
        "        double *swap = next_u;\n",
        "        next_u = prev_u;\n",
        "        prev_u = swap;        \n",
        "    }\n",
        "\n",
        "    #pragma omp target exit data map(from: next_u[:(nz * nx)])    \n",
        "\n",
        "    double exec_time = omp_get_wtime() - start_time;\n",
        "\n",
        "    save_grid(nz, nx, next_u);\n",
        "\n",
        "    printf(\"Iterations completed in %f seconds \\n\", exec_time);\n",
        "\n",
        "    free(prev_u);\n",
        "    free(next_u);\n",
        "    free(vel_model);\n",
        "\n",
        "    return 0;\n",
        "}"
      ]
    },
    {
      "cell_type": "code",
      "execution_count": 15,
      "metadata": {
        "id": "ImY2PioZfrBa"
      },
      "outputs": [],
      "source": [
        "!clang -O3 -fopenmp -fopenmp-targets=nvptx64-nvidia-cuda -Xopenmp-target -march=sm_37 wave_3.c -o wave_3"
      ]
    },
    {
      "cell_type": "code",
      "execution_count": 16,
      "metadata": {
        "colab": {
          "base_uri": "https://localhost:8080/"
        },
        "id": "-gq-bpCvfrBa",
        "outputId": "b07fc3ed-d653-47af-89cd-525d0ab8dc82"
      },
      "outputs": [
        {
          "output_type": "stream",
          "name": "stdout",
          "text": [
            "Grid Sizes: 1024 x 1024\n",
            "Iterations: 1000\n",
            "Initializing ... \n",
            "Computing wavefield ... \n",
            "Iterations completed in 0.642529 seconds \n"
          ]
        }
      ],
      "source": [
        "!./wave_3 1024 1024 1000"
      ]
    },
    {
      "cell_type": "code",
      "execution_count": 17,
      "metadata": {
        "colab": {
          "base_uri": "https://localhost:8080/",
          "height": 269
        },
        "id": "iy9f8_06frBa",
        "outputId": "5144d2af-8c3c-4882-fbf5-0cda21333971"
      },
      "outputs": [
        {
          "output_type": "display_data",
          "data": {
            "text/plain": [
              "<Figure size 432x288 with 1 Axes>"
            ],
            "image/png": "[encoded data removed]"
          },
          "metadata": {
            "needs_background": "light"
          }
        }
      ],
      "source": [
        "plot()"
      ]
    },
    {
      "cell_type": "markdown",
      "metadata": {
        "id": "PeFuSBpUfrBb"
      },
      "source": [
        "### Exemplo 4 - Propagação da onda acústica\n",
        "\n",
        "Adiciona loop tiling."
      ]
    },
    {
      "cell_type": "code",
      "execution_count": 18,
      "metadata": {
        "colab": {
          "base_uri": "https://localhost:8080/"
        },
        "id": "tsXR5_amfrBb",
        "outputId": "35e8d557-c873-4637-a582-d338d140bedd"
      },
      "outputs": [
        {
          "output_type": "stream",
          "name": "stdout",
          "text": [
            "Writing wave_4.c\n"
          ]
        }
      ],
      "source": [
        "%%writefile wave_4.c\n",
        "\n",
        "#include <stdio.h>\n",
        "#include <stdlib.h>\n",
        "#include <omp.h>\n",
        "\n",
        "#define MIN(x, y) (((x) < (y)) ? (x) : (y))\n",
        "\n",
        "#define DT 0.002f // delta t\n",
        "#define DZ 20.0f // delta z\n",
        "#define DX 20.0f // delta x\n",
        "#define V 1500.0f // wave velocity v = 1500 m/s\n",
        "\n",
        "//save the matrix on a file.txt\n",
        "void save_grid(size_t nz, size_t nx, double *grid){\n",
        "\n",
        "    system(\"mkdir -p wavefield\");      \n",
        "\n",
        "    char file_name[32];\n",
        "    sprintf(file_name, \"wavefield/wavefield.txt\");\n",
        "\n",
        "    // save the result\n",
        "    FILE *file;\n",
        "    file = fopen(file_name, \"w\");\n",
        "\n",
        "    for(size_t i = 1; i < nz - 1; i++) {\n",
        "\n",
        "        size_t offset = i * nx;\n",
        "\n",
        "        for(size_t j = 1; j < nx - 1; j++) {\n",
        "            fprintf(file, \"%f \", grid[offset + j]);\n",
        "        }\n",
        "        fprintf(file, \"\\n\");\n",
        "    }\n",
        "\n",
        "    fclose(file);\n",
        "}\n",
        "\n",
        "int main(int argc, char* argv[]) {\n",
        "\n",
        "    // validate the parameters\n",
        "    if(argc != 4){\n",
        "        printf(\"Usage: ./stencil N1 N2 ITERATIONS\\n\");\n",
        "        printf(\"N1 N2: grid sizes for the stencil\\n\");\n",
        "        printf(\"ITERATIONS: number of timesteps\\n\");\n",
        "        exit(-1);\n",
        "    }\n",
        "\n",
        "    // number of rows of the grid\n",
        "    size_t nz = atoi(argv[1]);\n",
        "\n",
        "    // number of columns of the grid\n",
        "    size_t nx = atoi(argv[2]);\n",
        "\n",
        "    // number of timesteps\n",
        "    size_t iterations = atoi(argv[3]);    \n",
        "\n",
        "    printf(\"Grid Sizes: %ld x %ld\\n\", nz, nx);\n",
        "    printf(\"Iterations: %ld\\n\", iterations);   \n",
        "\n",
        "    // add the spatial order (halo zone) to the grid size\n",
        "    nz += 2;\n",
        "    nx += 2;\n",
        "\n",
        "    // represent the matrix of wavefield as an array\n",
        "    double *prev_u = (double*) malloc(nz * nx * sizeof(double));\n",
        "    double *next_u = (double*) malloc(nz * nx * sizeof(double));\n",
        "\n",
        "    // represent the matrix of velocities as an array\n",
        "    double *vel_model = (double*) malloc(nz * nx * sizeof(double));\n",
        "\n",
        "    // ************* BEGIN INITIALIZATION *************\n",
        "\n",
        "    printf(\"Initializing ... \\n\");    \n",
        "\n",
        "    // initialize matrix\n",
        "    for(size_t i = 0; i < nz; i++){\n",
        "\n",
        "        size_t offset = i * nx;\n",
        "\n",
        "        for(size_t j = 0; j < nx; j++){\n",
        "            prev_u[offset + j] = 0.0;\n",
        "            next_u[offset + j] = 0.0;\n",
        "            vel_model[offset + j] = V;\n",
        "        }\n",
        "    }    \n",
        "\n",
        "    // add a source to initial wavefield as an initial condition\n",
        "    double val = 1.f;\n",
        "    for(int s = 4; s >= 0; s--){\n",
        "        for(size_t i = nz / 2 - s; i < nz / 2 + s; i++){\n",
        "\n",
        "            size_t offset = i * nx;\n",
        "\n",
        "            for(size_t j = nx / 2 - s; j < nx / 2 + s; j++)\n",
        "                prev_u[offset + j] = val;\n",
        "        }\n",
        "        val *= 0.9;\n",
        "    }\n",
        "\n",
        "    // ************** END INITIALIZATION **************\n",
        "\n",
        "    printf(\"Computing wavefield ... \\n\");   \n",
        "\n",
        "    double dzSquared = DZ * DZ;\n",
        "    double dxSquared = DX * DX;\n",
        "    double dtSquared = DT * DT;    \n",
        "\n",
        "    // get the start time\n",
        "    double start_time = omp_get_wtime();\n",
        "    \n",
        "    #pragma omp target enter data map(to: prev_u[:(nz * nx)])\n",
        "    #pragma omp target enter data map(to: next_u[:(nz * nx)])\n",
        "    #pragma omp target enter data map(to: vel_model[:(nz * nx)])\n",
        "\n",
        "    // wavefield modeling\n",
        "    for(size_t n = 0; n < iterations; n++) {\n",
        "        \n",
        "        size_t block_size_z = 8;\n",
        "        \n",
        "        size_t block_size_x = 4;\n",
        "\n",
        "        #pragma omp target teams distribute parallel for collapse(2)        \n",
        "        for (size_t ii = 1; ii < nz - 1; ii += block_size_z){            \n",
        "            for (size_t jj = 1; jj < nx - 1; jj += block_size_x){\n",
        "                for (size_t i = ii; i < MIN(ii+block_size_z, nz - 1); i++) {\n",
        "                    for (size_t j = jj; j < MIN(jj+block_size_x, nx - 1); j++) {            \n",
        "       \n",
        "                        // index of the current point in the grid\n",
        "                        size_t current = i * nx + j;                \n",
        "\n",
        "                        //neighbors in the horizontal direction\n",
        "                        double value = (prev_u[current + 1] - 2.0 * prev_u[current] + prev_u[current - 1]) / dxSquared;\n",
        "                        //neighbors in the vertical direction\n",
        "                        value += (prev_u[current + nx] - 2.0 * prev_u[current] + prev_u[current - nx]) / dzSquared;                \n",
        "\n",
        "                        value *= dtSquared * vel_model[current] * vel_model[current];\n",
        "                        next_u[current] = 2.0 * prev_u[current] - next_u[current] + value;\n",
        "                    }\n",
        "                }\n",
        "            }\n",
        "        }\n",
        "\n",
        "        // swap arrays for next iteration\n",
        "        double *swap = next_u;\n",
        "        next_u = prev_u;\n",
        "        prev_u = swap;        \n",
        "    }\n",
        "\n",
        "    #pragma omp target exit data map(from: next_u[:(nz * nx)])    \n",
        "\n",
        "    double exec_time = omp_get_wtime() - start_time;\n",
        "\n",
        "    save_grid(nz, nx, next_u);\n",
        "\n",
        "    printf(\"Iterations completed in %f seconds \\n\", exec_time);\n",
        "\n",
        "    free(prev_u);\n",
        "    free(next_u);\n",
        "    free(vel_model);\n",
        "\n",
        "    return 0;\n",
        "}"
      ]
    },
    {
      "cell_type": "code",
      "execution_count": 19,
      "metadata": {
        "id": "KUFXzTALfrBd"
      },
      "outputs": [],
      "source": [
        "!clang -O3 -fopenmp -fopenmp-targets=nvptx64-nvidia-cuda -Xopenmp-target -march=sm_37 wave_4.c -o wave_4"
      ]
    },
    {
      "cell_type": "code",
      "execution_count": null,
      "metadata": {
        "id": "G54U0GGjfrBe",
        "outputId": "5275dc38-0074-4365-9e70-9d336137a40e"
      },
      "outputs": [
        {
          "name": "stdout",
          "output_type": "stream",
          "text": [
            "Grid Sizes: 1024 x 1024\n",
            "Iterations: 1000\n",
            "Initializing ... \n",
            "Computing wavefield ... \n",
            "Iterations completed in 0.577318 seconds \n"
          ]
        }
      ],
      "source": [
        "!./wave_4 1024 1024 1000"
      ]
    },
    {
      "cell_type": "code",
      "execution_count": 20,
      "metadata": {
        "colab": {
          "base_uri": "https://localhost:8080/",
          "height": 269
        },
        "id": "Gqvx5bSEfrBf",
        "outputId": "db3b090c-9801-4bcc-c91d-26c84959f6de"
      },
      "outputs": [
        {
          "output_type": "display_data",
          "data": {
            "text/plain": [
              "<Figure size 432x288 with 1 Axes>"
            ],
            "image/png": "[encoded data removed]"
          },
          "metadata": {
            "needs_background": "light"
          }
        }
      ],
      "source": [
        "plot()"
      ]
    }
  ],
  "metadata": {
    "accelerator": "GPU",
    "colab": {
      "collapsed_sections": [],
      "name": "Parte_2_ompGPU_wave.ipynb",
      "provenance": []
    },
    "kernelspec": {
      "display_name": "Python 3 (ipykernel)",
      "language": "python",
      "name": "python3"
    },
    "language_info": {
      "codemirror_mode": {
        "name": "ipython",
        "version": 3
      },
      "file_extension": ".py",
      "mimetype": "text/x-python",
      "name": "python",
      "nbconvert_exporter": "python",
      "pygments_lexer": "ipython3",
      "version": "3.8.10"
    }
  },
  "nbformat": 4,
  "nbformat_minor": 0
}