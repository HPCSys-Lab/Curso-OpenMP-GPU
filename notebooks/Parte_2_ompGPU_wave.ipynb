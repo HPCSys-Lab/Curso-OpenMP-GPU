{
 "cells": [
  {
   "cell_type": "markdown",
   "metadata": {
    "id": "kBbK2dQW3QYd"
   },
   "source": [
    "# Programe sua GPU com OpenMP\n",
    "\n",
    "Autores: \n",
    "_Hermes Senger_ e\n",
    "_Jaime Freire de Souza_\n",
    "\n",
    "## Configuração do ambiente\n",
    "\n",
    "Precisaremos de um compilador capaz de gerar código executável para GPUs. \n"
   ]
  },
  {
   "cell_type": "code",
   "execution_count": 1,
   "metadata": {
    "colab": {
     "base_uri": "https://localhost:8080/"
    },
    "id": "q3og1sYm1n51",
    "outputId": "48febdf2-8afb-4495-8859-57185fbf6da5"
   },
   "outputs": [],
   "source": [
    "#%%shell\n",
    "#ln -sfnv /usr/local/cuda-10.1/ /usr/local/cuda\n",
    "#pip install -q matplotlib numpy\n",
    "#wget https://openmp-course.s3.amazonaws.com/llvm.tar.gz\n",
    "#tar -xzvf llvm.tar.gz >/dev/null 2>&1\n",
    "#echo \"  ------------  Terminou a instalação! Pode continuar  ------------------\""
   ]
  },
  {
   "cell_type": "code",
   "execution_count": 2,
   "metadata": {
    "id": "lhrUpNNi7ken"
   },
   "outputs": [],
   "source": [
    "import os\n",
    "\n",
    "os.environ['LLVM_PATH'] = '/content/llvm'\n",
    "os.environ['PATH'] = os.environ['LLVM_PATH'] + '/bin:' + os.environ['PATH']\n",
    "os.environ['LD_LIBRARY_PATH'] = os.environ['LLVM_PATH'] + '/lib:' + os.environ['LD_LIBRARY_PATH']\n",
    "os.environ['TSAN_OPTIONS'] = 'ignore_noninstrumented_modules=1'"
   ]
  },
  {
   "cell_type": "code",
   "execution_count": 3,
   "metadata": {},
   "outputs": [],
   "source": [
    "import numpy as np\n",
    "import matplotlib.pyplot as plt\n",
    "\n",
    "def plot():\n",
    "\n",
    "    # read the input (wavefield N x M) file\n",
    "    input = np.loadtxt('wavefield/wavefield.txt')\n",
    "\n",
    "    # process data e generate the plot\n",
    "    plt.imshow(input)\n",
    "    plt.show()"
   ]
  },
  {
   "cell_type": "markdown",
   "metadata": {},
   "source": [
    "### Exemplo 1"
   ]
  },
  {
   "cell_type": "code",
   "execution_count": 4,
   "metadata": {
    "colab": {
     "base_uri": "https://localhost:8080/"
    },
    "id": "q1SdNZkf1y3h",
    "outputId": "c4f844c7-e941-417c-9a0d-bcaa72976897"
   },
   "outputs": [
    {
     "name": "stdout",
     "output_type": "stream",
     "text": [
      "Overwriting wave_1.c\n"
     ]
    }
   ],
   "source": [
    "%%writefile wave_1.c\n",
    "\n",
    "#include <stdio.h>\n",
    "#include <stdlib.h>\n",
    "#include <omp.h>\n",
    "\n",
    "#define DT 0.002f // delta t\n",
    "#define DZ 20.0f // delta z\n",
    "#define DX 20.0f // delta x\n",
    "#define V 1500.0f // wave velocity v = 1500 m/s\n",
    "\n",
    "//save the matrix on a file.txt\n",
    "void save_grid(size_t nz, size_t nx, double *grid){\n",
    "\n",
    "    system(\"mkdir -p wavefield\");      \n",
    "\n",
    "    char file_name[32];\n",
    "    sprintf(file_name, \"wavefield/wavefield.txt\");\n",
    "\n",
    "    // save the result\n",
    "    FILE *file;\n",
    "    file = fopen(file_name, \"w\");\n",
    "\n",
    "    for(size_t i = 1; i < nz - 1; i++) {\n",
    "\n",
    "        size_t offset = i * nx;\n",
    "\n",
    "        for(size_t j = 1; j < nx - 1; j++) {\n",
    "            fprintf(file, \"%f \", grid[offset + j]);\n",
    "        }\n",
    "        fprintf(file, \"\\n\");\n",
    "    }\n",
    "\n",
    "    fclose(file);\n",
    "}\n",
    "\n",
    "int main(int argc, char* argv[]) {\n",
    "\n",
    "    // validate the parameters\n",
    "    if(argc != 4){\n",
    "        printf(\"Usage: ./stencil N1 N2 ITERATIONS\\n\");\n",
    "        printf(\"N1 N2: grid sizes for the stencil\\n\");\n",
    "        printf(\"ITERATIONS: number of timesteps\\n\");\n",
    "        exit(-1);\n",
    "    }\n",
    "\n",
    "    // number of rows of the grid\n",
    "    size_t nz = atoi(argv[1]);\n",
    "\n",
    "    // number of columns of the grid\n",
    "    size_t nx = atoi(argv[2]);\n",
    "\n",
    "    // number of timesteps\n",
    "    size_t iterations = atoi(argv[3]);    \n",
    "\n",
    "    printf(\"Grid Sizes: %ld x %ld\\n\", nz, nx);\n",
    "    printf(\"Iterations: %ld\\n\", iterations);   \n",
    "\n",
    "    // add the spatial order (halo zone) to the grid size\n",
    "    nz += 2;\n",
    "    nx += 2;\n",
    "\n",
    "    // represent the matrix of wavefield as an array\n",
    "    double *prev_u = (double*) malloc(nz * nx * sizeof(double));\n",
    "    double *next_u = (double*) malloc(nz * nx * sizeof(double));\n",
    "\n",
    "    // represent the matrix of velocities as an array\n",
    "    double *vel_model = (double*) malloc(nz * nx * sizeof(double));\n",
    "\n",
    "    // ************* BEGIN INITIALIZATION *************\n",
    "\n",
    "    printf(\"Initializing ... \\n\");    \n",
    "\n",
    "    // initialize matrix\n",
    "    for(size_t i = 0; i < nz; i++){\n",
    "\n",
    "        size_t offset = i * nx;\n",
    "\n",
    "        for(size_t j = 0; j < nx; j++){\n",
    "            prev_u[offset + j] = 0.0;\n",
    "            next_u[offset + j] = 0.0;\n",
    "            vel_model[offset + j] = V;\n",
    "        }\n",
    "    }    \n",
    "\n",
    "    // add a source to initial wavefield as an initial condition\n",
    "    double val = 1.f;\n",
    "    for(int s = 4; s >= 0; s--){\n",
    "        for(size_t i = nz / 2 - s; i < nz / 2 + s; i++){\n",
    "\n",
    "            size_t offset = i * nx;\n",
    "\n",
    "            for(size_t j = nx / 2 - s; j < nx / 2 + s; j++)\n",
    "                prev_u[offset + j] = val;\n",
    "        }\n",
    "        val *= 0.9;\n",
    "    }\n",
    "\n",
    "    // ************** END INITIALIZATION **************\n",
    "\n",
    "    printf(\"Computing wavefield ... \\n\");   \n",
    "\n",
    "    double dzSquared = DZ * DZ;\n",
    "    double dxSquared = DX * DX;\n",
    "    double dtSquared = DT * DT;    \n",
    "\n",
    "    // get the start time\n",
    "    double start_time = omp_get_wtime();    \n",
    "    \n",
    "\n",
    "    // wavefield modeling        \n",
    "    for(size_t n = 0; n < iterations; n++) {\n",
    "        \n",
    "        #pragma omp target map(tofrom: prev_u[:(nz * nx)], next_u[:(nz * nx)]) \\\n",
    "                           map(to: vel_model[:(nz * nx)])\n",
    "        #pragma omp teams distribute parallel for\n",
    "        for(size_t i = 1; i < nz - 1; i++) {\n",
    "            for(size_t j = 1; j < nx - 1; j++) {\n",
    "                // index of the current point in the grid\n",
    "                size_t current = i * nx + j;                \n",
    "\n",
    "                //neighbors in the horizontal direction\n",
    "                double value = (prev_u[current + 1] - 2.0 * prev_u[current] + prev_u[current - 1]) / dxSquared;\n",
    "                //neighbors in the vertical direction\n",
    "                value += (prev_u[current + nx] - 2.0 * prev_u[current] + prev_u[current - nx]) / dzSquared;                \n",
    "\n",
    "                value *= dtSquared * vel_model[current] * vel_model[current];\n",
    "                next_u[current] = 2.0 * prev_u[current] - next_u[current] + value;\n",
    "            }\n",
    "        }\n",
    "\n",
    "        // swap arrays for next iteration\n",
    "        double *swap = next_u;\n",
    "        next_u = prev_u;\n",
    "        prev_u = swap;        \n",
    "    }    \n",
    "\n",
    "    double exec_time = omp_get_wtime() - start_time;\n",
    "\n",
    "    save_grid(nz, nx, next_u);\n",
    "\n",
    "    printf(\"Iterations completed in %f seconds \\n\", exec_time);\n",
    "\n",
    "    free(prev_u);\n",
    "    free(next_u);\n",
    "    free(vel_model);\n",
    "\n",
    "    return 0;\n",
    "}"
   ]
  },
  {
   "cell_type": "code",
   "execution_count": 5,
   "metadata": {},
   "outputs": [
    {
     "name": "stdout",
     "output_type": "stream",
     "text": [
      "\u001b[0;1;35mwarning: \u001b[0m\u001b[1mlinking module '/opt/llvm/lib/libomptarget-nvptx-sm_75.bc': Linking two modules of different target triples: '/opt/llvm/lib/libomptarget-nvptx-sm_75.bc' is 'nvptx64' whereas 'wave_1.c' is 'nvptx64-nvidia-cuda'\n",
      " [-Wlinker-warnings]\u001b[0m\n",
      "1 warning generated.\n"
     ]
    }
   ],
   "source": [
    "!clang -O3 -fopenmp -fopenmp-targets=nvptx64-nvidia-cuda wave_1.c -o wave_1"
   ]
  },
  {
   "cell_type": "code",
   "execution_count": 6,
   "metadata": {},
   "outputs": [
    {
     "name": "stdout",
     "output_type": "stream",
     "text": [
      "Grid Sizes: 1024 x 1024\n",
      "Iterations: 1000\n",
      "Initializing ... \n",
      "Computing wavefield ... \n",
      "Iterations completed in 12.703383 seconds \n"
     ]
    }
   ],
   "source": [
    "!./wave_1 1024 1024 1000"
   ]
  },
  {
   "cell_type": "code",
   "execution_count": 7,
   "metadata": {},
   "outputs": [
    {
     "data": {
      "image/png": "[encoded data removed]",
      "text/plain": [
       "<Figure size 432x288 with 1 Axes>"
      ]
     },
     "metadata": {
      "needs_background": "light"
     },
     "output_type": "display_data"
    }
   ],
   "source": [
    "plot()"
   ]
  },
  {
   "cell_type": "markdown",
   "metadata": {},
   "source": [
    "### Exemplo 2"
   ]
  },
  {
   "cell_type": "code",
   "execution_count": 8,
   "metadata": {},
   "outputs": [
    {
     "name": "stdout",
     "output_type": "stream",
     "text": [
      "Overwriting wave_2.c\n"
     ]
    }
   ],
   "source": [
    "%%writefile wave_2.c\n",
    "\n",
    "#include <stdio.h>\n",
    "#include <stdlib.h>\n",
    "#include <omp.h>\n",
    "\n",
    "#define DT 0.002f // delta t\n",
    "#define DZ 20.0f // delta z\n",
    "#define DX 20.0f // delta x\n",
    "#define V 1500.0f // wave velocity v = 1500 m/s\n",
    "\n",
    "//save the matrix on a file.txt\n",
    "void save_grid(size_t nz, size_t nx, double *grid){\n",
    "\n",
    "    system(\"mkdir -p wavefield\");      \n",
    "\n",
    "    char file_name[32];\n",
    "    sprintf(file_name, \"wavefield/wavefield.txt\");\n",
    "\n",
    "    // save the result\n",
    "    FILE *file;\n",
    "    file = fopen(file_name, \"w\");\n",
    "\n",
    "    for(size_t i = 1; i < nz - 1; i++) {\n",
    "\n",
    "        size_t offset = i * nx;\n",
    "\n",
    "        for(size_t j = 1; j < nx - 1; j++) {\n",
    "            fprintf(file, \"%f \", grid[offset + j]);\n",
    "        }\n",
    "        fprintf(file, \"\\n\");\n",
    "    }\n",
    "\n",
    "    fclose(file);\n",
    "}\n",
    "\n",
    "int main(int argc, char* argv[]) {\n",
    "\n",
    "    // validate the parameters\n",
    "    if(argc != 4){\n",
    "        printf(\"Usage: ./stencil N1 N2 ITERATIONS\\n\");\n",
    "        printf(\"N1 N2: grid sizes for the stencil\\n\");\n",
    "        printf(\"ITERATIONS: number of timesteps\\n\");\n",
    "        exit(-1);\n",
    "    }\n",
    "\n",
    "    // number of rows of the grid\n",
    "    size_t nz = atoi(argv[1]);\n",
    "\n",
    "    // number of columns of the grid\n",
    "    size_t nx = atoi(argv[2]);\n",
    "\n",
    "    // number of timesteps\n",
    "    size_t iterations = atoi(argv[3]);    \n",
    "\n",
    "    printf(\"Grid Sizes: %ld x %ld\\n\", nz, nx);\n",
    "    printf(\"Iterations: %ld\\n\", iterations);   \n",
    "\n",
    "    // add the spatial order (halo zone) to the grid size\n",
    "    nz += 2;\n",
    "    nx += 2;\n",
    "\n",
    "    // represent the matrix of wavefield as an array\n",
    "    double *prev_u = (double*) malloc(nz * nx * sizeof(double));\n",
    "    double *next_u = (double*) malloc(nz * nx * sizeof(double));\n",
    "\n",
    "    // represent the matrix of velocities as an array\n",
    "    double *vel_model = (double*) malloc(nz * nx * sizeof(double));\n",
    "\n",
    "    // ************* BEGIN INITIALIZATION *************\n",
    "\n",
    "    printf(\"Initializing ... \\n\");    \n",
    "\n",
    "    // initialize matrix\n",
    "    for(size_t i = 0; i < nz; i++){\n",
    "\n",
    "        size_t offset = i * nx;\n",
    "\n",
    "        for(size_t j = 0; j < nx; j++){\n",
    "            prev_u[offset + j] = 0.0;\n",
    "            next_u[offset + j] = 0.0;\n",
    "            vel_model[offset + j] = V;\n",
    "        }\n",
    "    }    \n",
    "\n",
    "    // add a source to initial wavefield as an initial condition\n",
    "    double val = 1.f;\n",
    "    for(int s = 4; s >= 0; s--){\n",
    "        for(size_t i = nz / 2 - s; i < nz / 2 + s; i++){\n",
    "\n",
    "            size_t offset = i * nx;\n",
    "\n",
    "            for(size_t j = nx / 2 - s; j < nx / 2 + s; j++)\n",
    "                prev_u[offset + j] = val;\n",
    "        }\n",
    "        val *= 0.9;\n",
    "    }\n",
    "\n",
    "    // ************** END INITIALIZATION **************\n",
    "\n",
    "    printf(\"Computing wavefield ... \\n\");   \n",
    "\n",
    "    double dzSquared = DZ * DZ;\n",
    "    double dxSquared = DX * DX;\n",
    "    double dtSquared = DT * DT;    \n",
    "\n",
    "    // get the start time\n",
    "    double start_time = omp_get_wtime();\n",
    "    \n",
    "    #pragma omp target enter data map(to: prev_u[:(nz * nx)])\n",
    "    #pragma omp target enter data map(to: next_u[:(nz * nx)])\n",
    "    #pragma omp target enter data map(to: vel_model[:(nz * nx)])\n",
    "\n",
    "    // wavefield modeling\n",
    "    for(size_t n = 0; n < iterations; n++) {\n",
    "\n",
    "        #pragma omp target teams distribute parallel for\n",
    "        for(size_t i = 1; i < nz - 1; i++) {\n",
    "            for(size_t j = 1; j < nx - 1; j++) {\n",
    "                // index of the current point in the grid\n",
    "                size_t current = i * nx + j;                \n",
    "\n",
    "                //neighbors in the horizontal direction\n",
    "                double value = (prev_u[current + 1] - 2.0 * prev_u[current] + prev_u[current - 1]) / dxSquared;\n",
    "                //neighbors in the vertical direction\n",
    "                value += (prev_u[current + nx] - 2.0 * prev_u[current] + prev_u[current - nx]) / dzSquared;                \n",
    "\n",
    "                value *= dtSquared * vel_model[current] * vel_model[current];\n",
    "                next_u[current] = 2.0 * prev_u[current] - next_u[current] + value;\n",
    "            }\n",
    "        }\n",
    "\n",
    "        // swap arrays for next iteration\n",
    "        double *swap = next_u;\n",
    "        next_u = prev_u;\n",
    "        prev_u = swap;        \n",
    "    }\n",
    "\n",
    "    #pragma omp target exit data map(from: next_u[:(nz * nx)])    \n",
    "\n",
    "    double exec_time = omp_get_wtime() - start_time;\n",
    "\n",
    "    save_grid(nz, nx, next_u);\n",
    "\n",
    "    printf(\"Iterations completed in %f seconds \\n\", exec_time);\n",
    "\n",
    "    free(prev_u);\n",
    "    free(next_u);\n",
    "    free(vel_model);\n",
    "\n",
    "    return 0;\n",
    "}"
   ]
  },
  {
   "cell_type": "code",
   "execution_count": 9,
   "metadata": {},
   "outputs": [
    {
     "name": "stdout",
     "output_type": "stream",
     "text": [
      "\u001b[0;1;35mwarning: \u001b[0m\u001b[1mlinking module '/opt/llvm/lib/libomptarget-nvptx-sm_75.bc': Linking two modules of different target triples: '/opt/llvm/lib/libomptarget-nvptx-sm_75.bc' is 'nvptx64' whereas 'wave_2.c' is 'nvptx64-nvidia-cuda'\n",
      " [-Wlinker-warnings]\u001b[0m\n",
      "1 warning generated.\n"
     ]
    }
   ],
   "source": [
    "!clang -O3 -fopenmp -fopenmp-targets=nvptx64-nvidia-cuda wave_2.c -o wave_2"
   ]
  },
  {
   "cell_type": "code",
   "execution_count": 10,
   "metadata": {},
   "outputs": [
    {
     "name": "stdout",
     "output_type": "stream",
     "text": [
      "Grid Sizes: 1024 x 1024\n",
      "Iterations: 1000\n",
      "Initializing ... \n",
      "Computing wavefield ... \n",
      "Iterations completed in 2.528023 seconds \n"
     ]
    }
   ],
   "source": [
    "!./wave_2 1024 1024 1000"
   ]
  },
  {
   "cell_type": "code",
   "execution_count": 11,
   "metadata": {},
   "outputs": [
    {
     "data": {
      "image/png": "[encoded data removed]",
      "text/plain": [
       "<Figure size 432x288 with 1 Axes>"
      ]
     },
     "metadata": {
      "needs_background": "light"
     },
     "output_type": "display_data"
    }
   ],
   "source": [
    "plot()"
   ]
  },
  {
   "cell_type": "markdown",
   "metadata": {},
   "source": [
    "### Exemplo 3"
   ]
  },
  {
   "cell_type": "code",
   "execution_count": 12,
   "metadata": {},
   "outputs": [
    {
     "name": "stdout",
     "output_type": "stream",
     "text": [
      "Overwriting wave_3.c\n"
     ]
    }
   ],
   "source": [
    "%%writefile wave_3.c\n",
    "\n",
    "#include <stdio.h>\n",
    "#include <stdlib.h>\n",
    "#include <omp.h>\n",
    "\n",
    "#define DT 0.002f // delta t\n",
    "#define DZ 20.0f // delta z\n",
    "#define DX 20.0f // delta x\n",
    "#define V 1500.0f // wave velocity v = 1500 m/s\n",
    "\n",
    "//save the matrix on a file.txt\n",
    "void save_grid(size_t nz, size_t nx, double *grid){\n",
    "\n",
    "    system(\"mkdir -p wavefield\");      \n",
    "\n",
    "    char file_name[32];\n",
    "    sprintf(file_name, \"wavefield/wavefield.txt\");\n",
    "\n",
    "    // save the result\n",
    "    FILE *file;\n",
    "    file = fopen(file_name, \"w\");\n",
    "\n",
    "    for(size_t i = 1; i < nz - 1; i++) {\n",
    "\n",
    "        size_t offset = i * nx;\n",
    "\n",
    "        for(size_t j = 1; j < nx - 1; j++) {\n",
    "            fprintf(file, \"%f \", grid[offset + j]);\n",
    "        }\n",
    "        fprintf(file, \"\\n\");\n",
    "    }\n",
    "\n",
    "    fclose(file);\n",
    "}\n",
    "\n",
    "int main(int argc, char* argv[]) {\n",
    "\n",
    "    // validate the parameters\n",
    "    if(argc != 4){\n",
    "        printf(\"Usage: ./stencil N1 N2 ITERATIONS\\n\");\n",
    "        printf(\"N1 N2: grid sizes for the stencil\\n\");\n",
    "        printf(\"ITERATIONS: number of timesteps\\n\");\n",
    "        exit(-1);\n",
    "    }\n",
    "\n",
    "    // number of rows of the grid\n",
    "    size_t nz = atoi(argv[1]);\n",
    "\n",
    "    // number of columns of the grid\n",
    "    size_t nx = atoi(argv[2]);\n",
    "\n",
    "    // number of timesteps\n",
    "    size_t iterations = atoi(argv[3]);    \n",
    "\n",
    "    printf(\"Grid Sizes: %ld x %ld\\n\", nz, nx);\n",
    "    printf(\"Iterations: %ld\\n\", iterations);   \n",
    "\n",
    "    // add the spatial order (halo zone) to the grid size\n",
    "    nz += 2;\n",
    "    nx += 2;\n",
    "\n",
    "    // represent the matrix of wavefield as an array\n",
    "    double *prev_u = (double*) malloc(nz * nx * sizeof(double));\n",
    "    double *next_u = (double*) malloc(nz * nx * sizeof(double));\n",
    "\n",
    "    // represent the matrix of velocities as an array\n",
    "    double *vel_model = (double*) malloc(nz * nx * sizeof(double));\n",
    "\n",
    "    // ************* BEGIN INITIALIZATION *************\n",
    "\n",
    "    printf(\"Initializing ... \\n\");    \n",
    "\n",
    "    // initialize matrix\n",
    "    for(size_t i = 0; i < nz; i++){\n",
    "\n",
    "        size_t offset = i * nx;\n",
    "\n",
    "        for(size_t j = 0; j < nx; j++){\n",
    "            prev_u[offset + j] = 0.0;\n",
    "            next_u[offset + j] = 0.0;\n",
    "            vel_model[offset + j] = V;\n",
    "        }\n",
    "    }    \n",
    "\n",
    "    // add a source to initial wavefield as an initial condition\n",
    "    double val = 1.f;\n",
    "    for(int s = 4; s >= 0; s--){\n",
    "        for(size_t i = nz / 2 - s; i < nz / 2 + s; i++){\n",
    "\n",
    "            size_t offset = i * nx;\n",
    "\n",
    "            for(size_t j = nx / 2 - s; j < nx / 2 + s; j++)\n",
    "                prev_u[offset + j] = val;\n",
    "        }\n",
    "        val *= 0.9;\n",
    "    }\n",
    "\n",
    "    // ************** END INITIALIZATION **************\n",
    "\n",
    "    printf(\"Computing wavefield ... \\n\");   \n",
    "\n",
    "    double dzSquared = DZ * DZ;\n",
    "    double dxSquared = DX * DX;\n",
    "    double dtSquared = DT * DT;    \n",
    "\n",
    "    // get the start time\n",
    "    double start_time = omp_get_wtime();\n",
    "    \n",
    "    #pragma omp target enter data map(to: prev_u[:(nz * nx)])\n",
    "    #pragma omp target enter data map(to: next_u[:(nz * nx)])\n",
    "    #pragma omp target enter data map(to: vel_model[:(nz * nx)])\n",
    "\n",
    "    // wavefield modeling\n",
    "    for(size_t n = 0; n < iterations; n++) {\n",
    "\n",
    "        #pragma omp target teams distribute parallel for collapse(2)\n",
    "        for(size_t i = 1; i < nz - 1; i++) {\n",
    "            for(size_t j = 1; j < nx - 1; j++) {\n",
    "                // index of the current point in the grid\n",
    "                size_t current = i * nx + j;                \n",
    "\n",
    "                //neighbors in the horizontal direction\n",
    "                double value = (prev_u[current + 1] - 2.0 * prev_u[current] + prev_u[current - 1]) / dxSquared;\n",
    "                //neighbors in the vertical direction\n",
    "                value += (prev_u[current + nx] - 2.0 * prev_u[current] + prev_u[current - nx]) / dzSquared;                \n",
    "\n",
    "                value *= dtSquared * vel_model[current] * vel_model[current];\n",
    "                next_u[current] = 2.0 * prev_u[current] - next_u[current] + value;\n",
    "            }\n",
    "        }\n",
    "\n",
    "        // swap arrays for next iteration\n",
    "        double *swap = next_u;\n",
    "        next_u = prev_u;\n",
    "        prev_u = swap;        \n",
    "    }\n",
    "\n",
    "    #pragma omp target exit data map(from: next_u[:(nz * nx)])    \n",
    "\n",
    "    double exec_time = omp_get_wtime() - start_time;\n",
    "\n",
    "    save_grid(nz, nx, next_u);\n",
    "\n",
    "    printf(\"Iterations completed in %f seconds \\n\", exec_time);\n",
    "\n",
    "    free(prev_u);\n",
    "    free(next_u);\n",
    "    free(vel_model);\n",
    "\n",
    "    return 0;\n",
    "}"
   ]
  },
  {
   "cell_type": "code",
   "execution_count": 13,
   "metadata": {},
   "outputs": [
    {
     "name": "stdout",
     "output_type": "stream",
     "text": [
      "\u001b[0;1;35mwarning: \u001b[0m\u001b[1mlinking module '/opt/llvm/lib/libomptarget-nvptx-sm_75.bc': Linking two modules of different target triples: '/opt/llvm/lib/libomptarget-nvptx-sm_75.bc' is 'nvptx64' whereas 'wave_3.c' is 'nvptx64-nvidia-cuda'\n",
      " [-Wlinker-warnings]\u001b[0m\n",
      "1 warning generated.\n"
     ]
    }
   ],
   "source": [
    "!clang -O3 -fopenmp -fopenmp-targets=nvptx64-nvidia-cuda wave_3.c -o wave_3"
   ]
  },
  {
   "cell_type": "code",
   "execution_count": 14,
   "metadata": {},
   "outputs": [
    {
     "name": "stdout",
     "output_type": "stream",
     "text": [
      "Grid Sizes: 1024 x 1024\n",
      "Iterations: 1000\n",
      "Initializing ... \n",
      "Computing wavefield ... \n",
      "Iterations completed in 0.563196 seconds \n"
     ]
    }
   ],
   "source": [
    "!./wave_3 1024 1024 1000"
   ]
  },
  {
   "cell_type": "code",
   "execution_count": 15,
   "metadata": {},
   "outputs": [
    {
     "data": {
      "image/png": "[encoded data removed]",
      "text/plain": [
       "<Figure size 432x288 with 1 Axes>"
      ]
     },
     "metadata": {
      "needs_background": "light"
     },
     "output_type": "display_data"
    }
   ],
   "source": [
    "plot()"
   ]
  },
  {
   "cell_type": "markdown",
   "metadata": {},
   "source": [
    "### Exemplo 4"
   ]
  },
  {
   "cell_type": "code",
   "execution_count": 16,
   "metadata": {},
   "outputs": [
    {
     "name": "stdout",
     "output_type": "stream",
     "text": [
      "Overwriting wave_4.c\n"
     ]
    }
   ],
   "source": [
    "%%writefile wave_4.c\n",
    "\n",
    "#include <stdio.h>\n",
    "#include <stdlib.h>\n",
    "#include <omp.h>\n",
    "\n",
    "#define MIN(x, y) (((x) < (y)) ? (x) : (y))\n",
    "\n",
    "#define DT 0.002f // delta t\n",
    "#define DZ 20.0f // delta z\n",
    "#define DX 20.0f // delta x\n",
    "#define V 1500.0f // wave velocity v = 1500 m/s\n",
    "\n",
    "//save the matrix on a file.txt\n",
    "void save_grid(size_t nz, size_t nx, double *grid){\n",
    "\n",
    "    system(\"mkdir -p wavefield\");      \n",
    "\n",
    "    char file_name[32];\n",
    "    sprintf(file_name, \"wavefield/wavefield.txt\");\n",
    "\n",
    "    // save the result\n",
    "    FILE *file;\n",
    "    file = fopen(file_name, \"w\");\n",
    "\n",
    "    for(size_t i = 1; i < nz - 1; i++) {\n",
    "\n",
    "        size_t offset = i * nx;\n",
    "\n",
    "        for(size_t j = 1; j < nx - 1; j++) {\n",
    "            fprintf(file, \"%f \", grid[offset + j]);\n",
    "        }\n",
    "        fprintf(file, \"\\n\");\n",
    "    }\n",
    "\n",
    "    fclose(file);\n",
    "}\n",
    "\n",
    "int main(int argc, char* argv[]) {\n",
    "\n",
    "    // validate the parameters\n",
    "    if(argc != 4){\n",
    "        printf(\"Usage: ./stencil N1 N2 ITERATIONS\\n\");\n",
    "        printf(\"N1 N2: grid sizes for the stencil\\n\");\n",
    "        printf(\"ITERATIONS: number of timesteps\\n\");\n",
    "        exit(-1);\n",
    "    }\n",
    "\n",
    "    // number of rows of the grid\n",
    "    size_t nz = atoi(argv[1]);\n",
    "\n",
    "    // number of columns of the grid\n",
    "    size_t nx = atoi(argv[2]);\n",
    "\n",
    "    // number of timesteps\n",
    "    size_t iterations = atoi(argv[3]);    \n",
    "\n",
    "    printf(\"Grid Sizes: %ld x %ld\\n\", nz, nx);\n",
    "    printf(\"Iterations: %ld\\n\", iterations);   \n",
    "\n",
    "    // add the spatial order (halo zone) to the grid size\n",
    "    nz += 2;\n",
    "    nx += 2;\n",
    "\n",
    "    // represent the matrix of wavefield as an array\n",
    "    double *prev_u = (double*) malloc(nz * nx * sizeof(double));\n",
    "    double *next_u = (double*) malloc(nz * nx * sizeof(double));\n",
    "\n",
    "    // represent the matrix of velocities as an array\n",
    "    double *vel_model = (double*) malloc(nz * nx * sizeof(double));\n",
    "\n",
    "    // ************* BEGIN INITIALIZATION *************\n",
    "\n",
    "    printf(\"Initializing ... \\n\");    \n",
    "\n",
    "    // initialize matrix\n",
    "    for(size_t i = 0; i < nz; i++){\n",
    "\n",
    "        size_t offset = i * nx;\n",
    "\n",
    "        for(size_t j = 0; j < nx; j++){\n",
    "            prev_u[offset + j] = 0.0;\n",
    "            next_u[offset + j] = 0.0;\n",
    "            vel_model[offset + j] = V;\n",
    "        }\n",
    "    }    \n",
    "\n",
    "    // add a source to initial wavefield as an initial condition\n",
    "    double val = 1.f;\n",
    "    for(int s = 4; s >= 0; s--){\n",
    "        for(size_t i = nz / 2 - s; i < nz / 2 + s; i++){\n",
    "\n",
    "            size_t offset = i * nx;\n",
    "\n",
    "            for(size_t j = nx / 2 - s; j < nx / 2 + s; j++)\n",
    "                prev_u[offset + j] = val;\n",
    "        }\n",
    "        val *= 0.9;\n",
    "    }\n",
    "\n",
    "    // ************** END INITIALIZATION **************\n",
    "\n",
    "    printf(\"Computing wavefield ... \\n\");   \n",
    "\n",
    "    double dzSquared = DZ * DZ;\n",
    "    double dxSquared = DX * DX;\n",
    "    double dtSquared = DT * DT;    \n",
    "\n",
    "    // get the start time\n",
    "    double start_time = omp_get_wtime();\n",
    "    \n",
    "    #pragma omp target enter data map(to: prev_u[:(nz * nx)])\n",
    "    #pragma omp target enter data map(to: next_u[:(nz * nx)])\n",
    "    #pragma omp target enter data map(to: vel_model[:(nz * nx)])\n",
    "\n",
    "    // wavefield modeling\n",
    "    for(size_t n = 0; n < iterations; n++) {\n",
    "        \n",
    "        size_t block_size_z = 8;\n",
    "        \n",
    "        size_t block_size_x = 4;\n",
    "\n",
    "        #pragma omp target teams distribute parallel for collapse(2)        \n",
    "        for (size_t ii = 1; ii < nz - 1; ii += block_size_z){            \n",
    "            for (size_t jj = 1; jj < nx - 1; jj += block_size_x){\n",
    "                for (size_t i = ii; i < MIN(ii+block_size_z, nz - 1); i++) {\n",
    "                    for (size_t j = jj; j < MIN(jj+block_size_x, nx - 1); j++) {            \n",
    "       \n",
    "                        // index of the current point in the grid\n",
    "                        size_t current = i * nx + j;                \n",
    "\n",
    "                        //neighbors in the horizontal direction\n",
    "                        double value = (prev_u[current + 1] - 2.0 * prev_u[current] + prev_u[current - 1]) / dxSquared;\n",
    "                        //neighbors in the vertical direction\n",
    "                        value += (prev_u[current + nx] - 2.0 * prev_u[current] + prev_u[current - nx]) / dzSquared;                \n",
    "\n",
    "                        value *= dtSquared * vel_model[current] * vel_model[current];\n",
    "                        next_u[current] = 2.0 * prev_u[current] - next_u[current] + value;\n",
    "                    }\n",
    "                }\n",
    "            }\n",
    "        }\n",
    "\n",
    "        // swap arrays for next iteration\n",
    "        double *swap = next_u;\n",
    "        next_u = prev_u;\n",
    "        prev_u = swap;        \n",
    "    }\n",
    "\n",
    "    #pragma omp target exit data map(from: next_u[:(nz * nx)])    \n",
    "\n",
    "    double exec_time = omp_get_wtime() - start_time;\n",
    "\n",
    "    save_grid(nz, nx, next_u);\n",
    "\n",
    "    printf(\"Iterations completed in %f seconds \\n\", exec_time);\n",
    "\n",
    "    free(prev_u);\n",
    "    free(next_u);\n",
    "    free(vel_model);\n",
    "\n",
    "    return 0;\n",
    "}"
   ]
  },
  {
   "cell_type": "code",
   "execution_count": 17,
   "metadata": {},
   "outputs": [
    {
     "name": "stdout",
     "output_type": "stream",
     "text": [
      "\u001b[0;1;35mwarning: \u001b[0m\u001b[1mlinking module '/opt/llvm/lib/libomptarget-nvptx-sm_75.bc': Linking two modules of different target triples: '/opt/llvm/lib/libomptarget-nvptx-sm_75.bc' is 'nvptx64' whereas 'wave_4.c' is 'nvptx64-nvidia-cuda'\n",
      " [-Wlinker-warnings]\u001b[0m\n",
      "1 warning generated.\n"
     ]
    }
   ],
   "source": [
    "!clang -O3 -fopenmp -fopenmp-targets=nvptx64-nvidia-cuda wave_4.c -o wave_4"
   ]
  },
  {
   "cell_type": "code",
   "execution_count": 18,
   "metadata": {},
   "outputs": [
    {
     "name": "stdout",
     "output_type": "stream",
     "text": [
      "Grid Sizes: 1024 x 1024\n",
      "Iterations: 1000\n",
      "Initializing ... \n",
      "Computing wavefield ... \n",
      "Iterations completed in 0.599624 seconds \n"
     ]
    }
   ],
   "source": [
    "!./wave_4 1024 1024 1000"
   ]
  },
  {
   "cell_type": "code",
   "execution_count": 19,
   "metadata": {},
   "outputs": [
    {
     "data": {
      "image/png": "[encoded data removed]",
      "text/plain": [
       "<Figure size 432x288 with 1 Axes>"
      ]
     },
     "metadata": {
      "needs_background": "light"
     },
     "output_type": "display_data"
    }
   ],
   "source": [
    "plot()"
   ]
  },
  {
   "cell_type": "code",
   "execution_count": null,
   "metadata": {},
   "outputs": [],
   "source": []
  }
 ],
 "metadata": {
  "accelerator": "GPU",
  "colab": {
   "collapsed_sections": [],
   "name": "Parte_1-ompGPU-Conceitos_Basicos.ipynb",
   "provenance": []
  },
  "kernelspec": {
   "display_name": "Python 3 (ipykernel)",
   "language": "python",
   "name": "python3"
  },
  "language_info": {
   "codemirror_mode": {
    "name": "ipython",
    "version": 3
   },
   "file_extension": ".py",
   "mimetype": "text/x-python",
   "name": "python",
   "nbconvert_exporter": "python",
   "pygments_lexer": "ipython3",
   "version": "3.8.10"
  }
 },
 "nbformat": 4,
 "nbformat_minor": 1
}
